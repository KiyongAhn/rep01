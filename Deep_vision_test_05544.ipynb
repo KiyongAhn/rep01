{
  "nbformat": 4,
  "nbformat_minor": 0,
  "metadata": {
    "colab": {
      "name": "Deep_vision_test_05544.ipynb",
      "version": "0.3.2",
      "provenance": [],
      "collapsed_sections": [],
      "include_colab_link": true
    },
    "kernelspec": {
      "name": "python3",
      "display_name": "Python 3"
    },
    "accelerator": "GPU"
  },
  "cells": [
    {
      "cell_type": "markdown",
      "metadata": {
        "id": "view-in-github",
        "colab_type": "text"
      },
      "source": [
        "<a href=\"https://colab.research.google.com/github/KiyongAhn/rep01/blob/master/Deep_vision_test_05544.ipynb\" target=\"_parent\"><img src=\"https://colab.research.google.com/assets/colab-badge.svg\" alt=\"Open In Colab\"/></a>"
      ]
    },
    {
      "cell_type": "markdown",
      "metadata": {
        "id": "HZc219MFFibh",
        "colab_type": "text"
      },
      "source": [
        "# My First Convolutional Neural Network\n"
      ]
    },
    {
      "cell_type": "code",
      "metadata": {
        "id": "wY-LJviYFP1w",
        "colab_type": "code",
        "outputId": "e1783640-3f4d-42b6-98f9-c09939c07067",
        "colab": {
          "base_uri": "https://localhost:8080/",
          "height": 35
        }
      },
      "source": [
        "%matplotlib inline\n",
        "%config InlineBackend.figure_format = 'retina'\n",
        "\n",
        "'''\n",
        "라이브러리들을 불러오자.\n",
        "'''\n",
        "import numpy as np\n",
        "import matplotlib.pyplot as plt\n",
        "import tensorflow as tf\n",
        "import keras\n",
        "\n",
        "from keras.utils import np_utils\n",
        "from keras import layers, models\n",
        "from keras import backend\n",
        "\n",
        "import random as rd\n",
        "\n",
        "from sklearn.metrics import accuracy_score"
      ],
      "execution_count": 0,
      "outputs": [
        {
          "output_type": "stream",
          "text": [
            "Using TensorFlow backend.\n"
          ],
          "name": "stderr"
        }
      ]
    },
    {
      "cell_type": "markdown",
      "metadata": {
        "id": "vEExSIEd1NNo",
        "colab_type": "text"
      },
      "source": [
        "**Q1. 아래의 셀에 mnist 데이터를 불러와서,  train_x,  test_x, train_y, test_y 에 담는 코드를 작성하여라**"
      ]
    },
    {
      "cell_type": "code",
      "metadata": {
        "id": "N3TWkoiOFRlV",
        "colab_type": "code",
        "colab": {}
      },
      "source": [
        "(train_x, train_y), (test_x, test_y) = tf.keras.datasets.mnist.load_data()"
      ],
      "execution_count": 0,
      "outputs": []
    },
    {
      "cell_type": "markdown",
      "metadata": {
        "id": "xfb4Gzdk2acv",
        "colab_type": "text"
      },
      "source": [
        "**위의 셀을 완성하시고, 복사하여 시험지에 붙여넣어주세요.**"
      ]
    },
    {
      "cell_type": "code",
      "metadata": {
        "id": "8KNvSXY8FNWW",
        "colab_type": "code",
        "outputId": "41ce82d1-dcaa-47ce-aa89-4ddce519d56b",
        "colab": {
          "base_uri": "https://localhost:8080/",
          "height": 35
        }
      },
      "source": [
        "print(train_x.shape, train_y.shape, test_x.shape, test_y.shape)"
      ],
      "execution_count": 0,
      "outputs": [
        {
          "output_type": "stream",
          "text": [
            "(60000, 28, 28) (60000,) (10000, 28, 28) (10000,)\n"
          ],
          "name": "stdout"
        }
      ]
    },
    {
      "cell_type": "code",
      "metadata": {
        "id": "PoFKLB2cPyJF",
        "colab_type": "code",
        "colab": {}
      },
      "source": [
        "# One Hot Encoding\n",
        "train_y = keras.utils.to_categorical(train_y)\n",
        "test_y = keras.utils.to_categorical(test_y)"
      ],
      "execution_count": 0,
      "outputs": []
    },
    {
      "cell_type": "code",
      "metadata": {
        "id": "99f0aagKM5Zl",
        "colab_type": "code",
        "outputId": "747a4adc-da5f-435e-d0a5-1acd6df3dfe4",
        "colab": {
          "base_uri": "https://localhost:8080/",
          "height": 35
        }
      },
      "source": [
        "train_x = train_x.reshape(train_x.shape[0],28,28,1)\n",
        "test_x = test_x.reshape(test_x.shape[0],28,28,1)\n",
        "print(train_x.shape, train_y.shape, test_x.shape, test_y.shape)"
      ],
      "execution_count": 0,
      "outputs": [
        {
          "output_type": "stream",
          "text": [
            "(60000, 28, 28, 1) (60000, 10) (10000, 28, 28, 1) (10000, 10)\n"
          ],
          "name": "stdout"
        }
      ]
    },
    {
      "cell_type": "code",
      "metadata": {
        "id": "wDay4MrZGkNl",
        "colab_type": "code",
        "outputId": "d0379138-2ac0-4f89-9bc9-aaadabaf50ac",
        "colab": {
          "base_uri": "https://localhost:8080/",
          "height": 35
        }
      },
      "source": [
        "print('max :', train_x.max(),'  min :', train_x.min())"
      ],
      "execution_count": 0,
      "outputs": [
        {
          "output_type": "stream",
          "text": [
            "max : 255   min : 0\n"
          ],
          "name": "stdout"
        }
      ]
    },
    {
      "cell_type": "code",
      "metadata": {
        "id": "DPFeq7FvGkyI",
        "colab_type": "code",
        "outputId": "9118ae11-3af2-4b79-f679-24f54ee93468",
        "colab": {
          "base_uri": "https://localhost:8080/",
          "height": 35
        }
      },
      "source": [
        "max_num = train_x.max()\n",
        "\n",
        "train_x = train_x/max_num\n",
        "test_x = test_x/max_num\n",
        "\n",
        "print('max :', train_x.max(),'  min :', train_x.min())"
      ],
      "execution_count": 0,
      "outputs": [
        {
          "output_type": "stream",
          "text": [
            "max : 1.0   min : 0.0\n"
          ],
          "name": "stdout"
        }
      ]
    },
    {
      "cell_type": "code",
      "metadata": {
        "id": "Zt3DEJ6fHDGo",
        "colab_type": "code",
        "outputId": "75ea6c9d-3625-47b2-fdc5-70d73cb05ae3",
        "colab": {
          "base_uri": "https://localhost:8080/",
          "height": 163
        }
      },
      "source": [
        "# 혹시 이미 그려둔 그래프가 있다면 날려줘!\n",
        "keras.backend.clear_session()\n",
        "\n",
        "# model에 순차적으로 레이어를 쌓아가겠다는 의도!\n",
        "model = keras.models.Sequential()"
      ],
      "execution_count": 0,
      "outputs": [
        {
          "output_type": "stream",
          "text": [
            "WARNING: Logging before flag parsing goes to stderr.\n",
            "W0712 07:39:46.384089 139994668844928 deprecation_wrapper.py:119] From /usr/local/lib/python3.6/dist-packages/keras/backend/tensorflow_backend.py:95: The name tf.reset_default_graph is deprecated. Please use tf.compat.v1.reset_default_graph instead.\n",
            "\n",
            "W0712 07:39:46.388757 139994668844928 deprecation_wrapper.py:119] From /usr/local/lib/python3.6/dist-packages/keras/backend/tensorflow_backend.py:98: The name tf.placeholder_with_default is deprecated. Please use tf.compat.v1.placeholder_with_default instead.\n",
            "\n",
            "W0712 07:39:46.410616 139994668844928 deprecation_wrapper.py:119] From /usr/local/lib/python3.6/dist-packages/keras/backend/tensorflow_backend.py:102: The name tf.get_default_graph is deprecated. Please use tf.compat.v1.get_default_graph instead.\n",
            "\n"
          ],
          "name": "stderr"
        }
      ]
    },
    {
      "cell_type": "markdown",
      "metadata": {
        "id": "j8a8QR7E1mBX",
        "colab_type": "text"
      },
      "source": [
        "**Q2. 아래의 셀을 조건에 맞추어 수정하여라.**\n",
        "\n",
        "1. 2개의 컨볼루셔널 레이어를 사용한다.\n",
        "    * 첫번째 레이어에서는 필터를 16개 사용한다.\n",
        "    * 두번째 레이어에서는 필터를 32개 사용한다.\n",
        "2. 커널 사이즈는 3 x 3으로 한다.\n",
        "3. activation은 'elu'로 한다.\n",
        "4. input_shape 도 알맞게 완성한다.\n",
        "5. 그 외는 사용하지 않는다."
      ]
    },
    {
      "cell_type": "code",
      "metadata": {
        "id": "CKZ3zo0p1rsN",
        "colab_type": "code",
        "outputId": "9bd1b3a6-1735-4094-abcf-d10e76c17bee",
        "colab": {
          "base_uri": "https://localhost:8080/",
          "height": 109
        }
      },
      "source": [
        "model.add( layers.Conv2D(filters = 16,\n",
        "                         kernel_size = (3, 3),\n",
        "                         activation='elu',\n",
        "                         input_shape = (28, 28, 1))        )\n",
        "               \n",
        "model.add( layers.Conv2D(filters = 32,\n",
        "                         kernel_size = (3, 3),\n",
        "                         activation='elu')  \n",
        "         )"
      ],
      "execution_count": 0,
      "outputs": [
        {
          "output_type": "stream",
          "text": [
            "W0712 07:39:48.628570 139994668844928 deprecation_wrapper.py:119] From /usr/local/lib/python3.6/dist-packages/keras/backend/tensorflow_backend.py:517: The name tf.placeholder is deprecated. Please use tf.compat.v1.placeholder instead.\n",
            "\n",
            "W0712 07:39:48.636925 139994668844928 deprecation_wrapper.py:119] From /usr/local/lib/python3.6/dist-packages/keras/backend/tensorflow_backend.py:4138: The name tf.random_uniform is deprecated. Please use tf.random.uniform instead.\n",
            "\n"
          ],
          "name": "stderr"
        }
      ]
    },
    {
      "cell_type": "markdown",
      "metadata": {
        "id": "dnmOx4hs3yAT",
        "colab_type": "text"
      },
      "source": [
        "**위의 셀을 완성하고, 복사하여 시험지에 붙여넣어주세요.**"
      ]
    },
    {
      "cell_type": "markdown",
      "metadata": {
        "id": "7hY8xM5H4Cqe",
        "colab_type": "text"
      },
      "source": [
        "**Q3. Convolutional Layer의 다음에 Fully Connected Layer를 사용하려면 모양을 바꿔야 한다. 그러기 위해 다음의 코드를 완성하여라.**"
      ]
    },
    {
      "cell_type": "code",
      "metadata": {
        "id": "duBdkp_z4a83",
        "colab_type": "code",
        "colab": {}
      },
      "source": [
        "model.add( layers.Flatten() )"
      ],
      "execution_count": 0,
      "outputs": []
    },
    {
      "cell_type": "markdown",
      "metadata": {
        "id": "WVbHSRlT4cPJ",
        "colab_type": "text"
      },
      "source": [
        "**위의 셀을 완성하고, 복사하여 시험지에 붙여넣어주세요.**"
      ]
    },
    {
      "cell_type": "markdown",
      "metadata": {
        "id": "C9hF7XqH5RPa",
        "colab_type": "text"
      },
      "source": [
        "**Q4. 아래의 셀을 조건에 맞추어 수정하여라.**\n",
        "\n",
        "1. 단순한 artificial neural network를 이어 붙이려 한다.\n",
        "1. 노드 512개 짜리, activation은 elu인 히든레이어를 하나 작성하여 조립한다.\n",
        "2. output layer를 mnist문제에 맞게 작성한다.\n"
      ]
    },
    {
      "cell_type": "markdown",
      "metadata": {
        "id": "2BUYnaiXH_rN",
        "colab_type": "text"
      },
      "source": [
        ""
      ]
    },
    {
      "cell_type": "code",
      "metadata": {
        "id": "KufgiQ831rv5",
        "colab_type": "code",
        "colab": {}
      },
      "source": [
        "model.add( layers.Dense(512, activation = 'elu')  )    \n",
        "model.add( layers.Dense(10, activation = 'softmax') )        "
      ],
      "execution_count": 0,
      "outputs": []
    },
    {
      "cell_type": "markdown",
      "metadata": {
        "id": "HDo4QfK_6T3O",
        "colab_type": "text"
      },
      "source": [
        "**위의 셀을 완성하고, 복사하여 시험지에 붙여넣어주세요.**"
      ]
    },
    {
      "cell_type": "code",
      "metadata": {
        "id": "VFuZN-dTHTyL",
        "colab_type": "code",
        "colab": {}
      },
      "source": [
        ""
      ],
      "execution_count": 0,
      "outputs": []
    },
    {
      "cell_type": "code",
      "metadata": {
        "id": "UcWg6ofZ544c",
        "colab_type": "code",
        "outputId": "f3f5e67b-b3a0-444f-d9d8-8156d2224b9e",
        "colab": {
          "base_uri": "https://localhost:8080/",
          "height": 73
        }
      },
      "source": [
        "model.compile(loss = keras.losses.categorical_crossentropy,\n",
        "              optimizer = 'adam',\n",
        "              metrics=['accuracy'])"
      ],
      "execution_count": 0,
      "outputs": [
        {
          "output_type": "stream",
          "text": [
            "W0712 07:40:06.999648 139994668844928 deprecation_wrapper.py:119] From /usr/local/lib/python3.6/dist-packages/keras/optimizers.py:790: The name tf.train.Optimizer is deprecated. Please use tf.compat.v1.train.Optimizer instead.\n",
            "\n"
          ],
          "name": "stderr"
        }
      ]
    },
    {
      "cell_type": "code",
      "metadata": {
        "id": "1rUCccKfLyvZ",
        "colab_type": "code",
        "outputId": "2fd0beca-7240-4476-ddce-68dbec9d2d0b",
        "colab": {
          "base_uri": "https://localhost:8080/",
          "height": 323
        }
      },
      "source": [
        "model.summary()"
      ],
      "execution_count": 0,
      "outputs": [
        {
          "output_type": "stream",
          "text": [
            "_________________________________________________________________\n",
            "Layer (type)                 Output Shape              Param #   \n",
            "=================================================================\n",
            "conv2d_1 (Conv2D)            (None, 26, 26, 16)        160       \n",
            "_________________________________________________________________\n",
            "conv2d_2 (Conv2D)            (None, 24, 24, 32)        4640      \n",
            "_________________________________________________________________\n",
            "flatten_1 (Flatten)          (None, 18432)             0         \n",
            "_________________________________________________________________\n",
            "dense_1 (Dense)              (None, 512)               9437696   \n",
            "_________________________________________________________________\n",
            "dense_2 (Dense)              (None, 10)                5130      \n",
            "=================================================================\n",
            "Total params: 9,447,626\n",
            "Trainable params: 9,447,626\n",
            "Non-trainable params: 0\n",
            "_________________________________________________________________\n"
          ],
          "name": "stdout"
        }
      ]
    },
    {
      "cell_type": "code",
      "metadata": {
        "id": "knZfBr3OPjap",
        "colab_type": "code",
        "outputId": "03d31808-23f5-486e-c07f-9b094378550e",
        "colab": {
          "base_uri": "https://localhost:8080/",
          "height": 649
        }
      },
      "source": [
        "# 데이터를 넣어서 학습시키자!\n",
        "history = model.fit(train_x, train_y, epochs=15, batch_size = 2000,\n",
        "                    validation_split = 0.2, verbose=1)\n"
      ],
      "execution_count": 0,
      "outputs": [
        {
          "output_type": "stream",
          "text": [
            "W0712 07:40:11.182416 139994668844928 deprecation.py:323] From /usr/local/lib/python3.6/dist-packages/tensorflow/python/ops/math_grad.py:1250: add_dispatch_support.<locals>.wrapper (from tensorflow.python.ops.array_ops) is deprecated and will be removed in a future version.\n",
            "Instructions for updating:\n",
            "Use tf.where in 2.0, which has the same broadcast rule as np.where\n"
          ],
          "name": "stderr"
        },
        {
          "output_type": "stream",
          "text": [
            "Train on 48000 samples, validate on 12000 samples\n",
            "Epoch 1/15\n",
            "48000/48000 [==============================] - 6s 123us/step - loss: 0.6074 - acc: 0.8083 - val_loss: 0.3222 - val_acc: 0.9098\n",
            "Epoch 2/15\n",
            "48000/48000 [==============================] - 4s 75us/step - loss: 0.2963 - acc: 0.9161 - val_loss: 0.2639 - val_acc: 0.9263\n",
            "Epoch 3/15\n",
            "48000/48000 [==============================] - 4s 75us/step - loss: 0.2469 - acc: 0.9307 - val_loss: 0.2301 - val_acc: 0.9360\n",
            "Epoch 4/15\n",
            "48000/48000 [==============================] - 4s 75us/step - loss: 0.2014 - acc: 0.9423 - val_loss: 0.1922 - val_acc: 0.9459\n",
            "Epoch 5/15\n",
            "48000/48000 [==============================] - 4s 75us/step - loss: 0.1502 - acc: 0.9560 - val_loss: 0.1465 - val_acc: 0.9577\n",
            "Epoch 6/15\n",
            "48000/48000 [==============================] - 4s 76us/step - loss: 0.1072 - acc: 0.9684 - val_loss: 0.1243 - val_acc: 0.9645\n",
            "Epoch 7/15\n",
            "48000/48000 [==============================] - 4s 76us/step - loss: 0.0803 - acc: 0.9767 - val_loss: 0.1058 - val_acc: 0.9687\n",
            "Epoch 8/15\n",
            "48000/48000 [==============================] - 4s 76us/step - loss: 0.0581 - acc: 0.9827 - val_loss: 0.0978 - val_acc: 0.9706\n",
            "Epoch 9/15\n",
            "48000/48000 [==============================] - 4s 75us/step - loss: 0.0441 - acc: 0.9866 - val_loss: 0.0922 - val_acc: 0.9742\n",
            "Epoch 10/15\n",
            "48000/48000 [==============================] - 4s 75us/step - loss: 0.0326 - acc: 0.9906 - val_loss: 0.0904 - val_acc: 0.9748\n",
            "Epoch 11/15\n",
            "48000/48000 [==============================] - 4s 75us/step - loss: 0.0232 - acc: 0.9936 - val_loss: 0.0835 - val_acc: 0.9765\n",
            "Epoch 12/15\n",
            "48000/48000 [==============================] - 4s 75us/step - loss: 0.0155 - acc: 0.9962 - val_loss: 0.0856 - val_acc: 0.9763\n",
            "Epoch 13/15\n",
            "48000/48000 [==============================] - 4s 75us/step - loss: 0.0109 - acc: 0.9976 - val_loss: 0.0884 - val_acc: 0.9773\n",
            "Epoch 14/15\n",
            "48000/48000 [==============================] - 4s 75us/step - loss: 0.0083 - acc: 0.9982 - val_loss: 0.0855 - val_acc: 0.9793\n",
            "Epoch 15/15\n",
            "48000/48000 [==============================] - 4s 76us/step - loss: 0.0061 - acc: 0.9989 - val_loss: 0.0888 - val_acc: 0.9783\n"
          ],
          "name": "stdout"
        }
      ]
    },
    {
      "cell_type": "code",
      "metadata": {
        "id": "FJMYuSnQPoqt",
        "colab_type": "code",
        "outputId": "54f09899-06f9-483a-f3e0-8db76d8a7b7b",
        "colab": {
          "base_uri": "https://localhost:8080/",
          "height": 53
        }
      },
      "source": [
        "performance_test = model.evaluate(test_x, test_y, batch_size = 1024)\n",
        "\n",
        "print('Test Loss : {:.6f},  Test Accuracy : {:.3f}%'.format(performance_test[0], performance_test[1]*100))"
      ],
      "execution_count": 0,
      "outputs": [
        {
          "output_type": "stream",
          "text": [
            "10000/10000 [==============================] - 0s 47us/step\n",
            "Test Loss : 0.077154,  Test Accuracy : 98.020%\n"
          ],
          "name": "stdout"
        }
      ]
    },
    {
      "cell_type": "code",
      "metadata": {
        "id": "H5Ir4b-DQ3VG",
        "colab_type": "code",
        "outputId": "d5de674a-6f93-497e-8fd6-0c97e15baff4",
        "colab": {
          "base_uri": "https://localhost:8080/",
          "height": 294
        }
      },
      "source": [
        "if not isinstance(history, dict):\n",
        "    history = history.history\n",
        "\n",
        "plt.plot(history['acc'])\n",
        "plt.plot(history['val_acc'])\n",
        "plt.title('Accuracy : Training vs Validation')\n",
        "plt.ylabel('Accuracy')\n",
        "plt.xlabel('Epoch')\n",
        "plt.legend(['Training', 'Validation'], loc=0)\n",
        "plt.show()"
      ],
      "execution_count": 0,
      "outputs": [
        {
          "output_type": "display_data",
          "data": {
            "image/png": "[encoded data removed]",
            "text/plain": [
              "<Figure size 432x288 with 1 Axes>"
            ]
          },
          "metadata": {
            "tags": [],
            "image/png": {
              "width": 400,
              "height": 277
            }
          }
        }
      ]
    },
    {
      "cell_type": "code",
      "metadata": {
        "id": "mfiGA-DvQ42n",
        "colab_type": "code",
        "outputId": "e4369123-de59-4657-deac-89e75274c2d6",
        "colab": {
          "base_uri": "https://localhost:8080/",
          "height": 294
        }
      },
      "source": [
        "if not isinstance(history, dict):\n",
        "    history = history.history\n",
        "\n",
        "plt.plot(history['loss'])\n",
        "plt.plot(history['val_loss'])\n",
        "plt.title('Loss : Training vs Validation')\n",
        "plt.ylabel('Loss')\n",
        "plt.xlabel('Epoch')\n",
        "plt.legend(['Training', 'Validation'], loc=0)\n",
        "plt.show()"
      ],
      "execution_count": 0,
      "outputs": [
        {
          "output_type": "display_data",
          "data": {
            "image/png": "[encoded data removed]",
            "text/plain": [
              "<Figure size 432x288 with 1 Axes>"
            ]
          },
          "metadata": {
            "tags": [],
            "image/png": {
              "width": 387,
              "height": 277
            }
          }
        }
      ]
    },
    {
      "cell_type": "code",
      "metadata": {
        "id": "ErRidyIDTAXd",
        "colab_type": "code",
        "outputId": "821eeea9-e82b-4520-abca-1d2b99418456",
        "colab": {
          "base_uri": "https://localhost:8080/",
          "height": 71
        }
      },
      "source": [
        "pred_train = model.predict(train_x)\n",
        "pred_test = model.predict(test_x)\n",
        "\n",
        "single_pred_train = pred_train.argmax(axis=1)\n",
        "single_pred_test = pred_test.argmax(axis=1)\n",
        "\n",
        "\n",
        "logi_train_accuracy = accuracy_score(train_y.argmax(axis=1), single_pred_train)\n",
        "logi_test_accuracy = accuracy_score(test_y.argmax(axis=1), single_pred_test)\n",
        "\n",
        "\n",
        "print('CNN')\n",
        "print('트레이닝 정확도 : {:.2f}%'.format(logi_train_accuracy*100))\n",
        "print('테스트 정확도 : {:.2f}%'.format(logi_test_accuracy*100))"
      ],
      "execution_count": 0,
      "outputs": [
        {
          "output_type": "stream",
          "text": [
            "CNN\n",
            "트레이닝 정확도 : 99.54%\n",
            "테스트 정확도 : 98.02%\n"
          ],
          "name": "stdout"
        }
      ]
    },
    {
      "cell_type": "code",
      "metadata": {
        "id": "FzghoJUT6Zt4",
        "colab_type": "code",
        "colab": {}
      },
      "source": [
        ""
      ],
      "execution_count": 0,
      "outputs": []
    }
  ]
}
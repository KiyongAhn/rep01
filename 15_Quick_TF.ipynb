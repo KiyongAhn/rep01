{
  "nbformat": 4,
  "nbformat_minor": 0,
  "metadata": {
    "colab": {
      "name": "15_Quick_TF.ipynb",
      "version": "0.3.2",
      "provenance": [],
      "collapsed_sections": [],
      "include_colab_link": true
    },
    "kernelspec": {
      "name": "python3",
      "display_name": "Python 3"
    },
    "accelerator": "GPU"
  },
  "cells": [
    {
      "cell_type": "markdown",
      "metadata": {
        "id": "view-in-github",
        "colab_type": "text"
      },
      "source": [
        "<a href=\"https://colab.research.google.com/github/KiyongAhn/rep01/blob/master/15_Quick_TF.ipynb\" target=\"_parent\"><img src=\"https://colab.research.google.com/assets/colab-badge.svg\" alt=\"Open In Colab\"/></a>"
      ]
    },
    {
      "cell_type": "markdown",
      "metadata": {
        "id": "cVB9pY-v8uv5",
        "colab_type": "text"
      },
      "source": [
        "# Tensor Flow 맛보기!\n",
        "\n",
        "## MNIST\n",
        "\n",
        "### Your name :     \n",
        "\n",
        "### Kaggle Link for exercise :\n",
        "* [Digit Recognizer](https://www.kaggle.com/c/digit-recognizer) : \n",
        "\n",
        "#### 실습목표<br>\n",
        "1. TensorFlow의 모델링 아이디어를 이해한다.\n",
        "2. (Optional)모든 코드를 이해하고 사용할 줄 안다.\n",
        "---------------\n",
        "Rayleigh Kim @ D:plus\n"
      ]
    },
    {
      "cell_type": "code",
      "metadata": {
        "id": "GVvCef6A8uv6",
        "colab_type": "code",
        "colab": {}
      },
      "source": [
        "'''\n",
        "matplolib inline 명령어를 통해서\n",
        "matplot으로 그리는 플롯들을 주피터 노트북 내에서 볼 수 있게 해준다.\n",
        "포맷을 retina로 바꾸면 그래프의 화질이 훨씬 좋아진다.\n",
        "'''\n",
        "%matplotlib inline\n",
        "%config InlineBackend.figure_format = 'retina'\n",
        "\n",
        "'''\n",
        "라이브러리들을 불러오자.\n",
        "'''\n",
        "import numpy as np\n",
        "import pandas as pd\n",
        "import matplotlib.pyplot as plt\n",
        "import tensorflow as tf\n",
        "import random as rd\n",
        "\n",
        "from sklearn.metrics import accuracy_score"
      ],
      "execution_count": 0,
      "outputs": []
    },
    {
      "cell_type": "markdown",
      "metadata": {
        "id": "N8eruHyUkrBJ",
        "colab_type": "text"
      },
      "source": [
        "## Data Loading & Preparation"
      ]
    },
    {
      "cell_type": "code",
      "metadata": {
        "id": "4fIRYRQ1iN6H",
        "colab_type": "code",
        "outputId": "b123f9ee-9228-498c-c3b7-d20cb779752a",
        "colab": {
          "base_uri": "https://localhost:8080/",
          "height": 52
        }
      },
      "source": [
        "(train_x, train_y), (test_x, test_y) = tf.keras.datasets.mnist.load_data()"
      ],
      "execution_count": 0,
      "outputs": [
        {
          "output_type": "stream",
          "text": [
            "Downloading data from https://storage.googleapis.com/tensorflow/tf-keras-datasets/mnist.npz\n",
            "11493376/11490434 [==============================] - 0s 0us/step\n"
          ],
          "name": "stdout"
        }
      ]
    },
    {
      "cell_type": "code",
      "metadata": {
        "id": "iFPy32c3kpxl",
        "colab_type": "code",
        "outputId": "25010a81-d9ca-4822-f592-06c25ce8bd05",
        "colab": {
          "base_uri": "https://localhost:8080/",
          "height": 34
        }
      },
      "source": [
        "print(train_x.shape, train_y.shape, test_x.shape, test_y.shape)"
      ],
      "execution_count": 0,
      "outputs": [
        {
          "output_type": "stream",
          "text": [
            "(60000, 28, 28) (60000,) (10000, 28, 28) (10000,)\n"
          ],
          "name": "stdout"
        }
      ]
    },
    {
      "cell_type": "code",
      "metadata": {
        "id": "7LRAB0OAlR3d",
        "colab_type": "code",
        "outputId": "515cb88f-1cb4-4f0c-b915-eef84d9c1b3f",
        "colab": {
          "base_uri": "https://localhost:8080/",
          "height": 302
        }
      },
      "source": [
        "'''\n",
        "Ctrl+Enter를 이용하여\n",
        "반복 실행 해보자!\n",
        "'''\n",
        "\n",
        "id = rd.randrange(0,10000)\n",
        "\n",
        "print('id = {}'.format(id))\n",
        "print('다음 그림은 숫자 {} 입니다.'.format(test_y[id]))\n",
        "plt.imshow(test_x[id])\n",
        "plt.show()"
      ],
      "execution_count": 0,
      "outputs": [
        {
          "output_type": "stream",
          "text": [
            "id = 8203\n",
            "다음 그림은 숫자 7 입니다.\n"
          ],
          "name": "stdout"
        },
        {
          "output_type": "display_data",
          "data": {
            "image/png": "[encoded data removed]",
            "text/plain": [
              "<Figure size 432x288 with 1 Axes>"
            ]
          },
          "metadata": {
            "tags": [],
            "image/png": {
              "width": 253,
              "height": 250
            }
          }
        }
      ]
    },
    {
      "cell_type": "markdown",
      "metadata": {
        "id": "NQBFtpvgoLvW",
        "colab_type": "text"
      },
      "source": [
        "단순한 로지스틱 회귀, 뉴럴넷은 28x28의 2차원 데이터를 인풋으로 받지 못한다.\n",
        "\n",
        "이미지[28 by 28] 를 납작한 array [784] 로 바꿔줄 필요가 있다."
      ]
    },
    {
      "cell_type": "code",
      "metadata": {
        "id": "-ZlcNv7Miclp",
        "colab_type": "code",
        "outputId": "21237d62-17e8-469b-82e5-3acd254bd2ae",
        "colab": {
          "base_uri": "https://localhost:8080/",
          "height": 35
        }
      },
      "source": [
        "train_x = train_x.reshape([train_x.shape[0],-1])\n",
        "test_x = test_x.reshape([test_x.shape[0],-1])\n",
        "\n",
        "print(train_x.shape, test_x.shape)"
      ],
      "execution_count": 0,
      "outputs": [
        {
          "output_type": "stream",
          "text": [
            "(60000, 784) (10000, 784)\n"
          ],
          "name": "stdout"
        }
      ]
    },
    {
      "cell_type": "markdown",
      "metadata": {
        "id": "oUg_uZe1pN1E",
        "colab_type": "text"
      },
      "source": [
        "이미지의 값이기 때문에 0 ~ 255 사이의 값을 갖는다.\n",
        "\n",
        "전부 0~1사이의 값을 갖도록 scale을 조정하자!"
      ]
    },
    {
      "cell_type": "code",
      "metadata": {
        "id": "4rrrccEspYHj",
        "colab_type": "code",
        "outputId": "b988398c-e15b-4059-e9ed-18fd182038a7",
        "colab": {
          "base_uri": "https://localhost:8080/",
          "height": 35
        }
      },
      "source": [
        "print('max :', train_x.max(),'  min :', train_x.min())"
      ],
      "execution_count": 0,
      "outputs": [
        {
          "output_type": "stream",
          "text": [
            "max : 255   min : 0\n"
          ],
          "name": "stdout"
        }
      ]
    },
    {
      "cell_type": "code",
      "metadata": {
        "id": "VwHPikDypVJ1",
        "colab_type": "code",
        "outputId": "42f04ce6-1a52-454d-bcf6-35c86fdb115e",
        "colab": {
          "base_uri": "https://localhost:8080/",
          "height": 35
        }
      },
      "source": [
        "max_num = train_x.max()\n",
        "\n",
        "train_x = train_x/max_num\n",
        "test_x = test_x/max_num\n",
        "\n",
        "print('max :', train_x.max(),'  min :', train_x.min())"
      ],
      "execution_count": 0,
      "outputs": [
        {
          "output_type": "stream",
          "text": [
            "max : 1.0   min : 0.0\n"
          ],
          "name": "stdout"
        }
      ]
    },
    {
      "cell_type": "markdown",
      "metadata": {
        "id": "EcooiW9MozGD",
        "colab_type": "text"
      },
      "source": [
        "## Logistic(Softmax) Regression Scikit-Learn Ver."
      ]
    },
    {
      "cell_type": "code",
      "metadata": {
        "id": "OOXnGGVkyZBS",
        "colab_type": "code",
        "colab": {}
      },
      "source": [
        "# 1. 사용할 것을 불러온다.\n",
        "from sklearn.neural_network import MLPClassifier"
      ],
      "execution_count": 0,
      "outputs": []
    },
    {
      "cell_type": "code",
      "metadata": {
        "id": "JmAKNql2tn0U",
        "colab_type": "code",
        "colab": {}
      },
      "source": [
        "# 2. 사용할 모델 선언한다!\n",
        "logistic = MLPClassifier(hidden_layer_sizes=(),\n",
        "                         early_stopping=True ,verbose=True)"
      ],
      "execution_count": 0,
      "outputs": []
    },
    {
      "cell_type": "code",
      "metadata": {
        "id": "J0YHq6Bct9kf",
        "colab_type": "code",
        "outputId": "c4cc4ab6-c08b-4439-9f06-27baa7fd8b0b",
        "colab": {
          "base_uri": "https://localhost:8080/",
          "height": 1000
        }
      },
      "source": [
        "# 3.모델을 학습시킨다.   .fit\n",
        "logistic.fit(train_x, train_y)"
      ],
      "execution_count": 0,
      "outputs": [
        {
          "output_type": "stream",
          "text": [
            "Iteration 1, loss = 0.84839746\n",
            "Validation score: 0.885333\n",
            "Iteration 2, loss = 0.41756675\n",
            "Validation score: 0.903333\n",
            "Iteration 3, loss = 0.35501876\n",
            "Validation score: 0.910667\n",
            "Iteration 4, loss = 0.32637088\n",
            "Validation score: 0.913500\n",
            "Iteration 5, loss = 0.30925542\n",
            "Validation score: 0.917500\n",
            "Iteration 6, loss = 0.29778539\n",
            "Validation score: 0.922000\n",
            "Iteration 7, loss = 0.28937707\n",
            "Validation score: 0.922833\n",
            "Iteration 8, loss = 0.28279430\n",
            "Validation score: 0.921500\n",
            "Iteration 9, loss = 0.27751089\n",
            "Validation score: 0.920667\n",
            "Iteration 10, loss = 0.27341162\n",
            "Validation score: 0.923667\n",
            "Iteration 11, loss = 0.27005862\n",
            "Validation score: 0.923667\n",
            "Iteration 12, loss = 0.26668971\n",
            "Validation score: 0.923333\n",
            "Iteration 13, loss = 0.26400524\n",
            "Validation score: 0.923833\n",
            "Iteration 14, loss = 0.26193197\n",
            "Validation score: 0.923333\n",
            "Iteration 15, loss = 0.25956663\n",
            "Validation score: 0.923500\n",
            "Iteration 16, loss = 0.25752879\n",
            "Validation score: 0.924500\n",
            "Iteration 17, loss = 0.25598903\n",
            "Validation score: 0.923000\n",
            "Iteration 18, loss = 0.25431241\n",
            "Validation score: 0.925667\n",
            "Iteration 19, loss = 0.25309638\n",
            "Validation score: 0.923500\n",
            "Iteration 20, loss = 0.25151155\n",
            "Validation score: 0.923167\n",
            "Iteration 21, loss = 0.25052779\n",
            "Validation score: 0.922000\n",
            "Iteration 22, loss = 0.24912963\n",
            "Validation score: 0.922667\n",
            "Iteration 23, loss = 0.24896118\n",
            "Validation score: 0.924833\n",
            "Iteration 24, loss = 0.24730310\n",
            "Validation score: 0.923833\n",
            "Iteration 25, loss = 0.24633498\n",
            "Validation score: 0.924500\n",
            "Iteration 26, loss = 0.24574776\n",
            "Validation score: 0.925333\n",
            "Iteration 27, loss = 0.24486090\n",
            "Validation score: 0.922500\n",
            "Iteration 28, loss = 0.24396626\n",
            "Validation score: 0.926333\n",
            "Iteration 29, loss = 0.24329858\n",
            "Validation score: 0.923833\n",
            "Iteration 30, loss = 0.24247249\n",
            "Validation score: 0.922000\n",
            "Iteration 31, loss = 0.24203935\n",
            "Validation score: 0.925167\n",
            "Iteration 32, loss = 0.24146353\n",
            "Validation score: 0.924833\n",
            "Iteration 33, loss = 0.24055263\n",
            "Validation score: 0.925500\n",
            "Iteration 34, loss = 0.24028063\n",
            "Validation score: 0.925000\n",
            "Iteration 35, loss = 0.23945246\n",
            "Validation score: 0.924333\n",
            "Iteration 36, loss = 0.23924651\n",
            "Validation score: 0.926500\n",
            "Iteration 37, loss = 0.23871302\n",
            "Validation score: 0.922833\n",
            "Iteration 38, loss = 0.23771309\n",
            "Validation score: 0.924833\n",
            "Iteration 39, loss = 0.23743125\n",
            "Validation score: 0.923833\n",
            "Iteration 40, loss = 0.23723049\n",
            "Validation score: 0.925667\n",
            "Iteration 41, loss = 0.23691163\n",
            "Validation score: 0.924667\n",
            "Iteration 42, loss = 0.23635980\n",
            "Validation score: 0.924333\n",
            "Iteration 43, loss = 0.23598154\n",
            "Validation score: 0.925167\n",
            "Iteration 44, loss = 0.23570827\n",
            "Validation score: 0.923500\n",
            "Iteration 45, loss = 0.23521217\n",
            "Validation score: 0.925167\n",
            "Iteration 46, loss = 0.23498934\n",
            "Validation score: 0.922667\n",
            "Iteration 47, loss = 0.23413674\n",
            "Validation score: 0.923167\n",
            "Validation score did not improve more than tol=0.000100 for 10 consecutive epochs. Stopping.\n"
          ],
          "name": "stdout"
        },
        {
          "output_type": "execute_result",
          "data": {
            "text/plain": [
              "MLPClassifier(activation='relu', alpha=0.0001, batch_size='auto', beta_1=0.9,\n",
              "              beta_2=0.999, early_stopping=True, epsilon=1e-08,\n",
              "              hidden_layer_sizes=(), learning_rate='constant',\n",
              "              learning_rate_init=0.001, max_iter=200, momentum=0.9,\n",
              "              n_iter_no_change=10, nesterovs_momentum=True, power_t=0.5,\n",
              "              random_state=None, shuffle=True, solver='adam', tol=0.0001,\n",
              "              validation_fraction=0.1, verbose=True, warm_start=False)"
            ]
          },
          "metadata": {
            "tags": []
          },
          "execution_count": 20
        }
      ]
    },
    {
      "cell_type": "code",
      "metadata": {
        "id": "4xMkZdF8tnqt",
        "colab_type": "code",
        "outputId": "8166194b-5a57-4da3-aa22-c4ea283fe0d0",
        "colab": {
          "base_uri": "https://localhost:8080/",
          "height": 71
        }
      },
      "source": [
        "# 4. 예측값을 만든다.   .predict\n",
        "logistic_pred_train = logistic.predict(train_x)\n",
        "logistic_pred_test = logistic.predict(test_x)\n",
        "\n",
        "logi_train_accuracy = accuracy_score(train_y, logistic_pred_train)\n",
        "logi_test_accuracy = accuracy_score(test_y, logistic_pred_test)\n",
        "\n",
        "print('로지스틱 리그레션')\n",
        "print('트레이닝 정확도 : {:.2f}%'.format(logi_train_accuracy*100))\n",
        "print('테스트 정확도 : {:.2f}%'.format(logi_test_accuracy*100))"
      ],
      "execution_count": 0,
      "outputs": [
        {
          "output_type": "stream",
          "text": [
            "로지스틱 리그레션\n",
            "트레이닝 정확도 : 93.38%\n",
            "테스트 정확도 : 92.63%\n"
          ],
          "name": "stdout"
        }
      ]
    },
    {
      "cell_type": "code",
      "metadata": {
        "id": "3PbECVMKwf7M",
        "colab_type": "code",
        "colab": {}
      },
      "source": [
        "'''\n",
        "성능 확인을 위해\n",
        "Ctrl+Enter를 이용하여\n",
        "반복 실행 해보자!\n",
        "'''\n",
        "\n",
        "id = rd.randrange(0,10000)\n",
        "\n",
        "print('id = {}'.format(id))\n",
        "print('다음 그림은 숫자 {} 입니다.'.format(test_y[id]))\n",
        "print('모델의 예측 : {}'.format(logistic_pred_test[id]))\n",
        "if test_y[id] == logistic_pred_test[id] :\n",
        "    print('정답입니다')\n",
        "else : \n",
        "    print('틀렸어요')\n",
        "plt.imshow(test_x[id].reshape([28,-1]))\n",
        "plt.show()"
      ],
      "execution_count": 0,
      "outputs": []
    },
    {
      "cell_type": "code",
      "metadata": {
        "id": "a3GN43SQxmed",
        "colab_type": "code",
        "colab": {}
      },
      "source": [
        "'''\n",
        "틀린 것만 관찰해보자!\n",
        "\n",
        "Ctrl+Enter를 이용하여\n",
        "반복 실행 해보자!\n",
        "'''\n",
        "\n",
        "true_false = (test_y == logistic_pred_test)\n",
        "f_id = np.where(true_false == False)[0]\n",
        "f_n = len(f_id)\n",
        "\n",
        "id = f_id[rd.randrange(0,f_n)]\n",
        "\n",
        " \n",
        "print('id = {}'.format(id))\n",
        "print('다음 그림은 숫자 {} 입니다.'.format(test_y[id]))\n",
        "print('모델의 예측 : {}'.format(logistic_pred_test[id]))\n",
        "if test_y[id] == logistic_pred_test[id] :\n",
        "    print('정답입니다')\n",
        "else : \n",
        "    print('틀렸어요')\n",
        "plt.imshow(test_x[id].reshape([28,-1]))\n",
        "plt.show()"
      ],
      "execution_count": 0,
      "outputs": []
    },
    {
      "cell_type": "markdown",
      "metadata": {
        "id": "qltFwQxG7MGb",
        "colab_type": "text"
      },
      "source": [
        "## Logisitic Regression Tensorflow Ver."
      ]
    },
    {
      "cell_type": "code",
      "metadata": {
        "id": "VINVzPxx8w9R",
        "colab_type": "code",
        "outputId": "b2ec08fe-3b6e-4da6-9bfe-2d6533ed9b98",
        "colab": {
          "base_uri": "https://localhost:8080/",
          "height": 35
        }
      },
      "source": [
        "print(train_x.shape, train_y.shape)"
      ],
      "execution_count": 0,
      "outputs": [
        {
          "output_type": "stream",
          "text": [
            "(60000, 784) (60000,)\n"
          ],
          "name": "stdout"
        }
      ]
    },
    {
      "cell_type": "code",
      "metadata": {
        "id": "by2llK_884V6",
        "colab_type": "code",
        "colab": {}
      },
      "source": [
        "# One-hot Encoding\n",
        "\n",
        "train_y = np.eye(10)[train_y]\n",
        "test_y = np.eye(10)[test_y]"
      ],
      "execution_count": 0,
      "outputs": []
    },
    {
      "cell_type": "code",
      "metadata": {
        "id": "8CLyF8iw9WaK",
        "colab_type": "code",
        "outputId": "0ce8a1f5-311e-4c53-cd0b-98c9e88bdf5b",
        "colab": {
          "base_uri": "https://localhost:8080/",
          "height": 35
        }
      },
      "source": [
        "print(train_y.shape, test_y.shape)"
      ],
      "execution_count": 0,
      "outputs": [
        {
          "output_type": "stream",
          "text": [
            "(60000, 10) (10000, 10)\n"
          ],
          "name": "stdout"
        }
      ]
    },
    {
      "cell_type": "code",
      "metadata": {
        "id": "URXhvNwq-Lwi",
        "colab_type": "code",
        "colab": {}
      },
      "source": [
        "num_examples = train_y.shape[0]"
      ],
      "execution_count": 0,
      "outputs": []
    },
    {
      "cell_type": "code",
      "metadata": {
        "id": "yMOEpYTL7PyK",
        "colab_type": "code",
        "colab": {}
      },
      "source": [
        "'''\n",
        "직접 짤 수 있어야 합니다!\n",
        "\n",
        "인풋의 Shape = [None, 784]\n",
        "아웃풋의 Shape = [None, 10]\n",
        "Weight 의 Shape = [784, 10]\n",
        "Bias 의 Shape = [10]\n",
        "'''\n",
        "# Graph Clear & Make your Graph reproducible\n",
        "tf.reset_default_graph()\n",
        "tf.set_random_seed(2017)\n",
        "\n",
        "# Hyper parameters & Option\n",
        "learning_rate = 0.01\n",
        "\n",
        "# Place Holders\n",
        "X = tf.placeholder(dtype=tf.float32, shape=[None, 784])\n",
        "Y = tf.placeholder(dtype=tf.float32, shape=[None, 10])\n",
        "\n",
        "# Weights & bias\n",
        "W = tf.Variable(tf.random_normal([784, 10]))\n",
        "b = tf.Variable(tf.random_normal([10]))\n",
        "\n",
        "# Hypothesis\n",
        "logits = tf.add(tf.matmul(X, W), b)\n",
        "Y_prob = tf.nn.softmax(logits)\n",
        "\n",
        "# Accuracy\n",
        "n_of_correct = tf.equal(tf.argmax(logits, 1), tf.argmax(Y, 1))\n",
        "accuracy =  tf.reduce_mean(tf.cast(n_of_correct, tf.float32))\n",
        "\n",
        "# Cost(loss) function & Optimizer\n",
        "cost = tf.reduce_mean(tf.nn.softmax_cross_entropy_with_logits_v2(logits=logits, labels=Y))\n",
        "optimizer = tf.train.AdamOptimizer(learning_rate=learning_rate).minimize(cost)"
      ],
      "execution_count": 0,
      "outputs": []
    },
    {
      "cell_type": "code",
      "metadata": {
        "id": "YqIH6ZCz8XAV",
        "colab_type": "code",
        "outputId": "c29a76cb-0386-4a68-e0d7-11f0cab148e8",
        "colab": {
          "base_uri": "https://localhost:8080/",
          "height": 737
        }
      },
      "source": [
        "sess = tf.Session()\n",
        "sess.run(tf.global_variables_initializer())\n",
        "\n",
        "for i in range(200):\n",
        "    # 학습 진행\n",
        "    sess.run(optimizer, feed_dict={X: train_x, Y: train_y})\n",
        "\n",
        "    if ( (i+1) % 5 == 0): \n",
        "        # 학습 상황 디스플레이\n",
        "        tr_a = sess.run(accuracy, feed_dict={X: train_x, Y: train_y})\n",
        "        print(\"{}th, training accuracy: {:.3f}%\".format(i+1, tr_a * 100))"
      ],
      "execution_count": 0,
      "outputs": [
        {
          "output_type": "stream",
          "text": [
            "5th, training accuracy: 20.092%\n",
            "10th, training accuracy: 26.587%\n",
            "15th, training accuracy: 34.898%\n",
            "20th, training accuracy: 42.947%\n",
            "25th, training accuracy: 50.555%\n",
            "30th, training accuracy: 56.605%\n",
            "35th, training accuracy: 61.785%\n",
            "40th, training accuracy: 65.890%\n",
            "45th, training accuracy: 68.943%\n",
            "50th, training accuracy: 71.312%\n",
            "55th, training accuracy: 73.083%\n",
            "60th, training accuracy: 74.620%\n",
            "65th, training accuracy: 75.895%\n",
            "70th, training accuracy: 77.005%\n",
            "75th, training accuracy: 77.933%\n",
            "80th, training accuracy: 78.738%\n",
            "85th, training accuracy: 79.408%\n",
            "90th, training accuracy: 80.017%\n",
            "95th, training accuracy: 80.607%\n",
            "100th, training accuracy: 81.138%\n",
            "105th, training accuracy: 81.570%\n",
            "110th, training accuracy: 82.033%\n",
            "115th, training accuracy: 82.427%\n",
            "120th, training accuracy: 82.803%\n",
            "125th, training accuracy: 83.158%\n",
            "130th, training accuracy: 83.495%\n",
            "135th, training accuracy: 83.807%\n",
            "140th, training accuracy: 84.105%\n",
            "145th, training accuracy: 84.393%\n",
            "150th, training accuracy: 84.643%\n",
            "155th, training accuracy: 84.893%\n",
            "160th, training accuracy: 85.120%\n",
            "165th, training accuracy: 85.335%\n",
            "170th, training accuracy: 85.542%\n",
            "175th, training accuracy: 85.762%\n",
            "180th, training accuracy: 85.953%\n",
            "185th, training accuracy: 86.143%\n",
            "190th, training accuracy: 86.302%\n",
            "195th, training accuracy: 86.438%\n",
            "200th, training accuracy: 86.580%\n"
          ],
          "name": "stdout"
        }
      ]
    },
    {
      "cell_type": "code",
      "metadata": {
        "id": "1eMRaoxe_rKb",
        "colab_type": "code",
        "colab": {}
      },
      "source": [
        "logistic1_pred_train = sess.run(Y_prob, feed_dict={X:train_x})\n",
        "logistic1_pred_test = sess.run(Y_prob, feed_dict={X:test_x})\n",
        "\n",
        "single_pred_train = logistic1_pred_train.argmax(axis=1)\n",
        "single_pred_test = logistic1_pred_test.argmax(axis=1)\n",
        "\n",
        "\n",
        "logi_train_accuracy = accuracy_score(train_y.argmax(axis=1), single_pred_train)\n",
        "logi_test_accuracy = accuracy_score(test_y.argmax(axis=1), single_pred_test)\n",
        "\n",
        "\n",
        "print('로지스틱 리그레션')\n",
        "print('트레이닝 정확도 : {:.2f}%'.format(logi_train_accuracy*100))\n",
        "print('테스트 정확도 : {:.2f}%'.format(logi_test_accuracy*100))"
      ],
      "execution_count": 0,
      "outputs": []
    },
    {
      "cell_type": "code",
      "metadata": {
        "id": "SQ0B5ox08eqa",
        "colab_type": "code",
        "colab": {}
      },
      "source": [
        "'''\n",
        "성능 확인을 위해\n",
        "Ctrl+Enter를 이용하여\n",
        "반복 실행 해보자!\n",
        "'''\n",
        "\n",
        "id = rd.randrange(0,10000)\n",
        "\n",
        "print('id = {}'.format(id))\n",
        "print('다음 그림은 숫자 {} 입니다.'.format(test_y.argmax(axis=1)[id]))\n",
        "print('모델의 예측 : {}'.format(single_pred_test[id]))\n",
        "print('모델의 카테고리별 확률 : {}'.format(np.floor(logistic1_pred_test[id]*100)))\n",
        "if test_y.argmax(axis=1)[id] == single_pred_test[id] :\n",
        "    print('정답입니다')\n",
        "else : \n",
        "    print('틀렸어요')\n",
        "plt.imshow(test_x[id].reshape([28,-1]))\n",
        "plt.show()"
      ],
      "execution_count": 0,
      "outputs": []
    },
    {
      "cell_type": "code",
      "metadata": {
        "id": "nSWCcHEp7L05",
        "colab_type": "code",
        "colab": {}
      },
      "source": [
        "'''\n",
        "틀린 것만 관찰해보자!\n",
        "\n",
        "Ctrl+Enter를 이용하여\n",
        "반복 실행 해보자!\n",
        "'''\n",
        "\n",
        "true_false = (test_y.argmax(axis=1) == single_pred_test)\n",
        "f_id = np.where(true_false == False)[0]\n",
        "f_n = len(f_id)\n",
        "\n",
        "id = f_id[rd.randrange(0,f_n)]\n",
        "\n",
        "\n",
        "print('id = {}'.format(id))\n",
        "print('다음 그림은 숫자 {} 입니다.'.format(test_y.argmax(axis=1)[id]))\n",
        "print('모델의 예측 : {}'.format(single_pred_test[id]))\n",
        "print('모델의 카테고리별 확률 : {}'.format(np.floor(logistic1_pred_test[id]*100)))\n",
        "if test_y.argmax(axis=1)[id] == single_pred_test[id] :\n",
        "    print('정답입니다')\n",
        "else : \n",
        "    print('틀렸어요')\n",
        "plt.imshow(test_x[id].reshape([28,-1]))\n",
        "plt.show()"
      ],
      "execution_count": 0,
      "outputs": []
    },
    {
      "cell_type": "markdown",
      "metadata": {
        "id": "NfcYY5Jb0-R4",
        "colab_type": "text"
      },
      "source": [
        "## (Optional) Artificial Neural Networks with Scikit-Learn"
      ]
    },
    {
      "cell_type": "code",
      "metadata": {
        "id": "peCK-P6N1Bz1",
        "colab_type": "code",
        "colab": {}
      },
      "source": [
        "ANN = MLPClassifier(hidden_layer_sizes=(512,),\n",
        "                         early_stopping=True ,verbose=True)"
      ],
      "execution_count": 0,
      "outputs": []
    },
    {
      "cell_type": "code",
      "metadata": {
        "id": "G-ojsFDz1Lor",
        "colab_type": "code",
        "colab": {}
      },
      "source": [
        "ANN.fit(train_x, train_y)"
      ],
      "execution_count": 0,
      "outputs": []
    },
    {
      "cell_type": "code",
      "metadata": {
        "id": "tkFyd6EV1PEo",
        "colab_type": "code",
        "colab": {}
      },
      "source": [
        "ann_pred_train = ANN.predict(train_x)\n",
        "ann_pred_test = ANN.predict(test_x)\n",
        "\n",
        "ann_train_accuracy = accuracy_score(train_y, ann_pred_train)\n",
        "ann_test_accuracy = accuracy_score(test_y, ann_pred_test)\n",
        "\n",
        "print('인공신경망')\n",
        "print('트레이닝 정확도 : {:.2f}%'.format(ann_train_accuracy*100))\n",
        "print('테스트 정확도 : {:.2f}%'.format(ann_test_accuracy*100))"
      ],
      "execution_count": 0,
      "outputs": []
    },
    {
      "cell_type": "code",
      "metadata": {
        "id": "pizcot5q1ojs",
        "colab_type": "code",
        "colab": {}
      },
      "source": [
        "'''\n",
        "성능 확인을 위해\n",
        "Ctrl+Enter를 이용하여\n",
        "반복 실행 해보자!\n",
        "'''\n",
        "\n",
        "id = rd.randrange(0,10000)\n",
        "\n",
        "print('id = {}'.format(id))\n",
        "print('다음 그림은 숫자 {} 입니다.'.format(test_y[id]))\n",
        "print('모델의 예측 : {}'.format(ann_pred_test[id]))\n",
        "if test_y[id] == ann_pred_test[id] :\n",
        "    print('정답입니다')\n",
        "else : \n",
        "    print('틀렸어요')\n",
        "plt.imshow(test_x[id].reshape([28,-1]))\n",
        "plt.show()"
      ],
      "execution_count": 0,
      "outputs": []
    },
    {
      "cell_type": "code",
      "metadata": {
        "id": "EakhqHRb2EbI",
        "colab_type": "code",
        "colab": {}
      },
      "source": [
        "'''\n",
        "틀린 것만 관찰해보자!\n",
        "\n",
        "Ctrl+Enter를 이용하여\n",
        "반복 실행 해보자!\n",
        "'''\n",
        "\n",
        "true_false = (test_y == ann_pred_test)\n",
        "f_id = np.where(true_false == False)[0]\n",
        "f_n = len(f_id)\n",
        "\n",
        "id = f_id[rd.randrange(0,f_n)]\n",
        "\n",
        " \n",
        "print('id = {}'.format(id))\n",
        "print('다음 그림은 숫자 {} 입니다.'.format(test_y[id]))\n",
        "print('모델의 예측 : {}'.format(ann_pred_test[id]))\n",
        "if test_y[id] == ann_pred_test[id] :\n",
        "    print('정답입니다')\n",
        "else : \n",
        "    print('틀렸어요')\n",
        "plt.imshow(test_x[id].reshape([28,-1]))\n",
        "plt.show()"
      ],
      "execution_count": 0,
      "outputs": []
    },
    {
      "cell_type": "code",
      "metadata": {
        "id": "udGP9Uml14de",
        "colab_type": "code",
        "colab": {}
      },
      "source": [
        ""
      ],
      "execution_count": 0,
      "outputs": []
    },
    {
      "cell_type": "markdown",
      "metadata": {
        "id": "a7KarCyY2xR_",
        "colab_type": "text"
      },
      "source": [
        "# (Very Optional) 새로운 데이터로, 처음부터 실습!\n",
        "\n",
        "들어는 보았는가 Fashion MNIST?"
      ]
    },
    {
      "cell_type": "code",
      "metadata": {
        "id": "ZwprwkB14otY",
        "colab_type": "code",
        "colab": {}
      },
      "source": [
        "'''\n",
        "matplolib inline 명령어를 통해서\n",
        "matplot으로 그리는 플롯들을 주피터 노트북 내에서 볼 수 있게 해준다.\n",
        "포맷을 retina로 바꾸면 그래프의 화질이 훨씬 좋아진다.\n",
        "'''\n",
        "%matplotlib inline\n",
        "%config InlineBackend.figure_format = 'retina'\n",
        "\n",
        "'''\n",
        "라이브러리들을 불러오자.\n",
        "'''\n",
        "import numpy as np\n",
        "import pandas as pd\n",
        "import matplotlib.pyplot as plt\n",
        "import tensorflow as tf\n",
        "import random as rd\n",
        "\n",
        "from sklearn.neural_network import MLPClassifier\n",
        "from sklearn.metrics import accuracy_score"
      ],
      "execution_count": 0,
      "outputs": []
    },
    {
      "cell_type": "code",
      "metadata": {
        "id": "CmCOv9oC25ln",
        "colab_type": "code",
        "colab": {}
      },
      "source": [
        "(train_x, train_y), (test_x, test_y) = tf.keras.datasets.fashion_mnist.load_data()"
      ],
      "execution_count": 0,
      "outputs": []
    },
    {
      "cell_type": "code",
      "metadata": {
        "id": "HQ4h-2ER2_Js",
        "colab_type": "code",
        "colab": {}
      },
      "source": [
        "print(train_x.shape, train_y.shape, test_x.shape, test_y.shape)"
      ],
      "execution_count": 0,
      "outputs": []
    },
    {
      "cell_type": "code",
      "metadata": {
        "id": "SnG832RJ3HRe",
        "colab_type": "code",
        "colab": {}
      },
      "source": [
        "'''\n",
        "Ctrl+Enter를 이용하여\n",
        "반복 실행 해보자!\n",
        "'''\n",
        "\n",
        "labels = ['T-shirt/Top', 'Trouser', 'Pullover','Dress','Coat','Sandal','Shirt','Sneaker','Bag','Ankle boot']\n",
        "\n",
        "id = rd.randrange(0,10000)\n",
        "lid = test_y[id]\n",
        "\n",
        "print('id = {}'.format(id))\n",
        "print('다음 그림은 {} 입니다.'.format(labels[lid]) )\n",
        "plt.imshow(test_x[id])\n",
        "plt.show()"
      ],
      "execution_count": 0,
      "outputs": []
    },
    {
      "cell_type": "code",
      "metadata": {
        "id": "GMjNNpxe3znH",
        "colab_type": "code",
        "colab": {}
      },
      "source": [
        "###### Now, Your Turn!"
      ],
      "execution_count": 0,
      "outputs": []
    },
    {
      "cell_type": "code",
      "metadata": {
        "id": "Nngp1Atf4HPZ",
        "colab_type": "code",
        "colab": {}
      },
      "source": [
        ""
      ],
      "execution_count": 0,
      "outputs": []
    }
  ]
}
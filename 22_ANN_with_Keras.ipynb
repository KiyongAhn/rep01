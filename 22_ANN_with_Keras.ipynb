{
  "nbformat": 4,
  "nbformat_minor": 0,
  "metadata": {
    "colab": {
      "name": "22_ANN_with_Keras.ipynb",
      "version": "0.3.2",
      "provenance": [],
      "collapsed_sections": [],
      "include_colab_link": true
    },
    "kernelspec": {
      "name": "python3",
      "display_name": "Python 3"
    },
    "accelerator": "GPU"
  },
  "cells": [
    {
      "cell_type": "markdown",
      "metadata": {
        "id": "view-in-github",
        "colab_type": "text"
      },
      "source": [
        "<a href=\"https://colab.research.google.com/github/KiyongAhn/rep01/blob/master/22_ANN_with_Keras.ipynb\" target=\"_parent\"><img src=\"https://colab.research.google.com/assets/colab-badge.svg\" alt=\"Open In Colab\"/></a>"
      ]
    },
    {
      "cell_type": "markdown",
      "metadata": {
        "id": "HZc219MFFibh",
        "colab_type": "text"
      },
      "source": [
        "# Artificial Neural Network\n",
        "\n",
        "## MNIST\n",
        "\n",
        "### Your name :\n",
        "\n",
        "### Kaggle Link for exercise :\n",
        "* [Digit Recognizer](https://www.kaggle.com/c/digit-recognizer) : \n",
        "\n",
        "#### 실습목표<br>\n",
        "1. 뉴럴넷의 아이디어를 이해한다.\n",
        "2. keras로 뉴럴넷 모델링이 가능하다!\n",
        "\n",
        "--------------------------\n",
        "Rayleigh Kim @ D:plus"
      ]
    },
    {
      "cell_type": "markdown",
      "metadata": {
        "id": "UdrP_vI3QcNd",
        "colab_type": "text"
      },
      "source": [
        "## Artificial Neural Network on MNIST"
      ]
    },
    {
      "cell_type": "markdown",
      "metadata": {
        "id": "OGL1CKhBkxqr",
        "colab_type": "text"
      },
      "source": [
        "## Library Loading"
      ]
    },
    {
      "cell_type": "code",
      "metadata": {
        "id": "2At3z2IdQew-",
        "colab_type": "code",
        "outputId": "e06da9e4-569a-4279-a775-ba950175cad6",
        "colab": {
          "base_uri": "https://localhost:8080/",
          "height": 35
        }
      },
      "source": [
        "'''\n",
        "matplolib inline 명령어를 통해서\n",
        "matplot으로 그리는 플롯들을 주피터 노트북 내에서 볼 수 있게 해준다.\n",
        "포맷을 retina로 바꾸면 그래프의 화질이 훨씬 좋아진다.\n",
        "'''\n",
        "%matplotlib inline\n",
        "%config InlineBackend.figure_format = 'retina'\n",
        "\n",
        "'''\n",
        "라이브러리들을 불러오자.\n",
        "'''\n",
        "import numpy as np\n",
        "import pandas as pd\n",
        "import matplotlib.pyplot as plt\n",
        "import tensorflow as tf\n",
        "import keras\n",
        "from keras import layers, models\n",
        "\n",
        "import random as rd\n",
        "\n",
        "from sklearn.metrics import accuracy_score"
      ],
      "execution_count": 0,
      "outputs": [
        {
          "output_type": "stream",
          "text": [
            "Using TensorFlow backend.\n"
          ],
          "name": "stderr"
        }
      ]
    },
    {
      "cell_type": "markdown",
      "metadata": {
        "id": "F7A8vUrQRpPd",
        "colab_type": "text"
      },
      "source": [
        "### Data Loading & Preparation"
      ]
    },
    {
      "cell_type": "code",
      "metadata": {
        "id": "gBQdcFgkRiv-",
        "colab_type": "code",
        "outputId": "e0996034-ad87-438d-b3d2-643978ab35a3",
        "colab": {
          "base_uri": "https://localhost:8080/",
          "height": 53
        }
      },
      "source": [
        "(train_x, train_y), (test_x, test_y) = tf.keras.datasets.mnist.load_data()"
      ],
      "execution_count": 0,
      "outputs": [
        {
          "output_type": "stream",
          "text": [
            "Downloading data from https://storage.googleapis.com/tensorflow/tf-keras-datasets/mnist.npz\n",
            "11493376/11490434 [==============================] - 0s 0us/step\n"
          ],
          "name": "stdout"
        }
      ]
    },
    {
      "cell_type": "code",
      "metadata": {
        "id": "_GKNGA5qRnf-",
        "colab_type": "code",
        "outputId": "8cf705e5-b274-4a17-8c06-7949eaf2b528",
        "colab": {
          "base_uri": "https://localhost:8080/",
          "height": 35
        }
      },
      "source": [
        "print(train_x.shape, train_y.shape, test_x.shape, test_y.shape)"
      ],
      "execution_count": 0,
      "outputs": [
        {
          "output_type": "stream",
          "text": [
            "(60000, 28, 28) (60000,) (10000, 28, 28) (10000,)\n"
          ],
          "name": "stdout"
        }
      ]
    },
    {
      "cell_type": "code",
      "metadata": {
        "id": "qW4ZeZcNRouf",
        "colab_type": "code",
        "outputId": "9e0d9dc0-95d3-44a8-f801-731c1656dc04",
        "colab": {
          "base_uri": "https://localhost:8080/",
          "height": 303
        }
      },
      "source": [
        "'''\n",
        "Ctrl+Enter를 이용하여\n",
        "반복 실행 해보자!\n",
        "'''\n",
        "\n",
        "id = rd.randrange(0,10000)\n",
        "\n",
        "print('id = {}'.format(id))\n",
        "print('다음 그림은 숫자 {} 입니다.'.format(test_y[id]))\n",
        "plt.imshow(test_x[id])\n",
        "plt.show()"
      ],
      "execution_count": 0,
      "outputs": [
        {
          "output_type": "stream",
          "text": [
            "id = 9402\n",
            "다음 그림은 숫자 8 입니다.\n"
          ],
          "name": "stdout"
        },
        {
          "output_type": "display_data",
          "data": {
            "image/png": "[encoded data removed]",
            "text/plain": [
              "<Figure size 432x288 with 1 Axes>"
            ]
          },
          "metadata": {
            "tags": [],
            "image/png": {
              "width": 253,
              "height": 250
            }
          }
        }
      ]
    },
    {
      "cell_type": "markdown",
      "metadata": {
        "id": "Oy8V0yNFRuoC",
        "colab_type": "text"
      },
      "source": [
        "단순한 로지스틱 회귀, 뉴럴넷은 28x28의 2차원 데이터를 인풋으로 받지 못한다.\n",
        "\n",
        "이미지[28 by 28] 를 납작한 array [784] 로 바꿔줄 필요가 있다."
      ]
    },
    {
      "cell_type": "code",
      "metadata": {
        "id": "m3itgyE_RxbO",
        "colab_type": "code",
        "outputId": "8b68991e-2a43-4f9f-b26e-360be4a89fbe",
        "colab": {
          "base_uri": "https://localhost:8080/",
          "height": 35
        }
      },
      "source": [
        "train_x = train_x.reshape([train_x.shape[0],-1])\n",
        "test_x = test_x.reshape([test_x.shape[0],-1])\n",
        "\n",
        "print(train_x.shape, test_x.shape)"
      ],
      "execution_count": 0,
      "outputs": [
        {
          "output_type": "stream",
          "text": [
            "(60000, 784) (10000, 784)\n"
          ],
          "name": "stdout"
        }
      ]
    },
    {
      "cell_type": "markdown",
      "metadata": {
        "id": "M9KQC1-4R0Bq",
        "colab_type": "text"
      },
      "source": [
        "이미지의 값이기 때문에 0 ~ 255 사이의 값을 갖는다.\n",
        "\n",
        "전부 0~1사이의 값을 갖도록 scale을 조정하자!"
      ]
    },
    {
      "cell_type": "code",
      "metadata": {
        "id": "cWL_no_LR3U8",
        "colab_type": "code",
        "outputId": "4a91376c-9b01-479d-a6ed-63582b5b767e",
        "colab": {
          "base_uri": "https://localhost:8080/",
          "height": 35
        }
      },
      "source": [
        "print('max :', train_x.max(),'  min :', train_x.min())"
      ],
      "execution_count": 0,
      "outputs": [
        {
          "output_type": "stream",
          "text": [
            "max : 255   min : 0\n"
          ],
          "name": "stdout"
        }
      ]
    },
    {
      "cell_type": "code",
      "metadata": {
        "id": "3An_EZn0R4wM",
        "colab_type": "code",
        "outputId": "023deddd-b494-4117-d619-ccb134282274",
        "colab": {
          "base_uri": "https://localhost:8080/",
          "height": 35
        }
      },
      "source": [
        "max_num = train_x.max()\n",
        "\n",
        "train_x = train_x/max_num\n",
        "test_x = test_x/max_num\n",
        "\n",
        "print('max :', train_x.max(),'  min :', train_x.min())"
      ],
      "execution_count": 0,
      "outputs": [
        {
          "output_type": "stream",
          "text": [
            "max : 1.0   min : 0.0\n"
          ],
          "name": "stdout"
        }
      ]
    },
    {
      "cell_type": "code",
      "metadata": {
        "id": "gNs8-ZziR50H",
        "colab_type": "code",
        "outputId": "b73c8d04-1104-4d3d-a8e5-fe01c9d40608",
        "colab": {
          "base_uri": "https://localhost:8080/",
          "height": 35
        }
      },
      "source": [
        "# One-hot Encoding\n",
        "\n",
        "train_y = np.eye(10)[train_y]\n",
        "test_y = np.eye(10)[test_y]\n",
        "\n",
        "print(test_y[2])"
      ],
      "execution_count": 0,
      "outputs": [
        {
          "output_type": "stream",
          "text": [
            "[0. 1. 0. 0. 0. 0. 0. 0. 0. 0.]\n"
          ],
          "name": "stdout"
        }
      ]
    },
    {
      "cell_type": "code",
      "metadata": {
        "id": "R0wVmwf-SGDE",
        "colab_type": "code",
        "outputId": "a09d094c-587b-44f6-d173-ac8d994817ed",
        "colab": {
          "base_uri": "https://localhost:8080/",
          "height": 35
        }
      },
      "source": [
        "train_x.shape"
      ],
      "execution_count": 0,
      "outputs": [
        {
          "output_type": "execute_result",
          "data": {
            "text/plain": [
              "(60000, 784)"
            ]
          },
          "metadata": {
            "tags": []
          },
          "execution_count": 9
        }
      ]
    },
    {
      "cell_type": "markdown",
      "metadata": {
        "id": "mQ_FTTj7XAtC",
        "colab_type": "text"
      },
      "source": [
        "### Sequential을 이용하여 모델링을 할거야! (추천)"
      ]
    },
    {
      "cell_type": "markdown",
      "metadata": {
        "id": "eNmVybGysAWW",
        "colab_type": "text"
      },
      "source": [
        "모델링을 하기 전에!\n",
        "* 로지스틱 리그레션의 기능을 안다!\n",
        "* 뉴런의 구조를 안다!\n",
        "* 뉴럴넷의 구조를 안다.\n",
        "* 히든레이어 안의 뉴런 하나의 역할을 이해한다."
      ]
    },
    {
      "cell_type": "code",
      "metadata": {
        "id": "rJRWUyZiR8_y",
        "colab_type": "code",
        "outputId": "06de5a21-8f5e-4ef2-9f3c-e7af911eb363",
        "colab": {
          "base_uri": "https://localhost:8080/",
          "height": 271
        }
      },
      "source": [
        "# 혹시 이미 그려둔 그래프가 있다면 날려줘!\n",
        "keras.backend.clear_session()\n",
        "\n",
        "# model에 순차적으로 레이어를 쌓아가겠다는 의도!\n",
        "model = keras.models.Sequential()\n",
        "\n",
        "# 인풋을 받아, weight을 곱하고, bias를 더해주고\n",
        "# relu까지 씌우는 레이어를 설계하자.\n",
        "hidden = layers.Dense(64, input_shape=(784,),\n",
        "                       activation='relu')\n",
        "\n",
        "\n",
        "# model에 위의 hidden을 layer로 집어 넣자.\n",
        "model.add(hidden)\n",
        "\n",
        "# 사실은 다음의 방법처럼 쓰는 것이 간결하다.\n",
        "# model.add( layers.Dense(128, input_shape=(784,), activation='relu'))\n",
        "\n",
        "\n",
        "# 앞 레이어의 인풋을 받아 weight을 곱하고, bias를 더해주고\n",
        "# softmax까지 씌워주는 레이어를 설계하자\n",
        "# 그리고 model에 집어 넣는 것 까지 해결해보자.\n",
        "\n",
        "model.add( layers.Dense(10, activation = 'softmax')     )\n",
        "\n",
        "# 컴파일 해주렴!\n",
        "model.compile(loss = 'categorical_crossentropy', optimizer = 'adam',\n",
        "              metrics =['accuracy'])"
      ],
      "execution_count": 0,
      "outputs": [
        {
          "output_type": "stream",
          "text": [
            "WARNING: Logging before flag parsing goes to stderr.\n",
            "W0710 07:29:21.658181 140650240837504 deprecation_wrapper.py:119] From /usr/local/lib/python3.6/dist-packages/keras/backend/tensorflow_backend.py:95: The name tf.reset_default_graph is deprecated. Please use tf.compat.v1.reset_default_graph instead.\n",
            "\n",
            "W0710 07:29:21.662710 140650240837504 deprecation_wrapper.py:119] From /usr/local/lib/python3.6/dist-packages/keras/backend/tensorflow_backend.py:98: The name tf.placeholder_with_default is deprecated. Please use tf.compat.v1.placeholder_with_default instead.\n",
            "\n",
            "W0710 07:29:21.684383 140650240837504 deprecation_wrapper.py:119] From /usr/local/lib/python3.6/dist-packages/keras/backend/tensorflow_backend.py:102: The name tf.get_default_graph is deprecated. Please use tf.compat.v1.get_default_graph instead.\n",
            "\n",
            "W0710 07:29:21.686403 140650240837504 deprecation_wrapper.py:119] From /usr/local/lib/python3.6/dist-packages/keras/backend/tensorflow_backend.py:517: The name tf.placeholder is deprecated. Please use tf.compat.v1.placeholder instead.\n",
            "\n",
            "W0710 07:29:21.692926 140650240837504 deprecation_wrapper.py:119] From /usr/local/lib/python3.6/dist-packages/keras/backend/tensorflow_backend.py:4138: The name tf.random_uniform is deprecated. Please use tf.random.uniform instead.\n",
            "\n",
            "W0710 07:29:21.728374 140650240837504 deprecation_wrapper.py:119] From /usr/local/lib/python3.6/dist-packages/keras/optimizers.py:790: The name tf.train.Optimizer is deprecated. Please use tf.compat.v1.train.Optimizer instead.\n",
            "\n"
          ],
          "name": "stderr"
        }
      ]
    },
    {
      "cell_type": "code",
      "metadata": {
        "id": "WXg2a2DttQvr",
        "colab_type": "code",
        "colab": {}
      },
      "source": [
        "#############################\n",
        "##       Challenge !       ##\n",
        "#############################\n",
        "# 위 코드를 참고하여, 아래의 코드를 수정해보자.\n",
        "# 더 성능이 좋은 뉴럴넷을 만들어보자.\n",
        "# 주석을 해제하여 실행한다\n",
        "\n",
        "\n",
        "# 혹시 이미 그려둔 그래프가 있다면 날려줘!\n",
        "keras.backend.clear_session()\n",
        "\n",
        "# model에 순차적으로 레이어를 쌓아가겠다는 의도!\n",
        "model = keras.models.Sequential()\n",
        "model.add( layers.Dense(16, input_shape=(784,), activation='relu'))\n",
        "model.add( layers.Dense(16, activation = 'relu')     )\n",
        "model.add( layers.Dense(10, activation = 'softmax')     )\n",
        "\n",
        "# 컴파일 해주렴!\n",
        "model.compile(loss = 'categorical_crossentropy', optimizer = 'adam',\n",
        "              metrics =['accuracy'])"
      ],
      "execution_count": 0,
      "outputs": []
    },
    {
      "cell_type": "markdown",
      "metadata": {
        "id": "2DpJyPiwzrtJ",
        "colab_type": "text"
      },
      "source": [
        "784개 인풋 -> 16개 히든 레이어 -> 16개 히든 레이어 -> 10개 아웃풋 레이어"
      ]
    },
    {
      "cell_type": "markdown",
      "metadata": {
        "id": "dBvGHJsunsYI",
        "colab_type": "text"
      },
      "source": [
        "keras가 강력한 이유!\n",
        "\n",
        "내가 설계한 모델을 계층적으로 바로 요약하여 관찰할 수 있다."
      ]
    },
    {
      "cell_type": "code",
      "metadata": {
        "id": "Sp16nc0h0Ee_",
        "colab_type": "code",
        "colab": {}
      },
      "source": [
        "#############################\n",
        "##       Challenge !       ##\n",
        "#############################\n",
        "# 위 코드를 참고하여, 아래의 코드를 수정해보자.\n",
        "# 더 성능이 좋은 뉴럴넷을 만들어보자.\n",
        "# 주석을 해제하여 실행한다\n",
        "\n",
        "\n",
        "# 혹시 이미 그려둔 그래프가 있다면 날려줘!\n",
        "keras.backend.clear_session()\n",
        "\n",
        "# model에 순차적으로 레이어를 쌓아가겠다는 의도!\n",
        "model = keras.models.Sequential()\n",
        "model.add( layers.Dense(128, input_shape=(784,), activation='relu'))\n",
        "model.add( layers.Dense(128, activation = 'relu')     )\n",
        "model.add( layers.Dense(64, activation = 'relu')     )\n",
        "model.add( layers.Dense(10, activation = 'softmax')     )\n",
        "\n",
        "# 컴파일 해주렴!\n",
        "model.compile(loss = 'categorical_crossentropy', optimizer = 'adam',\n",
        "              metrics =['accuracy'])"
      ],
      "execution_count": 0,
      "outputs": []
    },
    {
      "cell_type": "code",
      "metadata": {
        "id": "7-gukW_BnMj3",
        "colab_type": "code",
        "outputId": "c3c10e79-dea7-4249-ae50-d493061c9dbb",
        "colab": {
          "base_uri": "https://localhost:8080/",
          "height": 287
        }
      },
      "source": [
        "model.summary()"
      ],
      "execution_count": 0,
      "outputs": [
        {
          "output_type": "stream",
          "text": [
            "_________________________________________________________________\n",
            "Layer (type)                 Output Shape              Param #   \n",
            "=================================================================\n",
            "dense_1 (Dense)              (None, 128)               100480    \n",
            "_________________________________________________________________\n",
            "dense_2 (Dense)              (None, 128)               16512     \n",
            "_________________________________________________________________\n",
            "dense_3 (Dense)              (None, 64)                8256      \n",
            "_________________________________________________________________\n",
            "dense_4 (Dense)              (None, 10)                650       \n",
            "=================================================================\n",
            "Total params: 125,898\n",
            "Trainable params: 125,898\n",
            "Non-trainable params: 0\n",
            "_________________________________________________________________\n"
          ],
          "name": "stdout"
        }
      ]
    },
    {
      "cell_type": "code",
      "metadata": {
        "id": "55TMUhUmTJxe",
        "colab_type": "code",
        "outputId": "513ac07c-b31e-4491-b9d5-8d7dfb087d0d",
        "colab": {
          "base_uri": "https://localhost:8080/",
          "height": 595
        }
      },
      "source": [
        "# 데이터를 넣어서 학습시키자!\n",
        "history = model.fit(train_x, train_y, epochs=15, batch_size = 100,\n",
        "                    validation_split = 0.2, verbose=1)\n"
      ],
      "execution_count": 0,
      "outputs": [
        {
          "output_type": "stream",
          "text": [
            "Train on 48000 samples, validate on 12000 samples\n",
            "Epoch 1/15\n",
            "48000/48000 [==============================] - 3s 70us/step - loss: 0.3195 - acc: 0.9063 - val_loss: 0.1478 - val_acc: 0.9572\n",
            "Epoch 2/15\n",
            "48000/48000 [==============================] - 3s 63us/step - loss: 0.1225 - acc: 0.9632 - val_loss: 0.1158 - val_acc: 0.9654\n",
            "Epoch 3/15\n",
            "48000/48000 [==============================] - 3s 63us/step - loss: 0.0843 - acc: 0.9742 - val_loss: 0.1057 - val_acc: 0.9692\n",
            "Epoch 4/15\n",
            "48000/48000 [==============================] - 3s 64us/step - loss: 0.0619 - acc: 0.9807 - val_loss: 0.0944 - val_acc: 0.9702\n",
            "Epoch 5/15\n",
            "48000/48000 [==============================] - 3s 63us/step - loss: 0.0476 - acc: 0.9850 - val_loss: 0.0879 - val_acc: 0.9748\n",
            "Epoch 6/15\n",
            "48000/48000 [==============================] - 3s 62us/step - loss: 0.0386 - acc: 0.9878 - val_loss: 0.0873 - val_acc: 0.9739\n",
            "Epoch 7/15\n",
            "48000/48000 [==============================] - 3s 64us/step - loss: 0.0325 - acc: 0.9897 - val_loss: 0.0910 - val_acc: 0.9749\n",
            "Epoch 8/15\n",
            "48000/48000 [==============================] - 3s 63us/step - loss: 0.0273 - acc: 0.9907 - val_loss: 0.0951 - val_acc: 0.9740\n",
            "Epoch 9/15\n",
            "48000/48000 [==============================] - 3s 63us/step - loss: 0.0210 - acc: 0.9933 - val_loss: 0.0932 - val_acc: 0.9771\n",
            "Epoch 10/15\n",
            "48000/48000 [==============================] - 3s 63us/step - loss: 0.0207 - acc: 0.9930 - val_loss: 0.0997 - val_acc: 0.9748\n",
            "Epoch 11/15\n",
            "48000/48000 [==============================] - 3s 64us/step - loss: 0.0197 - acc: 0.9932 - val_loss: 0.1143 - val_acc: 0.9728\n",
            "Epoch 12/15\n",
            "48000/48000 [==============================] - 3s 63us/step - loss: 0.0190 - acc: 0.9940 - val_loss: 0.1093 - val_acc: 0.9731\n",
            "Epoch 13/15\n",
            "48000/48000 [==============================] - 3s 63us/step - loss: 0.0126 - acc: 0.9959 - val_loss: 0.1257 - val_acc: 0.9725\n",
            "Epoch 14/15\n",
            "48000/48000 [==============================] - 3s 62us/step - loss: 0.0131 - acc: 0.9959 - val_loss: 0.1144 - val_acc: 0.9755\n",
            "Epoch 15/15\n",
            "48000/48000 [==============================] - 3s 62us/step - loss: 0.0181 - acc: 0.9939 - val_loss: 0.1174 - val_acc: 0.9742\n"
          ],
          "name": "stdout"
        }
      ]
    },
    {
      "cell_type": "code",
      "metadata": {
        "id": "BBa5YC3BqHUQ",
        "colab_type": "code",
        "outputId": "44457656-01d3-4251-f80c-0454b230ab05",
        "colab": {
          "base_uri": "https://localhost:8080/",
          "height": 53
        }
      },
      "source": [
        "performance_test = model.evaluate(test_x, test_y, batch_size = 100)\n",
        "\n",
        "print('Test Loss : {:.6f},  Test Accuracy : {:.3f}%'.format(performance_test[0], performance_test[1]*100))"
      ],
      "execution_count": 0,
      "outputs": [
        {
          "output_type": "stream",
          "text": [
            "10000/10000 [==============================] - 0s 22us/step\n",
            "Test Loss : 0.107846,  Test Accuracy : 97.650%\n"
          ],
          "name": "stdout"
        }
      ]
    },
    {
      "cell_type": "code",
      "metadata": {
        "id": "R83kvDh1q1wW",
        "colab_type": "code",
        "outputId": "3ae5c494-0682-481a-d989-254d361134fb",
        "colab": {
          "base_uri": "https://localhost:8080/",
          "height": 294
        }
      },
      "source": [
        "if not isinstance(history, dict):\n",
        "    history = history.history\n",
        "\n",
        "plt.plot(history['acc'])\n",
        "plt.plot(history['val_acc'])\n",
        "plt.title('Accuracy : Training vs Validation')\n",
        "plt.ylabel('Accuracy')\n",
        "plt.xlabel('Epoch')\n",
        "plt.legend(['Training', 'Validation'], loc=0)\n",
        "plt.show()"
      ],
      "execution_count": 0,
      "outputs": [
        {
          "output_type": "display_data",
          "data": {
            "image/png": "[encoded data removed]",
            "text/plain": [
              "<Figure size 432x288 with 1 Axes>"
            ]
          },
          "metadata": {
            "tags": [],
            "image/png": {
              "width": 393,
              "height": 277
            }
          }
        }
      ]
    },
    {
      "cell_type": "code",
      "metadata": {
        "id": "ZM9auQjurl2N",
        "colab_type": "code",
        "outputId": "5aabc48d-101f-43e8-e922-f2f086026d4b",
        "colab": {
          "base_uri": "https://localhost:8080/",
          "height": 294
        }
      },
      "source": [
        "if not isinstance(history, dict):\n",
        "    history = history.history\n",
        "\n",
        "plt.plot(history['loss'])\n",
        "plt.plot(history['val_loss'])\n",
        "plt.title('Loss : Training vs Validation')\n",
        "plt.ylabel('Loss')\n",
        "plt.xlabel('Epoch')\n",
        "plt.legend(['Training', 'Validation'], loc=0)\n",
        "plt.show()"
      ],
      "execution_count": 0,
      "outputs": [
        {
          "output_type": "display_data",
          "data": {
            "image/png": "[encoded data removed]",
            "text/plain": [
              "<Figure size 432x288 with 1 Axes>"
            ]
          },
          "metadata": {
            "tags": [],
            "image/png": {
              "width": 393,
              "height": 277
            }
          }
        }
      ]
    },
    {
      "cell_type": "markdown",
      "metadata": {
        "id": "SZUz3Txcq5NE",
        "colab_type": "text"
      },
      "source": [
        "과제 :\n",
        "\n",
        "위에서 epoch의 숫자를 더 늘려서 그래프를 관찰해보자.\n",
        "\n",
        "데이터를 트레이닝 / 벨리데이션 / 테스트셋으로 나누는 이유를 알아야 한다.\n",
        "\n",
        "이후 반드시 공부해야 하는 것\n",
        "* Learning Rate\n",
        "* Early Stopping"
      ]
    },
    {
      "cell_type": "code",
      "metadata": {
        "id": "qc3Ap5q_bNgN",
        "colab_type": "code",
        "colab": {}
      },
      "source": [
        "pred_train = model.predict(train_x)\n",
        "pred_test = model.predict(test_x)\n",
        "\n",
        "single_pred_train = pred_train.argmax(axis=1)\n",
        "single_pred_test = pred_test.argmax(axis=1)\n",
        "\n",
        "\n",
        "logi_train_accuracy = accuracy_score(train_y.argmax(axis=1), single_pred_train)\n",
        "logi_test_accuracy = accuracy_score(test_y.argmax(axis=1), single_pred_test)\n",
        "\n",
        "\n",
        "print('로지스틱 리그레션')\n",
        "print('트레이닝 정확도 : {:.2f}%'.format(logi_train_accuracy*100))\n",
        "print('테스트 정확도 : {:.2f}%'.format(logi_test_accuracy*100))"
      ],
      "execution_count": 0,
      "outputs": []
    },
    {
      "cell_type": "code",
      "metadata": {
        "id": "4D5LN9iNR3aW",
        "colab_type": "code",
        "colab": {}
      },
      "source": [
        "'''\n",
        "성능 확인을 위해\n",
        "Ctrl+Enter를 이용하여\n",
        "반복 실행 해보자!\n",
        "'''\n",
        "\n",
        "id = rd.randrange(0,10000)\n",
        "\n",
        "print('id = {}'.format(id))\n",
        "print('다음 그림은 숫자 {} 입니다.'.format(test_y.argmax(axis=1)[id]))\n",
        "print('모델의 예측 : {}'.format(single_pred_test[id]))\n",
        "print('모델의 카테고리별 확률 : {}'.format(np.floor(pred_test[id]*100)))\n",
        "if test_y.argmax(axis=1)[id] == single_pred_test[id] :\n",
        "    print('정답입니다')\n",
        "else : \n",
        "    print('틀렸어요')\n",
        "plt.imshow(test_x[id].reshape([28,-1]))\n",
        "plt.show()"
      ],
      "execution_count": 0,
      "outputs": []
    },
    {
      "cell_type": "code",
      "metadata": {
        "id": "XDm-YCj7VzIB",
        "colab_type": "code",
        "colab": {}
      },
      "source": [
        "'''\n",
        "틀린 것만 관찰해보자!\n",
        "\n",
        "Ctrl+Enter를 이용하여\n",
        "반복 실행 해보자!\n",
        "'''\n",
        "\n",
        "true_false = (test_y.argmax(axis=1) == single_pred_test)\n",
        "f_id = np.where(true_false == False)[0]\n",
        "f_n = len(f_id)\n",
        "\n",
        "id = f_id[rd.randrange(0,f_n)]\n",
        "\n",
        "\n",
        "print('id = {}'.format(id))\n",
        "print('다음 그림은 숫자 {} 입니다.'.format(test_y.argmax(axis=1)[id]))\n",
        "print('모델의 예측 : {}'.format(single_pred_test[id]))\n",
        "print('모델의 카테고리별 확률 : {}'.format(np.floor(pred_test[id]*100)))\n",
        "if test_y.argmax(axis=1)[id] == single_pred_test[id] :\n",
        "    print('정답입니다')\n",
        "else : \n",
        "    print('틀렸어요')\n",
        "plt.imshow(test_x[id].reshape([28,-1]))\n",
        "plt.show()"
      ],
      "execution_count": 0,
      "outputs": []
    },
    {
      "cell_type": "code",
      "metadata": {
        "id": "moXMYdwatMvp",
        "colab_type": "code",
        "colab": {}
      },
      "source": [
        ""
      ],
      "execution_count": 0,
      "outputs": []
    },
    {
      "cell_type": "code",
      "metadata": {
        "id": "b6gWTgHvR3du",
        "colab_type": "code",
        "colab": {}
      },
      "source": [
        ""
      ],
      "execution_count": 0,
      "outputs": []
    }
  ]
}
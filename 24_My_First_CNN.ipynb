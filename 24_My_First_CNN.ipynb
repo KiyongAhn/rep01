{
  "nbformat": 4,
  "nbformat_minor": 0,
  "metadata": {
    "colab": {
      "name": "24_My_First_CNN.ipynb",
      "version": "0.3.2",
      "provenance": [],
      "collapsed_sections": [],
      "include_colab_link": true
    },
    "kernelspec": {
      "name": "python3",
      "display_name": "Python 3"
    },
    "accelerator": "GPU"
  },
  "cells": [
    {
      "cell_type": "markdown",
      "metadata": {
        "id": "view-in-github",
        "colab_type": "text"
      },
      "source": [
        "<a href=\"https://colab.research.google.com/github/KiyongAhn/rep01/blob/master/24_My_First_CNN.ipynb\" target=\"_parent\"><img src=\"https://colab.research.google.com/assets/colab-badge.svg\" alt=\"Open In Colab\"/></a>"
      ]
    },
    {
      "cell_type": "markdown",
      "metadata": {
        "id": "HZc219MFFibh",
        "colab_type": "text"
      },
      "source": [
        "# My First Convolutional Neural Network\n",
        "\n",
        "## MNIST & CIFAR-10\n",
        "\n",
        "### Your name :\n",
        "\n",
        "#### 실습목표<br>\n",
        "1. CNN의 기본 아이디어를 안다.\n",
        "2. CNN의 구조를 그리고, 코드로 옮길 수 있다.\n",
        "\n",
        "--------------------------\n",
        "Rayleigh Kim @ D:plus"
      ]
    },
    {
      "cell_type": "markdown",
      "metadata": {
        "id": "x8TZ1FxLB4xJ",
        "colab_type": "text"
      },
      "source": [
        "## My First CNN on MNIST\n",
        "\n",
        "## 일단 Quick 하게!!\n",
        "\n",
        "코드는 정말 수루룩 끝난다!\n",
        "\n",
        "그래서 다시 한 번! 다음 그림을 보고 구조를 확실히 추적할 수 있어야 한다.\n",
        "\n",
        "* [Ex1](https://cdn-images-1.medium.com/max/1600/1*O9ulXVmjBustHGLi1zRthA.png)\n",
        "* [Ex2](https://cdn-images-1.medium.com/max/1600/1*jqKHgwZ8alM3K_JRYO_l4w.png)\n",
        "* [Ex3](https://s3.amazonaws.com/acadgildsite/wordpress_images/Data+Science/Implementation+Of+A+Convolutional+Neural+Network/0.png)\n",
        "\n"
      ]
    },
    {
      "cell_type": "markdown",
      "metadata": {
        "id": "CcKmYCVBFNSN",
        "colab_type": "text"
      },
      "source": [
        "### 라이브러리 로딩"
      ]
    },
    {
      "cell_type": "code",
      "metadata": {
        "id": "wY-LJviYFP1w",
        "colab_type": "code",
        "outputId": "b45575eb-eac6-40f5-a7ac-a80f3cc5acdc",
        "colab": {
          "base_uri": "https://localhost:8080/",
          "height": 35
        }
      },
      "source": [
        "'''\n",
        "matplolib inline 명령어를 통해서\n",
        "matplot으로 그리는 플롯들을 주피터 노트북 내에서 볼 수 있게 해준다.\n",
        "포맷을 retina로 바꾸면 그래프의 화질이 훨씬 좋아진다.\n",
        "'''\n",
        "%matplotlib inline\n",
        "%config InlineBackend.figure_format = 'retina'\n",
        "\n",
        "'''\n",
        "라이브러리들을 불러오자.\n",
        "'''\n",
        "import numpy as np\n",
        "import pandas as pd\n",
        "import matplotlib.pyplot as plt\n",
        "import tensorflow as tf\n",
        "import keras\n",
        "\n",
        "from keras.utils import np_utils\n",
        "from keras.callbacks import EarlyStopping\n",
        "from keras.layers import Dense, BatchNormalization, Activation, Dropout\n",
        "from keras import layers, models\n",
        "from keras import backend\n",
        "\n",
        "import random as rd\n",
        "\n",
        "from sklearn.metrics import accuracy_score"
      ],
      "execution_count": 0,
      "outputs": [
        {
          "output_type": "stream",
          "text": [
            "Using TensorFlow backend.\n"
          ],
          "name": "stderr"
        }
      ]
    },
    {
      "cell_type": "code",
      "metadata": {
        "id": "N3TWkoiOFRlV",
        "colab_type": "code",
        "colab": {}
      },
      "source": [
        "(train_x, train_y), (test_x, test_y) = tf.keras.datasets.mnist.load_data()"
      ],
      "execution_count": 0,
      "outputs": []
    },
    {
      "cell_type": "code",
      "metadata": {
        "id": "8KNvSXY8FNWW",
        "colab_type": "code",
        "outputId": "febdf7d7-66ca-4ac4-9367-6b6fc6514c43",
        "colab": {
          "base_uri": "https://localhost:8080/",
          "height": 35
        }
      },
      "source": [
        "print(train_x.shape, train_y.shape, test_x.shape, test_y.shape)"
      ],
      "execution_count": 0,
      "outputs": [
        {
          "output_type": "stream",
          "text": [
            "(60000, 28, 28) (60000,) (10000, 28, 28) (10000,)\n"
          ],
          "name": "stdout"
        }
      ]
    },
    {
      "cell_type": "code",
      "metadata": {
        "id": "BAd66i9TTRkG",
        "colab_type": "code",
        "outputId": "b81db16e-ea06-4cfe-9124-196fd60d8b06",
        "colab": {
          "base_uri": "https://localhost:8080/",
          "height": 303
        }
      },
      "source": [
        "'''\n",
        "Ctrl+Enter를 이용하여\n",
        "반복 실행 해보자!\n",
        "'''\n",
        "\n",
        "id = rd.randrange(0,10000)\n",
        "\n",
        "print('id = {}'.format(id))\n",
        "print('다음 그림은 숫자 {} 입니다.'.format(test_y[id]))\n",
        "plt.imshow(test_x[id])\n",
        "plt.show()"
      ],
      "execution_count": 0,
      "outputs": [
        {
          "output_type": "stream",
          "text": [
            "id = 8621\n",
            "다음 그림은 숫자 0 입니다.\n"
          ],
          "name": "stdout"
        },
        {
          "output_type": "display_data",
          "data": {
            "image/png": "[encoded data removed]",
            "text/plain": [
              "<Figure size 432x288 with 1 Axes>"
            ]
          },
          "metadata": {
            "tags": [],
            "image/png": {
              "width": 253,
              "height": 250
            }
          }
        }
      ]
    },
    {
      "cell_type": "markdown",
      "metadata": {
        "id": "nxjV4ytsM0Rq",
        "colab_type": "text"
      },
      "source": [
        "### Keras에서 Convolutional Layer를 사용하기 위한 reshape!"
      ]
    },
    {
      "cell_type": "code",
      "metadata": {
        "id": "PoFKLB2cPyJF",
        "colab_type": "code",
        "colab": {}
      },
      "source": [
        "# One Hot Encoding\n",
        "train_y = keras.utils.to_categorical(train_y)\n",
        "test_y = keras.utils.to_categorical(test_y)"
      ],
      "execution_count": 0,
      "outputs": []
    },
    {
      "cell_type": "code",
      "metadata": {
        "id": "99f0aagKM5Zl",
        "colab_type": "code",
        "outputId": "ca8d7d01-573f-47c4-d684-658de1e381d8",
        "colab": {
          "base_uri": "https://localhost:8080/",
          "height": 35
        }
      },
      "source": [
        "# 마지막은 RGB 규격. 1이면 흑백으로 하겠다\n",
        "train_x = train_x.reshape(train_x.shape[0],28,28,1)\n",
        "test_x = test_x.reshape(test_x.shape[0],28,28,1)\n",
        "print(train_x.shape, train_y.shape, test_x.shape, test_y.shape)"
      ],
      "execution_count": 0,
      "outputs": [
        {
          "output_type": "stream",
          "text": [
            "(60000, 28, 28, 1) (60000, 10) (10000, 28, 28, 1) (10000, 10)\n"
          ],
          "name": "stdout"
        }
      ]
    },
    {
      "cell_type": "markdown",
      "metadata": {
        "id": "viSln5pqGc0G",
        "colab_type": "text"
      },
      "source": [
        "이미지 값을 0 ~ 1 사이 값을 갖도록 스케일 조정!"
      ]
    },
    {
      "cell_type": "code",
      "metadata": {
        "id": "wDay4MrZGkNl",
        "colab_type": "code",
        "outputId": "3dd03e85-ee8e-4d75-bc85-065f16851da7",
        "colab": {
          "base_uri": "https://localhost:8080/",
          "height": 35
        }
      },
      "source": [
        "print('max :', train_x.max(),'  min :', train_x.min())"
      ],
      "execution_count": 0,
      "outputs": [
        {
          "output_type": "stream",
          "text": [
            "max : 255   min : 0\n"
          ],
          "name": "stdout"
        }
      ]
    },
    {
      "cell_type": "code",
      "metadata": {
        "id": "DPFeq7FvGkyI",
        "colab_type": "code",
        "outputId": "4958bde2-2a7a-4925-d6db-dfb305ed73cd",
        "colab": {
          "base_uri": "https://localhost:8080/",
          "height": 35
        }
      },
      "source": [
        "max_num = train_x.max()\n",
        "\n",
        "train_x = train_x/max_num\n",
        "test_x = test_x/max_num\n",
        "\n",
        "print('max :', train_x.max(),'  min :', train_x.min())"
      ],
      "execution_count": 0,
      "outputs": [
        {
          "output_type": "stream",
          "text": [
            "max : 1.0   min : 0.0\n"
          ],
          "name": "stdout"
        }
      ]
    },
    {
      "cell_type": "markdown",
      "metadata": {
        "id": "SzNYHB8aGmIy",
        "colab_type": "text"
      },
      "source": [
        "## Sequential 을 이용하여 모델링 하자!\n",
        "\n",
        "CNN에 관한 것만 추가가 된다.\n",
        "[여기](https://keras.io/layers/convolutional/)를 적극적으로 참고하자"
      ]
    },
    {
      "cell_type": "code",
      "metadata": {
        "id": "nAXfWlC0Oi-L",
        "colab_type": "code",
        "outputId": "d168fd62-7012-491a-bd51-658c0e4069d7",
        "colab": {
          "base_uri": "https://localhost:8080/",
          "height": 35
        }
      },
      "source": [
        "backend.image_data_format()"
      ],
      "execution_count": 0,
      "outputs": [
        {
          "output_type": "execute_result",
          "data": {
            "text/plain": [
              "'channels_last'"
            ]
          },
          "metadata": {
            "tags": []
          },
          "execution_count": 9
        }
      ]
    },
    {
      "cell_type": "code",
      "metadata": {
        "id": "Zt3DEJ6fHDGo",
        "colab_type": "code",
        "outputId": "476de379-d09f-4a1e-af8a-e902ecde2aac",
        "colab": {
          "base_uri": "https://localhost:8080/",
          "height": 271
        }
      },
      "source": [
        "# 혹시 이미 그려둔 그래프가 있다면 날려줘!\n",
        "keras.backend.clear_session()\n",
        "\n",
        "# model에 순차적으로 레이어를 쌓아가겠다는 의도!\n",
        "model = keras.models.Sequential()\n",
        "\n",
        "# Sequential()을 사용하면, Input Layer는 자동으로 설계한다고 생각하면 됨!\n",
        "\n",
        "model.add( layers.Conv2D(filters = 8,            # filter의 개수\n",
        "                         kernel_size = (3, 3),   # Filter Size. 기본적으로 홀수 단위\n",
        "                         activation='relu',      \n",
        "                        input_shape = (28, 28,1))  ) # stride \n",
        "\n",
        "model.add( layers.Conv2D(filters = 16,\n",
        "                         kernel_size = (3, 3),\n",
        "                         activation='relu')  )\n",
        "\n",
        "model.add( layers.Flatten() )\n",
        "\n",
        "model.add( layers.Dense(64, activation = 'relu') )\n",
        "\n",
        "model.add( layers.Dense(10, activation = 'softmax'))\n",
        "\n",
        "model.compile(loss = keras.losses.categorical_crossentropy,\n",
        "              optimizer = 'adam',\n",
        "              metrics=['accuracy'])"
      ],
      "execution_count": 0,
      "outputs": [
        {
          "output_type": "stream",
          "text": [
            "WARNING: Logging before flag parsing goes to stderr.\n",
            "W0711 07:43:55.992970 140464580818816 deprecation_wrapper.py:119] From /usr/local/lib/python3.6/dist-packages/keras/backend/tensorflow_backend.py:95: The name tf.reset_default_graph is deprecated. Please use tf.compat.v1.reset_default_graph instead.\n",
            "\n",
            "W0711 07:43:55.995131 140464580818816 deprecation_wrapper.py:119] From /usr/local/lib/python3.6/dist-packages/keras/backend/tensorflow_backend.py:98: The name tf.placeholder_with_default is deprecated. Please use tf.compat.v1.placeholder_with_default instead.\n",
            "\n",
            "W0711 07:43:56.021868 140464580818816 deprecation_wrapper.py:119] From /usr/local/lib/python3.6/dist-packages/keras/backend/tensorflow_backend.py:102: The name tf.get_default_graph is deprecated. Please use tf.compat.v1.get_default_graph instead.\n",
            "\n",
            "W0711 07:43:56.026608 140464580818816 deprecation_wrapper.py:119] From /usr/local/lib/python3.6/dist-packages/keras/backend/tensorflow_backend.py:517: The name tf.placeholder is deprecated. Please use tf.compat.v1.placeholder instead.\n",
            "\n",
            "W0711 07:43:56.031295 140464580818816 deprecation_wrapper.py:119] From /usr/local/lib/python3.6/dist-packages/keras/backend/tensorflow_backend.py:4138: The name tf.random_uniform is deprecated. Please use tf.random.uniform instead.\n",
            "\n",
            "W0711 07:43:56.133973 140464580818816 deprecation_wrapper.py:119] From /usr/local/lib/python3.6/dist-packages/keras/optimizers.py:790: The name tf.train.Optimizer is deprecated. Please use tf.compat.v1.train.Optimizer instead.\n",
            "\n"
          ],
          "name": "stderr"
        }
      ]
    },
    {
      "cell_type": "code",
      "metadata": {
        "id": "K2UHOO_FRGzf",
        "colab_type": "code",
        "colab": {}
      },
      "source": [
        "# ###########################################\n",
        "# ## 이 코드를 수정하여, 성능을 높여 보자! ##\n",
        "# ###########################################\n",
        "\n",
        "# '''\n",
        "# 1. filter의 사이즈를 바꾸어 보아도 좋다.\n",
        "# 2. filter의 숫자를 바꾸어 보아도 좋다.\n",
        "# 3. Conv2D를 추가해도 좋다!\n",
        "# 4. Fully Connected Layer (Dense) 의 노드 숫자를 바꾸어보아도 좋다.\n",
        "# 5. model.fit 부분의 batch_size를 바꾸어 봐도 좋다.\n",
        "\n",
        "# '''\n",
        "\n",
        "# # 혹시 이미 그려둔 그래프가 있다면 날려줘!\n",
        "# keras.backend.clear_session()\n",
        "\n",
        "# # model에 순차적으로 레이어를 쌓아가겠다는 의도!\n",
        "# model = keras.models.Sequential()\n",
        "\n",
        "# # Sequential()을 사용하면, Input Layer는 자동으로 설계한다고 생각하면 됨!\n",
        "\n",
        "# model.add( layers.Conv2D(filters = 8,\n",
        "#                          kernel_size = (3, 3),\n",
        "#                          activation='relu',\n",
        "#                         input_shape = (28, 28,1))  )\n",
        "\n",
        "# model.add( layers.Conv2D(filters = 16,\n",
        "#                          kernel_size = (3, 3),\n",
        "#                          activation='relu')  )\n",
        "\n",
        "# model.add( layers.Flatten() )\n",
        "\n",
        "# model.add( layers.Dense(64, activation = 'relu') )\n",
        "\n",
        "# model.add( layers.Dense(10, activation = 'softmax'))\n",
        "\n",
        "# model.compile(loss = keras.losses.categorical_crossentropy,\n",
        "#               optimizer = 'adam',\n",
        "#               metrics=['accuracy'])"
      ],
      "execution_count": 0,
      "outputs": []
    },
    {
      "cell_type": "code",
      "metadata": {
        "id": "1rUCccKfLyvZ",
        "colab_type": "code",
        "outputId": "2ea872c6-9ec7-42a2-c57f-536e7fedd271",
        "colab": {
          "base_uri": "https://localhost:8080/",
          "height": 323
        }
      },
      "source": [
        "model.summary()"
      ],
      "execution_count": 0,
      "outputs": [
        {
          "output_type": "stream",
          "text": [
            "_________________________________________________________________\n",
            "Layer (type)                 Output Shape              Param #   \n",
            "=================================================================\n",
            "conv2d_1 (Conv2D)            (None, 26, 26, 8)         80        \n",
            "_________________________________________________________________\n",
            "conv2d_2 (Conv2D)            (None, 24, 24, 16)        1168      \n",
            "_________________________________________________________________\n",
            "flatten_1 (Flatten)          (None, 9216)              0         \n",
            "_________________________________________________________________\n",
            "dense_1 (Dense)              (None, 64)                589888    \n",
            "_________________________________________________________________\n",
            "dense_2 (Dense)              (None, 10)                650       \n",
            "=================================================================\n",
            "Total params: 591,786\n",
            "Trainable params: 591,786\n",
            "Non-trainable params: 0\n",
            "_________________________________________________________________\n"
          ],
          "name": "stdout"
        }
      ]
    },
    {
      "cell_type": "code",
      "metadata": {
        "id": "knZfBr3OPjap",
        "colab_type": "code",
        "outputId": "fc50c9bc-b777-46a7-aa80-bc51176184eb",
        "colab": {
          "base_uri": "https://localhost:8080/",
          "height": 649
        }
      },
      "source": [
        "# 데이터를 넣어서 학습시키자!\n",
        "history = model.fit(train_x, train_y, epochs=15, batch_size = 2000,\n",
        "                    validation_split = 0.2, verbose=1)\n"
      ],
      "execution_count": 0,
      "outputs": [
        {
          "output_type": "stream",
          "text": [
            "W0711 07:44:41.806987 140464580818816 deprecation.py:323] From /usr/local/lib/python3.6/dist-packages/tensorflow/python/ops/math_grad.py:1250: add_dispatch_support.<locals>.wrapper (from tensorflow.python.ops.array_ops) is deprecated and will be removed in a future version.\n",
            "Instructions for updating:\n",
            "Use tf.where in 2.0, which has the same broadcast rule as np.where\n"
          ],
          "name": "stderr"
        },
        {
          "output_type": "stream",
          "text": [
            "Train on 48000 samples, validate on 12000 samples\n",
            "Epoch 1/15\n",
            "48000/48000 [==============================] - 5s 105us/step - loss: 1.0101 - acc: 0.7609 - val_loss: 0.3611 - val_acc: 0.8941\n",
            "Epoch 2/15\n",
            "48000/48000 [==============================] - 1s 31us/step - loss: 0.3162 - acc: 0.9075 - val_loss: 0.2492 - val_acc: 0.9300\n",
            "Epoch 3/15\n",
            "48000/48000 [==============================] - 1s 31us/step - loss: 0.2266 - acc: 0.9347 - val_loss: 0.1876 - val_acc: 0.9478\n",
            "Epoch 4/15\n",
            "48000/48000 [==============================] - 1s 31us/step - loss: 0.1726 - acc: 0.9509 - val_loss: 0.1527 - val_acc: 0.9568\n",
            "Epoch 5/15\n",
            "48000/48000 [==============================] - 1s 31us/step - loss: 0.1355 - acc: 0.9607 - val_loss: 0.1221 - val_acc: 0.9673\n",
            "Epoch 6/15\n",
            "48000/48000 [==============================] - 1s 31us/step - loss: 0.1060 - acc: 0.9702 - val_loss: 0.1065 - val_acc: 0.9694\n",
            "Epoch 7/15\n",
            "48000/48000 [==============================] - 1s 31us/step - loss: 0.0875 - acc: 0.9755 - val_loss: 0.0913 - val_acc: 0.9740\n",
            "Epoch 8/15\n",
            "48000/48000 [==============================] - 2s 31us/step - loss: 0.0755 - acc: 0.9787 - val_loss: 0.0824 - val_acc: 0.9760\n",
            "Epoch 9/15\n",
            "48000/48000 [==============================] - 1s 31us/step - loss: 0.0655 - acc: 0.9818 - val_loss: 0.0778 - val_acc: 0.9778\n",
            "Epoch 10/15\n",
            "48000/48000 [==============================] - 1s 31us/step - loss: 0.0593 - acc: 0.9826 - val_loss: 0.0718 - val_acc: 0.9798\n",
            "Epoch 11/15\n",
            "48000/48000 [==============================] - 1s 31us/step - loss: 0.0516 - acc: 0.9853 - val_loss: 0.0676 - val_acc: 0.9805\n",
            "Epoch 12/15\n",
            "48000/48000 [==============================] - 2s 31us/step - loss: 0.0479 - acc: 0.9865 - val_loss: 0.0676 - val_acc: 0.9800\n",
            "Epoch 13/15\n",
            "48000/48000 [==============================] - 1s 31us/step - loss: 0.0433 - acc: 0.9874 - val_loss: 0.0635 - val_acc: 0.9811\n",
            "Epoch 14/15\n",
            "48000/48000 [==============================] - 1s 31us/step - loss: 0.0385 - acc: 0.9892 - val_loss: 0.0639 - val_acc: 0.9820\n",
            "Epoch 15/15\n",
            "48000/48000 [==============================] - 1s 31us/step - loss: 0.0351 - acc: 0.9896 - val_loss: 0.0609 - val_acc: 0.9828\n"
          ],
          "name": "stdout"
        }
      ]
    },
    {
      "cell_type": "code",
      "metadata": {
        "id": "FJMYuSnQPoqt",
        "colab_type": "code",
        "outputId": "94c57d3b-1252-4267-c5d0-c2fb4a004abf",
        "colab": {
          "base_uri": "https://localhost:8080/",
          "height": 53
        }
      },
      "source": [
        "performance_test = model.evaluate(test_x, test_y, batch_size = 100)\n",
        "\n",
        "print('Test Loss : {:.6f},  Test Accuracy : {:.3f}%'.format(performance_test[0], performance_test[1]*100))"
      ],
      "execution_count": 0,
      "outputs": [
        {
          "output_type": "stream",
          "text": [
            "10000/10000 [==============================] - 0s 36us/step\n",
            "Test Loss : 0.054680,  Test Accuracy : 98.260%\n"
          ],
          "name": "stdout"
        }
      ]
    },
    {
      "cell_type": "code",
      "metadata": {
        "id": "H5Ir4b-DQ3VG",
        "colab_type": "code",
        "outputId": "438820ea-6f6b-45ad-d5b7-7b2a1e0f2f12",
        "colab": {
          "base_uri": "https://localhost:8080/",
          "height": 294
        }
      },
      "source": [
        "if not isinstance(history, dict):\n",
        "    history = history.history\n",
        "\n",
        "plt.plot(history['acc'])\n",
        "plt.plot(history['val_acc'])\n",
        "plt.title('Accuracy : Training vs Validation')\n",
        "plt.ylabel('Accuracy')\n",
        "plt.xlabel('Epoch')\n",
        "plt.legend(['Training', 'Validation'], loc=0)\n",
        "plt.show()"
      ],
      "execution_count": 0,
      "outputs": [
        {
          "output_type": "display_data",
          "data": {
            "image/png": "[encoded data removed]",
            "text/plain": [
              "<Figure size 432x288 with 1 Axes>"
            ]
          },
          "metadata": {
            "tags": [],
            "image/png": {
              "width": 393,
              "height": 277
            }
          }
        }
      ]
    },
    {
      "cell_type": "code",
      "metadata": {
        "id": "mfiGA-DvQ42n",
        "colab_type": "code",
        "outputId": "5b35aafc-8cd1-4a9d-88df-beab278b4bfa",
        "colab": {
          "base_uri": "https://localhost:8080/",
          "height": 294
        }
      },
      "source": [
        "if not isinstance(history, dict):\n",
        "    history = history.history\n",
        "\n",
        "plt.plot(history['loss'])\n",
        "plt.plot(history['val_loss'])\n",
        "plt.title('Loss : Training vs Validation')\n",
        "plt.ylabel('Loss')\n",
        "plt.xlabel('Epoch')\n",
        "plt.legend(['Training', 'Validation'], loc=0)\n",
        "plt.show()"
      ],
      "execution_count": 0,
      "outputs": [
        {
          "output_type": "display_data",
          "data": {
            "image/png": "[encoded data removed]",
            "text/plain": [
              "<Figure size 432x288 with 1 Axes>"
            ]
          },
          "metadata": {
            "tags": [],
            "image/png": {
              "width": 387,
              "height": 277
            }
          }
        }
      ]
    },
    {
      "cell_type": "code",
      "metadata": {
        "id": "IwBEu_E8HFzv",
        "colab_type": "code",
        "colab": {}
      },
      "source": [
        ""
      ],
      "execution_count": 0,
      "outputs": []
    },
    {
      "cell_type": "code",
      "metadata": {
        "id": "ErRidyIDTAXd",
        "colab_type": "code",
        "outputId": "9b615950-caa8-4864-80bc-97de8e3b6f1f",
        "colab": {
          "base_uri": "https://localhost:8080/",
          "height": 71
        }
      },
      "source": [
        "pred_train = model.predict(train_x)\n",
        "pred_test = model.predict(test_x)\n",
        "\n",
        "single_pred_train = pred_train.argmax(axis=1)\n",
        "single_pred_test = pred_test.argmax(axis=1)\n",
        "\n",
        "\n",
        "logi_train_accuracy = accuracy_score(train_y.argmax(axis=1), single_pred_train)\n",
        "logi_test_accuracy = accuracy_score(test_y.argmax(axis=1), single_pred_test)\n",
        "\n",
        "\n",
        "print('CNN')\n",
        "print('트레이닝 정확도 : {:.2f}%'.format(logi_train_accuracy*100))\n",
        "print('테스트 정확도 : {:.2f}%'.format(logi_test_accuracy*100))"
      ],
      "execution_count": 0,
      "outputs": [
        {
          "output_type": "stream",
          "text": [
            "CNN\n",
            "트레이닝 정확도 : 98.94%\n",
            "테스트 정확도 : 98.26%\n"
          ],
          "name": "stdout"
        }
      ]
    },
    {
      "cell_type": "code",
      "metadata": {
        "id": "L3U38rGQTDx_",
        "colab_type": "code",
        "outputId": "224da37c-9471-4438-b457-9286bbd77242",
        "colab": {
          "base_uri": "https://localhost:8080/",
          "height": 357
        }
      },
      "source": [
        "'''\n",
        "성능 확인을 위해\n",
        "Ctrl+Enter를 이용하여\n",
        "반복 실행 해보자!\n",
        "'''\n",
        "\n",
        "id = rd.randrange(0,10000)\n",
        "\n",
        "print('id = {}'.format(id))\n",
        "print('다음 그림은 숫자 {} 입니다.'.format(test_y.argmax(axis=1)[id]))\n",
        "print('모델의 예측 : {}'.format(single_pred_test[id]))\n",
        "print('모델의 카테고리별 확률 : {}'.format(np.floor(pred_test[id]*100)))\n",
        "if test_y.argmax(axis=1)[id] == single_pred_test[id] :\n",
        "    print('정답입니다')\n",
        "else : \n",
        "    print('틀렸어요')\n",
        "plt.imshow(test_x[id].reshape([28,-1]))\n",
        "plt.show()"
      ],
      "execution_count": 0,
      "outputs": [
        {
          "output_type": "stream",
          "text": [
            "id = 9330\n",
            "다음 그림은 숫자 8 입니다.\n",
            "모델의 예측 : 8\n",
            "모델의 카테고리별 확률 : [ 0.  0.  0.  0.  0.  0.  0.  0. 99.  0.]\n",
            "정답입니다\n"
          ],
          "name": "stdout"
        },
        {
          "output_type": "display_data",
          "data": {
            "image/png": "[encoded data removed]",
            "text/plain": [
              "<Figure size 432x288 with 1 Axes>"
            ]
          },
          "metadata": {
            "tags": [],
            "image/png": {
              "width": 253,
              "height": 250
            }
          }
        }
      ]
    },
    {
      "cell_type": "code",
      "metadata": {
        "id": "3RDJuEcbTAeg",
        "colab_type": "code",
        "outputId": "4b43a6c3-3ac0-4623-bb13-f45537353ff4",
        "colab": {
          "base_uri": "https://localhost:8080/",
          "height": 357
        }
      },
      "source": [
        "'''\n",
        "틀린 것만 관찰해보자!\n",
        "\n",
        "Ctrl+Enter를 이용하여\n",
        "반복 실행 해보자!\n",
        "'''\n",
        "\n",
        "true_false = (test_y.argmax(axis=1) == single_pred_test)\n",
        "f_id = np.where(true_false == False)[0]\n",
        "f_n = len(f_id)\n",
        "\n",
        "id = f_id[rd.randrange(0,f_n)]\n",
        "\n",
        "\n",
        "print('id = {}'.format(id))\n",
        "print('다음 그림은 숫자 {} 입니다.'.format(test_y.argmax(axis=1)[id]))\n",
        "print('모델의 예측 : {}'.format(single_pred_test[id]))\n",
        "print('모델의 카테고리별 확률 : {}'.format(np.floor(pred_test[id]*100)))\n",
        "if test_y.argmax(axis=1)[id] == single_pred_test[id] :\n",
        "    print('정답입니다')\n",
        "else : \n",
        "    print('틀렸어요')\n",
        "plt.imshow(test_x[id].reshape([28,-1]))\n",
        "plt.show()"
      ],
      "execution_count": 0,
      "outputs": [
        {
          "output_type": "stream",
          "text": [
            "id = 6572\n",
            "다음 그림은 숫자 1 입니다.\n",
            "모델의 예측 : 3\n",
            "모델의 카테고리별 확률 : [ 0. 14.  6. 41.  0. 27.  0.  6.  2.  1.]\n",
            "틀렸어요\n"
          ],
          "name": "stdout"
        },
        {
          "output_type": "display_data",
          "data": {
            "image/png": "[encoded data removed]",
            "text/plain": [
              "<Figure size 432x288 with 1 Axes>"
            ]
          },
          "metadata": {
            "tags": [],
            "image/png": {
              "width": 253,
              "height": 250
            }
          }
        }
      ]
    },
    {
      "cell_type": "code",
      "metadata": {
        "id": "5hjk-EcuTAlE",
        "colab_type": "code",
        "colab": {}
      },
      "source": [
        ""
      ],
      "execution_count": 0,
      "outputs": []
    },
    {
      "cell_type": "markdown",
      "metadata": {
        "id": "iLYle-HPFNgx",
        "colab_type": "text"
      },
      "source": [
        "## Real Game : CNN on CIFAR-10\n",
        "\n",
        "여기에서는 여러분이 직접 코드를 완성해야 하는 문제가 곳곳에 있습니다!"
      ]
    },
    {
      "cell_type": "code",
      "metadata": {
        "id": "SpxQtfTUUI5r",
        "colab_type": "code",
        "colab": {}
      },
      "source": [
        "'''\n",
        "matplolib inline 명령어를 통해서\n",
        "matplot으로 그리는 플롯들을 주피터 노트북 내에서 볼 수 있게 해준다.\n",
        "포맷을 retina로 바꾸면 그래프의 화질이 훨씬 좋아진다.\n",
        "'''\n",
        "%matplotlib inline\n",
        "%config InlineBackend.figure_format = 'retina'\n",
        "\n",
        "'''\n",
        "라이브러리들을 불러오자.\n",
        "'''\n",
        "import numpy as np\n",
        "import pandas as pd\n",
        "import matplotlib.pyplot as plt\n",
        "import tensorflow as tf\n",
        "import keras\n",
        "\n",
        "from keras.utils import np_utils\n",
        "from keras.callbacks import EarlyStopping\n",
        "from keras.layers import Dense, BatchNormalization, Activation, Dropout\n",
        "from keras import layers, models\n",
        "from keras import backend\n",
        "\n",
        "import random as rd\n",
        "\n",
        "from sklearn.metrics import accuracy_score"
      ],
      "execution_count": 0,
      "outputs": []
    },
    {
      "cell_type": "markdown",
      "metadata": {
        "id": "dxB_-9itUhFy",
        "colab_type": "text"
      },
      "source": [
        "### 데이터를 불러옵시다."
      ]
    },
    {
      "cell_type": "code",
      "metadata": {
        "id": "4uNApF4YVdf7",
        "colab_type": "code",
        "colab": {}
      },
      "source": [
        "(train_x, train_y), (test_x, test_y) = tf.keras.datasets.cifar10.load_data()"
      ],
      "execution_count": 0,
      "outputs": []
    },
    {
      "cell_type": "code",
      "metadata": {
        "id": "0EcfUETOUhIy",
        "colab_type": "code",
        "outputId": "eee78a41-fe1e-4af4-8d09-864646d3b0fb",
        "colab": {
          "base_uri": "https://localhost:8080/",
          "height": 35
        }
      },
      "source": [
        "print(train_x.shape, train_y.shape, test_x.shape, test_y.shape)"
      ],
      "execution_count": 0,
      "outputs": [
        {
          "output_type": "stream",
          "text": [
            "(50000, 32, 32, 3) (50000, 1) (10000, 32, 32, 3) (10000, 1)\n"
          ],
          "name": "stdout"
        }
      ]
    },
    {
      "cell_type": "code",
      "metadata": {
        "id": "D7-ICNlAVhIM",
        "colab_type": "code",
        "outputId": "33aaf5c5-e415-436a-e30f-6deff6e5f84e",
        "colab": {
          "base_uri": "https://localhost:8080/",
          "height": 55
        }
      },
      "source": [
        "labels = { 0 : 'Airplane',\n",
        "          1 : 'Automobile',\n",
        "          2 : 'Bird',\n",
        "          3 : 'Cat',\n",
        "          4 : 'Deer',\n",
        "          5 : 'Dog',\n",
        "          6 : 'Frog',\n",
        "          7 : 'Horse',\n",
        "          8 : 'Ship',\n",
        "          9 : 'Truck' }\n",
        "\n",
        "print(labels)"
      ],
      "execution_count": 0,
      "outputs": [
        {
          "output_type": "stream",
          "text": [
            "{0: 'Airplane', 1: 'Automobile', 2: 'Bird', 3: 'Cat', 4: 'Deer', 5: 'Dog', 6: 'Frog', 7: 'Horse', 8: 'Ship', 9: 'Truck'}\n"
          ],
          "name": "stdout"
        }
      ]
    },
    {
      "cell_type": "code",
      "metadata": {
        "id": "06UwAC3JV7uj",
        "colab_type": "code",
        "outputId": "6c8828e6-72df-478d-8167-1dfbabc11b97",
        "colab": {
          "base_uri": "https://localhost:8080/",
          "height": 303
        }
      },
      "source": [
        "'''\n",
        "Ctrl+Enter를 이용하여\n",
        "반복 실행 해보자!\n",
        "'''\n",
        "\n",
        "id = rd.randrange(0,10000)\n",
        "\n",
        "print('id = {}'.format(id))\n",
        "print('다음 그림은 {} 입니다.'.format( labels[test_y[id][0]] ))\n",
        "plt.imshow(test_x[id])\n",
        "plt.show()"
      ],
      "execution_count": 0,
      "outputs": [
        {
          "output_type": "stream",
          "text": [
            "id = 5983\n",
            "다음 그림은 Deer 입니다.\n"
          ],
          "name": "stdout"
        },
        {
          "output_type": "display_data",
          "data": {
            "image/png": "[encoded data removed]",
            "text/plain": [
              "<Figure size 432x288 with 1 Axes>"
            ]
          },
          "metadata": {
            "tags": [],
            "image/png": {
              "width": 253,
              "height": 250
            }
          }
        }
      ]
    },
    {
      "cell_type": "code",
      "metadata": {
        "id": "cWL_no_LR3U8",
        "colab_type": "code",
        "outputId": "d6555693-ca2d-4775-bf49-cfc64ab931ee",
        "colab": {
          "base_uri": "https://localhost:8080/",
          "height": 35
        }
      },
      "source": [
        "print('max :', train_x.max(),'  min :', train_x.min())"
      ],
      "execution_count": 0,
      "outputs": [
        {
          "output_type": "stream",
          "text": [
            "max : 255   min : 0\n"
          ],
          "name": "stdout"
        }
      ]
    },
    {
      "cell_type": "code",
      "metadata": {
        "id": "3An_EZn0R4wM",
        "colab_type": "code",
        "outputId": "9c1e4f03-bfd7-466e-f61a-70922aa25eda",
        "colab": {
          "base_uri": "https://localhost:8080/",
          "height": 35
        }
      },
      "source": [
        "max_num = train_x.max()\n",
        "\n",
        "train_x = train_x/max_num\n",
        "test_x = test_x/max_num\n",
        "\n",
        "print('max :', train_x.max(),'  min :', train_x.min())"
      ],
      "execution_count": 0,
      "outputs": [
        {
          "output_type": "stream",
          "text": [
            "max : 1.0   min : 0.0\n"
          ],
          "name": "stdout"
        }
      ]
    },
    {
      "cell_type": "code",
      "metadata": {
        "id": "gNs8-ZziR50H",
        "colab_type": "code",
        "outputId": "2a31dde2-707d-4d1c-c704-bb4def5ca6d4",
        "colab": {
          "base_uri": "https://localhost:8080/",
          "height": 35
        }
      },
      "source": [
        "# One-hot Encoding\n",
        "\n",
        "train_y = np_utils.to_categorical(train_y)\n",
        "test_y = np_utils.to_categorical(test_y)\n",
        "\n",
        "print(test_y[2])"
      ],
      "execution_count": 0,
      "outputs": [
        {
          "output_type": "stream",
          "text": [
            "[0. 0. 0. 0. 0. 0. 0. 0. 1. 0.]\n"
          ],
          "name": "stdout"
        }
      ]
    },
    {
      "cell_type": "code",
      "metadata": {
        "id": "R0wVmwf-SGDE",
        "colab_type": "code",
        "outputId": "81894df9-d973-4ea5-fee4-07f12cf2da3c",
        "colab": {
          "base_uri": "https://localhost:8080/",
          "height": 35
        }
      },
      "source": [
        "print(train_x.shape, train_y.shape, test_x.shape, test_y.shape)"
      ],
      "execution_count": 0,
      "outputs": [
        {
          "output_type": "stream",
          "text": [
            "(50000, 32, 32, 3) (50000, 10) (10000, 32, 32, 3) (10000, 10)\n"
          ],
          "name": "stdout"
        }
      ]
    },
    {
      "cell_type": "markdown",
      "metadata": {
        "id": "mQ_FTTj7XAtC",
        "colab_type": "text"
      },
      "source": [
        "### 코드를 완성해주세요!\n",
        "\n",
        "힌트 먼저.\n",
        "\n",
        "\n",
        "\n",
        "반드시 사용해야 할 것!\n",
        "\n",
        "* layers.Conv2D\n",
        "\n",
        "```\n",
        "layers.Conv2D(filters = 사용할 필터 수,\n",
        "kernel_initializer = 'glorot_uniform', # 추천\n",
        "bias_initializer = 'glorot_uniform', # 추천\n",
        "strides = (1, 1), # 좌우로도 한 칸, 위아래도 한 칸\n",
        "padding = ,# 'valid' : 없음, 'same' : same패딩\n",
        "activation = None # 기본 세팅. Batch Normalization을 위하여!\n",
        "use_bias = True # 기본 세팅. 왜 bias가 필요할까?\n",
        ")\n",
        "```\n",
        "* BatchNormalization()\n",
        "    * Activation 앞에 두는 것을 추천한다.\n",
        "    * 하지만 모를 노릇!\n",
        "    * Activation 뒤에 둘 거라면, 위 Conv2D 에서, activation = None 의 None을 다른 것으로 바꾸어주면 된다.\n",
        "* Activation()\n",
        "    * Conv2D나, Dense안에서 activation = 으로 해결할 것이라면 사용할 필요 없음.\n",
        "    * Batch Normalization을 정석적으로 사용할 것이라면 필요함.\n",
        "    * tanh, sigmoid, ReLU, eLU 정도는 알아두는 것이 좋다.\n",
        "* layers.MaxPooling2D(pool_size = (2, 2))\n",
        "    * activation 뒤에 풀링을 두어도 좋다.\n",
        "    * AveragePooling 도 있음.\n",
        "    * 그 외 다른 것을 찾아서 실험해봐도 좋다.    \n",
        "* Dropout()\n",
        "    * Dropout(0.2) : 방금 레이어의 노드들 중 20%는 랜덤하게 죽일거야!\n",
        "\n",
        "* optimizers.____\n",
        "    * compile 할 때, 기본 내장된 optimizer들을 조금 더 조절해가며 사용할 수 있다.\n",
        "    \n",
        "* EarlyStopping 의 옵션도 조절해보자."
      ]
    },
    {
      "cell_type": "code",
      "metadata": {
        "id": "CBr9O24_JGPT",
        "colab_type": "code",
        "colab": {}
      },
      "source": [
        "#############\n",
        "# Your Code #\n",
        "#############\n",
        "\n",
        "#혹시 이미 그려둔 그래프가 있다면 날려줘!\n",
        "keras.backend.clear_session()\n",
        "\n",
        "# model에 순차적으로 레이어를 쌓아가겠다는 의도!\n",
        "model = models.Sequential()\n",
        "\n",
        "model.add( layers.Conv2D(filters=32,\n",
        "                          kernel_size = (3, 3),\n",
        "                        input_shape = (32, 32, 3),\n",
        "                        padding = 'same'))\n",
        "\n",
        "model.add(BatchNormalization()) \n",
        "model.add(Activation('relu'))\n",
        "model.add( Dropout(0.2) )\n",
        "\n",
        "\n",
        "model.add( layers.Conv2D(filters=64,\n",
        "                          kernel_size = (3, 3),\n",
        "                        padding = 'same'))\n",
        "\n",
        "model.add(BatchNormalization()) \n",
        "model.add(Activation('relu'))\n",
        "model.add( Dropout(0.2) )\n",
        "model.add(layers.MaxPooling2D(pool_size = (2, 2)))\n",
        "\n",
        "model.add( layers.Conv2D(filters=128,\n",
        "                          kernel_size = (3, 3),\n",
        "                        padding = 'same'))\n",
        "\n",
        "model.add(BatchNormalization()) \n",
        "model.add(Activation('relu'))\n",
        "model.add( Dropout(0.2) )\n",
        "model.add(layers.MaxPooling2D(pool_size = (2, 2)))\n",
        "\n",
        "model.add( layers.Flatten())\n",
        "\n",
        "model.add( layers.Dense(512, activation='relu'))\n",
        "\n",
        "model.add( layers.Dense(512, activation='relu'))\n",
        "\n",
        "model.add( layers.Dense(512, activation='relu'))\n",
        "\n",
        "model.add( layers.Dense(10, activation='softmax'))\n",
        "\n",
        "#model.compile(loss = keras.losses.categorical_crossentropy, optimizer='adam', metrics=['accuracy'])\n",
        "\n",
        "\n",
        "\n",
        "\n",
        "\n",
        "\n",
        "\n",
        "\n",
        "\n",
        "\n",
        "\n",
        "\n",
        "\n"
      ],
      "execution_count": 0,
      "outputs": []
    },
    {
      "cell_type": "code",
      "metadata": {
        "id": "VowlLP6dJGRw",
        "colab_type": "code",
        "colab": {}
      },
      "source": [
        "from keras import optimizers\n",
        "\n",
        "adam = optimizers.Adam(lr=0.0001) # lr을 조정해보자.\n",
        "\n",
        "# 컴파일 해주렴!\n",
        "model.compile(loss = 'categorical_crossentropy', optimizer = adam,\n",
        "              metrics =['accuracy'])"
      ],
      "execution_count": 0,
      "outputs": []
    },
    {
      "cell_type": "code",
      "metadata": {
        "id": "S7W3_nNHah5x",
        "colab_type": "code",
        "outputId": "cdefc8ea-62af-4b26-9385-dfba1aafc19b",
        "colab": {
          "base_uri": "https://localhost:8080/",
          "height": 827
        }
      },
      "source": [
        "model.summary()"
      ],
      "execution_count": 0,
      "outputs": [
        {
          "output_type": "stream",
          "text": [
            "_________________________________________________________________\n",
            "Layer (type)                 Output Shape              Param #   \n",
            "=================================================================\n",
            "conv2d_1 (Conv2D)            (None, 32, 32, 32)        896       \n",
            "_________________________________________________________________\n",
            "batch_normalization_1 (Batch (None, 32, 32, 32)        128       \n",
            "_________________________________________________________________\n",
            "activation_1 (Activation)    (None, 32, 32, 32)        0         \n",
            "_________________________________________________________________\n",
            "dropout_1 (Dropout)          (None, 32, 32, 32)        0         \n",
            "_________________________________________________________________\n",
            "conv2d_2 (Conv2D)            (None, 32, 32, 64)        18496     \n",
            "_________________________________________________________________\n",
            "batch_normalization_2 (Batch (None, 32, 32, 64)        256       \n",
            "_________________________________________________________________\n",
            "activation_2 (Activation)    (None, 32, 32, 64)        0         \n",
            "_________________________________________________________________\n",
            "dropout_2 (Dropout)          (None, 32, 32, 64)        0         \n",
            "_________________________________________________________________\n",
            "max_pooling2d_1 (MaxPooling2 (None, 16, 16, 64)        0         \n",
            "_________________________________________________________________\n",
            "conv2d_3 (Conv2D)            (None, 16, 16, 128)       73856     \n",
            "_________________________________________________________________\n",
            "batch_normalization_3 (Batch (None, 16, 16, 128)       512       \n",
            "_________________________________________________________________\n",
            "activation_3 (Activation)    (None, 16, 16, 128)       0         \n",
            "_________________________________________________________________\n",
            "dropout_3 (Dropout)          (None, 16, 16, 128)       0         \n",
            "_________________________________________________________________\n",
            "max_pooling2d_2 (MaxPooling2 (None, 8, 8, 128)         0         \n",
            "_________________________________________________________________\n",
            "flatten_1 (Flatten)          (None, 8192)              0         \n",
            "_________________________________________________________________\n",
            "dense_1 (Dense)              (None, 512)               4194816   \n",
            "_________________________________________________________________\n",
            "dense_2 (Dense)              (None, 512)               262656    \n",
            "_________________________________________________________________\n",
            "dense_3 (Dense)              (None, 512)               262656    \n",
            "_________________________________________________________________\n",
            "dense_4 (Dense)              (None, 10)                5130      \n",
            "=================================================================\n",
            "Total params: 4,819,402\n",
            "Trainable params: 4,818,954\n",
            "Non-trainable params: 448\n",
            "_________________________________________________________________\n"
          ],
          "name": "stdout"
        }
      ]
    },
    {
      "cell_type": "code",
      "metadata": {
        "id": "JfLvdpqBJrs9",
        "colab_type": "code",
        "outputId": "11be6eba-d743-46b8-b512-74d52e050c15",
        "colab": {
          "base_uri": "https://localhost:8080/",
          "height": 1000
        }
      },
      "source": [
        "es = EarlyStopping(monitor = 'val_loss',\n",
        "                  min_delta = 0, # 개선되고 있다고 판단하기 위한 최소 변화량\n",
        "                  patience = 10, # 개선 없는 epoch 얼마나 기달려 줄거야?\n",
        "                  verbose = 1\n",
        "                  )\n",
        "\n",
        "\n",
        "# 데이터를 넣어서 학습시키자!\n",
        "history = model.fit(train_x, train_y, epochs=20000, batch_size = 2048,\n",
        "                    validation_split = 0.2, verbose=1,\n",
        "                   callbacks = [es])"
      ],
      "execution_count": 0,
      "outputs": [
        {
          "output_type": "stream",
          "text": [
            "Train on 40000 samples, validate on 10000 samples\n",
            "Epoch 1/20000\n",
            "40000/40000 [==============================] - 20s 508us/step - loss: 1.9718 - acc: 0.2863 - val_loss: 1.9197 - val_acc: 0.3050\n",
            "Epoch 2/20000\n",
            "40000/40000 [==============================] - 15s 370us/step - loss: 1.5930 - acc: 0.4293 - val_loss: 1.7677 - val_acc: 0.3410\n",
            "Epoch 3/20000\n",
            "40000/40000 [==============================] - 15s 368us/step - loss: 1.4619 - acc: 0.4753 - val_loss: 1.7499 - val_acc: 0.3557\n",
            "Epoch 4/20000\n",
            "40000/40000 [==============================] - 15s 370us/step - loss: 1.3665 - acc: 0.5085 - val_loss: 1.6693 - val_acc: 0.3818\n",
            "Epoch 5/20000\n",
            "40000/40000 [==============================] - 15s 370us/step - loss: 1.2941 - acc: 0.5358 - val_loss: 1.7124 - val_acc: 0.3588\n",
            "Epoch 6/20000\n",
            "40000/40000 [==============================] - 15s 369us/step - loss: 1.2306 - acc: 0.5605 - val_loss: 1.8175 - val_acc: 0.3118\n",
            "Epoch 7/20000\n",
            "40000/40000 [==============================] - 15s 370us/step - loss: 1.1916 - acc: 0.5759 - val_loss: 1.7326 - val_acc: 0.3559\n",
            "Epoch 8/20000\n",
            "40000/40000 [==============================] - 15s 369us/step - loss: 1.1397 - acc: 0.5932 - val_loss: 1.7811 - val_acc: 0.3370\n",
            "Epoch 9/20000\n",
            "40000/40000 [==============================] - 15s 369us/step - loss: 1.1062 - acc: 0.6076 - val_loss: 1.6143 - val_acc: 0.3856\n",
            "Epoch 10/20000\n",
            "40000/40000 [==============================] - 15s 369us/step - loss: 1.0690 - acc: 0.6226 - val_loss: 1.6502 - val_acc: 0.3986\n",
            "Epoch 11/20000\n",
            "40000/40000 [==============================] - 15s 368us/step - loss: 1.0369 - acc: 0.6367 - val_loss: 1.5679 - val_acc: 0.4197\n",
            "Epoch 12/20000\n",
            "40000/40000 [==============================] - 15s 370us/step - loss: 1.0002 - acc: 0.6478 - val_loss: 1.6713 - val_acc: 0.3902\n",
            "Epoch 13/20000\n",
            "40000/40000 [==============================] - 15s 369us/step - loss: 0.9722 - acc: 0.6594 - val_loss: 1.4757 - val_acc: 0.4589\n",
            "Epoch 14/20000\n",
            "40000/40000 [==============================] - 15s 368us/step - loss: 0.9428 - acc: 0.6693 - val_loss: 1.5337 - val_acc: 0.4514\n",
            "Epoch 15/20000\n",
            "40000/40000 [==============================] - 15s 375us/step - loss: 0.9129 - acc: 0.6804 - val_loss: 1.5532 - val_acc: 0.4410\n",
            "Epoch 16/20000\n",
            "40000/40000 [==============================] - 15s 370us/step - loss: 0.8958 - acc: 0.6872 - val_loss: 1.5568 - val_acc: 0.4496\n",
            "Epoch 17/20000\n",
            "40000/40000 [==============================] - 15s 370us/step - loss: 0.8666 - acc: 0.6961 - val_loss: 1.4548 - val_acc: 0.4805\n",
            "Epoch 18/20000\n",
            "40000/40000 [==============================] - 15s 371us/step - loss: 0.8432 - acc: 0.7025 - val_loss: 1.4803 - val_acc: 0.4754\n",
            "Epoch 19/20000\n",
            "40000/40000 [==============================] - 15s 370us/step - loss: 0.8179 - acc: 0.7159 - val_loss: 1.4922 - val_acc: 0.4792\n",
            "Epoch 20/20000\n",
            "40000/40000 [==============================] - 15s 369us/step - loss: 0.7867 - acc: 0.7260 - val_loss: 1.4042 - val_acc: 0.5103\n",
            "Epoch 21/20000\n",
            "40000/40000 [==============================] - 15s 370us/step - loss: 0.7731 - acc: 0.7303 - val_loss: 1.4041 - val_acc: 0.5140\n",
            "Epoch 22/20000\n",
            "40000/40000 [==============================] - 15s 368us/step - loss: 0.7496 - acc: 0.7398 - val_loss: 1.3456 - val_acc: 0.5335\n",
            "Epoch 23/20000\n",
            "40000/40000 [==============================] - 15s 369us/step - loss: 0.7367 - acc: 0.7438 - val_loss: 1.3138 - val_acc: 0.5406\n",
            "Epoch 24/20000\n",
            "40000/40000 [==============================] - 15s 371us/step - loss: 0.7056 - acc: 0.7546 - val_loss: 1.3333 - val_acc: 0.5376\n",
            "Epoch 25/20000\n",
            "40000/40000 [==============================] - 15s 369us/step - loss: 0.6899 - acc: 0.7631 - val_loss: 1.3775 - val_acc: 0.5296\n",
            "Epoch 26/20000\n",
            "40000/40000 [==============================] - 15s 367us/step - loss: 0.6635 - acc: 0.7697 - val_loss: 1.4122 - val_acc: 0.5247\n",
            "Epoch 27/20000\n",
            "40000/40000 [==============================] - 15s 373us/step - loss: 0.6446 - acc: 0.7791 - val_loss: 1.3652 - val_acc: 0.5397\n",
            "Epoch 28/20000\n",
            "40000/40000 [==============================] - 15s 367us/step - loss: 0.6321 - acc: 0.7826 - val_loss: 1.4266 - val_acc: 0.5208\n",
            "Epoch 29/20000\n",
            "40000/40000 [==============================] - 15s 368us/step - loss: 0.6091 - acc: 0.7899 - val_loss: 1.3302 - val_acc: 0.5490\n",
            "Epoch 30/20000\n",
            "40000/40000 [==============================] - 15s 367us/step - loss: 0.5956 - acc: 0.7966 - val_loss: 1.3342 - val_acc: 0.5387\n",
            "Epoch 31/20000\n",
            "40000/40000 [==============================] - 15s 367us/step - loss: 0.5764 - acc: 0.8015 - val_loss: 1.3409 - val_acc: 0.5509\n",
            "Epoch 32/20000\n",
            "40000/40000 [==============================] - 15s 368us/step - loss: 0.5597 - acc: 0.8086 - val_loss: 1.2847 - val_acc: 0.5686\n",
            "Epoch 33/20000\n",
            "40000/40000 [==============================] - 15s 368us/step - loss: 0.5377 - acc: 0.8153 - val_loss: 1.3320 - val_acc: 0.5537\n",
            "Epoch 34/20000\n",
            "40000/40000 [==============================] - 15s 370us/step - loss: 0.5270 - acc: 0.8204 - val_loss: 1.2830 - val_acc: 0.5668\n",
            "Epoch 35/20000\n",
            "40000/40000 [==============================] - 15s 369us/step - loss: 0.5105 - acc: 0.8250 - val_loss: 1.1783 - val_acc: 0.6002\n",
            "Epoch 36/20000\n",
            "40000/40000 [==============================] - 15s 369us/step - loss: 0.4875 - acc: 0.8350 - val_loss: 1.2960 - val_acc: 0.5703\n",
            "Epoch 37/20000\n",
            "40000/40000 [==============================] - 15s 369us/step - loss: 0.4728 - acc: 0.8407 - val_loss: 1.2788 - val_acc: 0.5754\n",
            "Epoch 38/20000\n",
            "40000/40000 [==============================] - 15s 369us/step - loss: 0.4508 - acc: 0.8496 - val_loss: 1.2972 - val_acc: 0.5683\n",
            "Epoch 39/20000\n",
            "40000/40000 [==============================] - 15s 370us/step - loss: 0.4454 - acc: 0.8494 - val_loss: 1.3756 - val_acc: 0.5526\n",
            "Epoch 40/20000\n",
            "40000/40000 [==============================] - 15s 369us/step - loss: 0.4320 - acc: 0.8558 - val_loss: 1.2437 - val_acc: 0.5930\n",
            "Epoch 41/20000\n",
            "40000/40000 [==============================] - 15s 369us/step - loss: 0.4084 - acc: 0.8653 - val_loss: 1.2573 - val_acc: 0.5844\n",
            "Epoch 42/20000\n",
            "40000/40000 [==============================] - 15s 369us/step - loss: 0.4020 - acc: 0.8646 - val_loss: 1.1681 - val_acc: 0.6111\n",
            "Epoch 43/20000\n",
            "40000/40000 [==============================] - 15s 368us/step - loss: 0.3867 - acc: 0.8704 - val_loss: 1.3275 - val_acc: 0.5760\n",
            "Epoch 44/20000\n",
            "40000/40000 [==============================] - 15s 370us/step - loss: 0.3647 - acc: 0.8830 - val_loss: 1.2677 - val_acc: 0.5966\n",
            "Epoch 45/20000\n",
            "40000/40000 [==============================] - 15s 368us/step - loss: 0.3543 - acc: 0.8851 - val_loss: 1.1719 - val_acc: 0.6182\n",
            "Epoch 46/20000\n",
            "40000/40000 [==============================] - 15s 369us/step - loss: 0.3414 - acc: 0.8911 - val_loss: 1.2456 - val_acc: 0.5982\n",
            "Epoch 47/20000\n",
            "40000/40000 [==============================] - 15s 368us/step - loss: 0.3380 - acc: 0.8904 - val_loss: 1.2184 - val_acc: 0.6030\n",
            "Epoch 48/20000\n",
            "40000/40000 [==============================] - 15s 368us/step - loss: 0.3192 - acc: 0.8964 - val_loss: 1.1783 - val_acc: 0.6240\n",
            "Epoch 49/20000\n",
            "40000/40000 [==============================] - 15s 368us/step - loss: 0.3059 - acc: 0.9025 - val_loss: 1.2138 - val_acc: 0.6093\n",
            "Epoch 50/20000\n",
            "40000/40000 [==============================] - 15s 368us/step - loss: 0.2866 - acc: 0.9107 - val_loss: 1.1490 - val_acc: 0.6236\n",
            "Epoch 51/20000\n",
            "40000/40000 [==============================] - 15s 368us/step - loss: 0.2819 - acc: 0.9108 - val_loss: 1.2520 - val_acc: 0.6027\n",
            "Epoch 52/20000\n",
            "40000/40000 [==============================] - 15s 367us/step - loss: 0.2598 - acc: 0.9220 - val_loss: 1.2602 - val_acc: 0.6012\n",
            "Epoch 53/20000\n",
            "40000/40000 [==============================] - 15s 368us/step - loss: 0.2519 - acc: 0.9225 - val_loss: 1.1890 - val_acc: 0.6180\n",
            "Epoch 54/20000\n",
            "40000/40000 [==============================] - 15s 367us/step - loss: 0.2453 - acc: 0.9260 - val_loss: 1.1995 - val_acc: 0.6181\n",
            "Epoch 55/20000\n",
            "40000/40000 [==============================] - 15s 367us/step - loss: 0.2305 - acc: 0.9314 - val_loss: 1.2175 - val_acc: 0.6203\n",
            "Epoch 56/20000\n",
            "40000/40000 [==============================] - 15s 367us/step - loss: 0.2171 - acc: 0.9357 - val_loss: 1.1569 - val_acc: 0.6330\n",
            "Epoch 57/20000\n",
            "40000/40000 [==============================] - 15s 368us/step - loss: 0.2101 - acc: 0.9387 - val_loss: 1.2153 - val_acc: 0.6227\n",
            "Epoch 58/20000\n",
            "40000/40000 [==============================] - 15s 367us/step - loss: 0.2094 - acc: 0.9372 - val_loss: 1.2301 - val_acc: 0.6216\n",
            "Epoch 59/20000\n",
            "40000/40000 [==============================] - 15s 368us/step - loss: 0.1912 - acc: 0.9446 - val_loss: 1.1760 - val_acc: 0.6280\n",
            "Epoch 60/20000\n",
            "40000/40000 [==============================] - 15s 368us/step - loss: 0.1862 - acc: 0.9460 - val_loss: 1.2271 - val_acc: 0.6271\n",
            "Epoch 00060: early stopping\n"
          ],
          "name": "stdout"
        }
      ]
    },
    {
      "cell_type": "code",
      "metadata": {
        "id": "HEFalxVhJrvu",
        "colab_type": "code",
        "outputId": "a1bef26b-8490-4edf-a1ea-8842636bac94",
        "colab": {
          "base_uri": "https://localhost:8080/",
          "height": 53
        }
      },
      "source": [
        "performance_test = model.evaluate(test_x, test_y, batch_size = 100)\n",
        "\n",
        "print('Test Loss : {:.6f},  Test Accuracy : {:.3f}%'.format(performance_test[0], performance_test[1]*100))"
      ],
      "execution_count": 0,
      "outputs": [
        {
          "output_type": "stream",
          "text": [
            "10000/10000 [==============================] - 1s 129us/step\n",
            "Test Loss : 1.149401,  Test Accuracy : 62.710%\n"
          ],
          "name": "stdout"
        }
      ]
    },
    {
      "cell_type": "code",
      "metadata": {
        "id": "E3pexEleJryC",
        "colab_type": "code",
        "colab": {}
      },
      "source": [
        "if not isinstance(history, dict):\n",
        "    history = history.history\n",
        "\n",
        "plt.plot(history['acc'])\n",
        "plt.plot(history['val_acc'])\n",
        "plt.title('Accuracy : Training vs Validation')\n",
        "plt.ylabel('Accuracy')\n",
        "plt.xlabel('Epoch')\n",
        "plt.legend(['Training', 'Validation'], loc=0)\n",
        "plt.show()"
      ],
      "execution_count": 0,
      "outputs": []
    },
    {
      "cell_type": "code",
      "metadata": {
        "id": "btFU0ZYtNkvf",
        "colab_type": "code",
        "colab": {}
      },
      "source": [
        "if not isinstance(history, dict):\n",
        "    history = history.history\n",
        "\n",
        "plt.plot(history['loss'])\n",
        "plt.plot(history['val_loss'])\n",
        "plt.title('Loss : Training vs Validation')\n",
        "plt.ylabel('Loss')\n",
        "plt.xlabel('Epoch')\n",
        "plt.legend(['Training', 'Validation'], loc=0)\n",
        "plt.show()"
      ],
      "execution_count": 0,
      "outputs": []
    },
    {
      "cell_type": "code",
      "metadata": {
        "id": "cqiymLX7Jr0a",
        "colab_type": "code",
        "colab": {}
      },
      "source": [
        ""
      ],
      "execution_count": 0,
      "outputs": []
    },
    {
      "cell_type": "code",
      "metadata": {
        "id": "qc3Ap5q_bNgN",
        "colab_type": "code",
        "outputId": "c56fbc79-7b54-44a7-d641-84ccf110722f",
        "colab": {
          "base_uri": "https://localhost:8080/",
          "height": 71
        }
      },
      "source": [
        "pred_train = model.predict(train_x)\n",
        "pred_test = model.predict(test_x)\n",
        "\n",
        "single_pred_train = pred_train.argmax(axis=1)\n",
        "single_pred_test = pred_test.argmax(axis=1)\n",
        "\n",
        "\n",
        "logi_train_accuracy = accuracy_score(train_y.argmax(axis=1), single_pred_train)\n",
        "logi_test_accuracy = accuracy_score(test_y.argmax(axis=1), single_pred_test)\n",
        "\n",
        "\n",
        "print('CNN')\n",
        "print('트레이닝 정확도 : {:.2f}%'.format(logi_train_accuracy*100))\n",
        "print('테스트 정확도 : {:.2f}%'.format(logi_test_accuracy*100))"
      ],
      "execution_count": 0,
      "outputs": [
        {
          "output_type": "stream",
          "text": [
            "CNN\n",
            "트레이닝 정확도 : 87.05%\n",
            "테스트 정확도 : 62.71%\n"
          ],
          "name": "stdout"
        }
      ]
    },
    {
      "cell_type": "code",
      "metadata": {
        "id": "4D5LN9iNR3aW",
        "colab_type": "code",
        "outputId": "d28bb231-7127-4358-9d44-a4be1ba2dc48",
        "colab": {
          "base_uri": "https://localhost:8080/",
          "height": 395
        }
      },
      "source": [
        "'''\n",
        "성능 확인을 위해\n",
        "Ctrl+Enter를 이용하여\n",
        "반복 실행 해보자!\n",
        "'''\n",
        "\n",
        "id = rd.randrange(0,10000)\n",
        "\n",
        "print('id = {}'.format(id))\n",
        "print('다음 그림은 {} 입니다.'.format(labels[test_y.argmax(axis=1)[id]]))\n",
        "print('모델의 예측 : {}'.format(labels[single_pred_test[id]]))\n",
        "\n",
        "prob = np.floor(pred_test[id]*100).tolist()\n",
        "prob_dict = {}\n",
        "\n",
        "for idx, prob in enumerate(prob) :\n",
        "    prob_dict[ labels[idx] ] = prob\n",
        "\n",
        "print('모델의 카테고리별 확률 : ')\n",
        "print(prob_dict)\n",
        "\n",
        "if test_y.argmax(axis=1)[id] == single_pred_test[id] :\n",
        "    print('정답입니다')\n",
        "else : \n",
        "    print('틀렸어요')\n",
        "plt.imshow(test_x[id].reshape([32,32,-1]))\n",
        "plt.show()"
      ],
      "execution_count": 0,
      "outputs": [
        {
          "output_type": "stream",
          "text": [
            "id = 4760\n",
            "다음 그림은 Cat 입니다.\n",
            "모델의 예측 : Bird\n",
            "모델의 카테고리별 확률 : \n",
            "{'Airplane': 1.0, 'Automobile': 2.0, 'Bird': 27.0, 'Cat': 16.0, 'Deer': 3.0, 'Dog': 24.0, 'Frog': 0.0, 'Horse': 4.0, 'Ship': 7.0, 'Truck': 11.0}\n",
            "틀렸어요\n"
          ],
          "name": "stdout"
        },
        {
          "output_type": "display_data",
          "data": {
            "image/png": "[encoded data removed]",
            "text/plain": [
              "<Figure size 432x288 with 1 Axes>"
            ]
          },
          "metadata": {
            "tags": [],
            "image/png": {
              "width": 253,
              "height": 250
            }
          }
        }
      ]
    },
    {
      "cell_type": "code",
      "metadata": {
        "id": "XDm-YCj7VzIB",
        "colab_type": "code",
        "outputId": "17ab9c66-572c-4be1-974d-fc0bca9ecfe7",
        "colab": {
          "base_uri": "https://localhost:8080/",
          "height": 395
        }
      },
      "source": [
        "'''\n",
        "틀린 것만 관찰해보자!\n",
        "\n",
        "Ctrl+Enter를 이용하여\n",
        "반복 실행 해보자!\n",
        "'''\n",
        "\n",
        "true_false = (test_y.argmax(axis=1) == single_pred_test)\n",
        "f_id = np.where(true_false == False)[0]\n",
        "f_n = len(f_id)\n",
        "\n",
        "id = f_id[rd.randrange(0,f_n)]\n",
        "\n",
        "\n",
        "print('id = {}'.format(id))\n",
        "print('다음 그림은 {} 입니다.'.format(labels[test_y.argmax(axis=1)[id]]))\n",
        "print('모델의 예측 : {}'.format(labels[single_pred_test[id]]))\n",
        "\n",
        "prob = np.floor(pred_test[id]*100).tolist()\n",
        "prob_dict = {}\n",
        "\n",
        "for idx, prob in enumerate(prob) :\n",
        "    prob_dict[ labels[idx] ] = prob\n",
        "\n",
        "print('모델의 카테고리별 확률 : ')\n",
        "print(prob_dict)\n",
        "\n",
        "if test_y.argmax(axis=1)[id] == single_pred_test[id] :\n",
        "    print('정답입니다')\n",
        "else : \n",
        "    print('틀렸어요')\n",
        "plt.imshow(test_x[id].reshape([32,32,-1]))\n",
        "plt.show()"
      ],
      "execution_count": 0,
      "outputs": [
        {
          "output_type": "stream",
          "text": [
            "id = 9397\n",
            "다음 그림은 Bird 입니다.\n",
            "모델의 예측 : Frog\n",
            "모델의 카테고리별 확률 : \n",
            "{'Airplane': 3.0, 'Automobile': 0.0, 'Bird': 35.0, 'Cat': 12.0, 'Deer': 1.0, 'Dog': 6.0, 'Frog': 39.0, 'Horse': 0.0, 'Ship': 0.0, 'Truck': 0.0}\n",
            "틀렸어요\n"
          ],
          "name": "stdout"
        },
        {
          "output_type": "display_data",
          "data": {
            "image/png": "[encoded data removed]",
            "text/plain": [
              "<Figure size 432x288 with 1 Axes>"
            ]
          },
          "metadata": {
            "tags": [],
            "image/png": {
              "width": 253,
              "height": 250
            }
          }
        }
      ]
    },
    {
      "cell_type": "code",
      "metadata": {
        "id": "moXMYdwatMvp",
        "colab_type": "code",
        "colab": {}
      },
      "source": [
        ""
      ],
      "execution_count": 0,
      "outputs": []
    },
    {
      "cell_type": "code",
      "metadata": {
        "id": "kop1T2j5cgbM",
        "colab_type": "code",
        "colab": {}
      },
      "source": [
        ""
      ],
      "execution_count": 0,
      "outputs": []
    }
  ]
}
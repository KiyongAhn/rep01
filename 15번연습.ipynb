{
  "nbformat": 4,
  "nbformat_minor": 0,
  "metadata": {
    "colab": {
      "name": "15번연습.ipynb",
      "version": "0.3.2",
      "provenance": [],
      "include_colab_link": true
    },
    "kernelspec": {
      "name": "python3",
      "display_name": "Python 3"
    },
    "accelerator": "GPU"
  },
  "cells": [
    {
      "cell_type": "markdown",
      "metadata": {
        "id": "view-in-github",
        "colab_type": "text"
      },
      "source": [
        "<a href=\"https://colab.research.google.com/github/KiyongAhn/rep01/blob/master/15%EB%B2%88%EC%97%B0%EC%8A%B5.ipynb\" target=\"_parent\"><img src=\"https://colab.research.google.com/assets/colab-badge.svg\" alt=\"Open In Colab\"/></a>"
      ]
    },
    {
      "cell_type": "code",
      "metadata": {
        "id": "SvbFktcYIqNK",
        "colab_type": "code",
        "colab": {}
      },
      "source": [
        "'''\n",
        "matplolib inline 명령어를 통해서\n",
        "matplot으로 그리는 플롯들을 주피터 노트북 내에서 볼 수 있게 해준다.\n",
        "포맷을 retina로 바꾸면 그래프의 화질이 훨씬 좋아진다.\n",
        "'''\n",
        "%matplotlib inline\n",
        "%config InlineBackend.figure_format = 'retina'\n",
        "\n",
        "'''\n",
        "라이브러리들을 불러오자.\n",
        "'''\n",
        "import numpy as np\n",
        "import pandas as pd\n",
        "import matplotlib.pyplot as plt\n",
        "import tensorflow as tf\n",
        "import random as rd\n",
        "\n",
        "from sklearn.metrics import accuracy_score"
      ],
      "execution_count": 0,
      "outputs": []
    },
    {
      "cell_type": "markdown",
      "metadata": {
        "id": "hPrJB3SkJB_O",
        "colab_type": "text"
      },
      "source": [
        "##데이터 불러오고 전처리 해보자"
      ]
    },
    {
      "cell_type": "code",
      "metadata": {
        "id": "gm_m5GZqJMET",
        "colab_type": "code",
        "colab": {}
      },
      "source": [
        "(train_x, train_y), (test_x, test_y) = tf.keras.datasets.mnist.load_data()"
      ],
      "execution_count": 0,
      "outputs": []
    },
    {
      "cell_type": "code",
      "metadata": {
        "id": "xZlQkGljJYmm",
        "colab_type": "code",
        "outputId": "a24ad69a-d6d8-4364-9d6e-91e3dd11af59",
        "colab": {
          "base_uri": "https://localhost:8080/",
          "height": 35
        }
      },
      "source": [
        "print(train_x.shape, train_y.shape, test_x.shape, test_y.shape)"
      ],
      "execution_count": 0,
      "outputs": [
        {
          "output_type": "stream",
          "text": [
            "(60000, 28, 28) (60000,) (10000, 28, 28) (10000,)\n"
          ],
          "name": "stdout"
        }
      ]
    },
    {
      "cell_type": "code",
      "metadata": {
        "id": "1s19eCCOJcNM",
        "colab_type": "code",
        "outputId": "2df3530b-cf9c-4e77-b9b7-a93e6862b4ae",
        "colab": {
          "base_uri": "https://localhost:8080/",
          "height": 303
        }
      },
      "source": [
        "'''\n",
        "Ctrl+Enter를 이용하여\n",
        "반복 실행 해보자!\n",
        "'''\n",
        "\n",
        "id = rd.randrange(0,10000)\n",
        "\n",
        "print('id = {}'.format(id))\n",
        "print('다음 그림은 숫자 {} 입니다.'.format(test_y[id]))\n",
        "plt.imshow(test_x[id])\n",
        "plt.show()"
      ],
      "execution_count": 0,
      "outputs": [
        {
          "output_type": "stream",
          "text": [
            "id = 3551\n",
            "다음 그림은 숫자 4 입니다.\n"
          ],
          "name": "stdout"
        },
        {
          "output_type": "display_data",
          "data": {
            "image/png": "[encoded data removed]",
            "text/plain": [
              "<Figure size 432x288 with 1 Axes>"
            ]
          },
          "metadata": {
            "tags": [],
            "image/png": {
              "width": 253,
              "height": 250
            }
          }
        }
      ]
    },
    {
      "cell_type": "code",
      "metadata": {
        "id": "65rS7e0QJd2a",
        "colab_type": "code",
        "outputId": "5fd48211-4885-43dc-8d4d-6a3930602774",
        "colab": {
          "base_uri": "https://localhost:8080/",
          "height": 35
        }
      },
      "source": [
        "train_x = train_x.reshape([train_x.shape[0],-1])\n",
        "test_x  = test_x.reshape([test_x.shape[0],-1])\n",
        "\n",
        "print(train_x.shape, test_x.shape)"
      ],
      "execution_count": 0,
      "outputs": [
        {
          "output_type": "stream",
          "text": [
            "(60000, 784) (10000, 784)\n"
          ],
          "name": "stdout"
        }
      ]
    },
    {
      "cell_type": "code",
      "metadata": {
        "id": "XmRI2_CzoXJw",
        "colab_type": "code",
        "outputId": "0bf5655c-5394-4a67-8f14-e371398cbe4c",
        "colab": {
          "base_uri": "https://localhost:8080/",
          "height": 35
        }
      },
      "source": [
        "train_xx = train_x.reshape([60000,-1])\n",
        "train_x.shape"
      ],
      "execution_count": 0,
      "outputs": [
        {
          "output_type": "execute_result",
          "data": {
            "text/plain": [
              "(60000, 28, 28)"
            ]
          },
          "metadata": {
            "tags": []
          },
          "execution_count": 56
        }
      ]
    },
    {
      "cell_type": "code",
      "metadata": {
        "id": "paKd9T_jo7jJ",
        "colab_type": "code",
        "outputId": "1b7ebf58-c95b-4188-fbf5-9da2f1d31fd5",
        "colab": {
          "base_uri": "https://localhost:8080/",
          "height": 35
        }
      },
      "source": [
        ""
      ],
      "execution_count": 0,
      "outputs": [
        {
          "output_type": "execute_result",
          "data": {
            "text/plain": [
              "(60000, 784)"
            ]
          },
          "metadata": {
            "tags": []
          },
          "execution_count": 57
        }
      ]
    },
    {
      "cell_type": "code",
      "metadata": {
        "id": "i97yE1fxJikY",
        "colab_type": "code",
        "outputId": "c8c9dd2f-ad50-44b6-f8ac-f1fd03f0c010",
        "colab": {
          "base_uri": "https://localhost:8080/",
          "height": 35
        }
      },
      "source": [
        "max_num = train_x.max()\n",
        "\n",
        "train_x = train_x/max_num\n",
        "test_x = test_x/max_num\n",
        "\n",
        "print('max :', train_x.max(),'  min :', train_x.min())"
      ],
      "execution_count": 0,
      "outputs": [
        {
          "output_type": "stream",
          "text": [
            "max : 1.0   min : 0.0\n"
          ],
          "name": "stdout"
        }
      ]
    },
    {
      "cell_type": "code",
      "metadata": {
        "id": "xT9pMLAUo6w7",
        "colab_type": "code",
        "colab": {}
      },
      "source": [
        ""
      ],
      "execution_count": 0,
      "outputs": []
    },
    {
      "cell_type": "code",
      "metadata": {
        "id": "pXE1GACkJw5N",
        "colab_type": "code",
        "colab": {}
      },
      "source": [
        "from sklearn.neural_network import MLPClassifier"
      ],
      "execution_count": 0,
      "outputs": []
    },
    {
      "cell_type": "code",
      "metadata": {
        "id": "QODX1Kj6KBgB",
        "colab_type": "code",
        "colab": {}
      },
      "source": [
        "logistic = MLPClassifier(hidden_layer_sizes=(), \n",
        "                         early_stopping=True,verbose=True)"
      ],
      "execution_count": 0,
      "outputs": []
    },
    {
      "cell_type": "code",
      "metadata": {
        "id": "cv4_yFgMKRgN",
        "colab_type": "code",
        "outputId": "01e7e204-fa43-4c27-8298-d008b6092e92",
        "colab": {
          "base_uri": "https://localhost:8080/",
          "height": 1000
        }
      },
      "source": [
        "logistic.fit(train_x, train_y)"
      ],
      "execution_count": 0,
      "outputs": [
        {
          "output_type": "stream",
          "text": [
            "Iteration 1, loss = 0.80184750\n",
            "Validation score: 0.874833\n",
            "Iteration 2, loss = 0.41017006\n",
            "Validation score: 0.892667\n",
            "Iteration 3, loss = 0.35051910\n",
            "Validation score: 0.901500\n",
            "Iteration 4, loss = 0.32353467\n",
            "Validation score: 0.907167\n",
            "Iteration 5, loss = 0.30665963\n",
            "Validation score: 0.912333\n",
            "Iteration 6, loss = 0.29557391\n",
            "Validation score: 0.914000\n",
            "Iteration 7, loss = 0.28747875\n",
            "Validation score: 0.914500\n",
            "Iteration 8, loss = 0.28139927\n",
            "Validation score: 0.915833\n",
            "Iteration 9, loss = 0.27622164\n",
            "Validation score: 0.919167\n",
            "Iteration 10, loss = 0.27202773\n",
            "Validation score: 0.917667\n",
            "Iteration 11, loss = 0.26872979\n",
            "Validation score: 0.920167\n",
            "Iteration 12, loss = 0.26544240\n",
            "Validation score: 0.919167\n",
            "Iteration 13, loss = 0.26295648\n",
            "Validation score: 0.919667\n",
            "Iteration 14, loss = 0.26022708\n",
            "Validation score: 0.919167\n",
            "Iteration 15, loss = 0.25850995\n",
            "Validation score: 0.920167\n",
            "Iteration 16, loss = 0.25643748\n",
            "Validation score: 0.919333\n",
            "Iteration 17, loss = 0.25473893\n",
            "Validation score: 0.921833\n",
            "Iteration 18, loss = 0.25307777\n",
            "Validation score: 0.920833\n",
            "Iteration 19, loss = 0.25178236\n",
            "Validation score: 0.921167\n",
            "Iteration 20, loss = 0.25049370\n",
            "Validation score: 0.920333\n",
            "Iteration 21, loss = 0.24896629\n",
            "Validation score: 0.921000\n",
            "Iteration 22, loss = 0.24797831\n",
            "Validation score: 0.922000\n",
            "Iteration 23, loss = 0.24729639\n",
            "Validation score: 0.920500\n",
            "Iteration 24, loss = 0.24623798\n",
            "Validation score: 0.920500\n",
            "Iteration 25, loss = 0.24510473\n",
            "Validation score: 0.922833\n",
            "Iteration 26, loss = 0.24434544\n",
            "Validation score: 0.922500\n",
            "Iteration 27, loss = 0.24331470\n",
            "Validation score: 0.921000\n",
            "Iteration 28, loss = 0.24294508\n",
            "Validation score: 0.922667\n",
            "Iteration 29, loss = 0.24223758\n",
            "Validation score: 0.922500\n",
            "Iteration 30, loss = 0.24114847\n",
            "Validation score: 0.921333\n",
            "Iteration 31, loss = 0.24045254\n",
            "Validation score: 0.922500\n",
            "Iteration 32, loss = 0.24017478\n",
            "Validation score: 0.922500\n",
            "Iteration 33, loss = 0.23942848\n",
            "Validation score: 0.921333\n",
            "Iteration 34, loss = 0.23909742\n",
            "Validation score: 0.921667\n",
            "Iteration 35, loss = 0.23849094\n",
            "Validation score: 0.922000\n",
            "Iteration 36, loss = 0.23785345\n",
            "Validation score: 0.921667\n",
            "Validation score did not improve more than tol=0.000100 for 10 consecutive epochs. Stopping.\n"
          ],
          "name": "stdout"
        },
        {
          "output_type": "execute_result",
          "data": {
            "text/plain": [
              "MLPClassifier(activation='relu', alpha=0.0001, batch_size='auto', beta_1=0.9,\n",
              "              beta_2=0.999, early_stopping=True, epsilon=1e-08,\n",
              "              hidden_layer_sizes=(), learning_rate='constant',\n",
              "              learning_rate_init=0.001, max_iter=200, momentum=0.9,\n",
              "              n_iter_no_change=10, nesterovs_momentum=True, power_t=0.5,\n",
              "              random_state=None, shuffle=True, solver='adam', tol=0.0001,\n",
              "              validation_fraction=0.1, verbose=True, warm_start=False)"
            ]
          },
          "metadata": {
            "tags": []
          },
          "execution_count": 22
        }
      ]
    },
    {
      "cell_type": "code",
      "metadata": {
        "id": "Hefj_xazKYwE",
        "colab_type": "code",
        "outputId": "c5991ff9-eb24-4825-e88b-00269823e08b",
        "colab": {
          "base_uri": "https://localhost:8080/",
          "height": 71
        }
      },
      "source": [
        "logistic_pred_train = logistic.predict(train_x)\n",
        "logistic_pred_test = logistic.predict(test_x)\n",
        "\n",
        "logi_train_accuracy = accuracy_score(train_y, logistic_pred_train)\n",
        "logi_test_accuracy = accuracy_score(test_y, logistic_pred_test)\n",
        "\n",
        "print('로지스틱 리그레션')\n",
        "print('트레이닝 정확도 : {:.2f}%'.format(logi_train_accuracy*100))\n",
        "print('테스트 정확도 : {:.2f}%'.format(logi_test_accuracy*100))"
      ],
      "execution_count": 0,
      "outputs": [
        {
          "output_type": "stream",
          "text": [
            "로지스틱 리그레션\n",
            "트레이닝 정확도 : 93.30%\n",
            "테스트 정확도 : 92.68%\n"
          ],
          "name": "stdout"
        }
      ]
    },
    {
      "cell_type": "code",
      "metadata": {
        "id": "145VkPhoLHzZ",
        "colab_type": "code",
        "outputId": "3febdc3b-34c3-4b64-ad33-eb17e2a86c62",
        "colab": {
          "base_uri": "https://localhost:8080/",
          "height": 35
        }
      },
      "source": [
        "np.eye(5)[4]"
      ],
      "execution_count": 0,
      "outputs": [
        {
          "output_type": "execute_result",
          "data": {
            "text/plain": [
              "array([0., 0., 0., 0., 1.])"
            ]
          },
          "metadata": {
            "tags": []
          },
          "execution_count": 30
        }
      ]
    },
    {
      "cell_type": "markdown",
      "metadata": {
        "id": "ik-svvD5RFFM",
        "colab_type": "text"
      },
      "source": [
        "## Logistic Regression Tensorflow Ver."
      ]
    },
    {
      "cell_type": "code",
      "metadata": {
        "id": "jv3EZltnUm5j",
        "colab_type": "code",
        "colab": {}
      },
      "source": [
        "# One-hot Encoding\n",
        "\n",
        "train_y = np.eye(10)[train_y]\n",
        "test_y = np.eye(10)[test_y]"
      ],
      "execution_count": 0,
      "outputs": []
    },
    {
      "cell_type": "code",
      "metadata": {
        "id": "-w8e2XU8Utmk",
        "colab_type": "code",
        "outputId": "e8648a45-630a-4da4-ed47-2f15d1decacb",
        "colab": {
          "base_uri": "https://localhost:8080/",
          "height": 143
        }
      },
      "source": [
        "train_y"
      ],
      "execution_count": 0,
      "outputs": [
        {
          "output_type": "execute_result",
          "data": {
            "text/plain": [
              "array([[0., 0., 0., ..., 0., 0., 0.],\n",
              "       [1., 0., 0., ..., 0., 0., 0.],\n",
              "       [0., 0., 0., ..., 0., 0., 0.],\n",
              "       ...,\n",
              "       [0., 0., 0., ..., 0., 0., 0.],\n",
              "       [0., 0., 0., ..., 0., 0., 0.],\n",
              "       [0., 0., 0., ..., 0., 1., 0.]])"
            ]
          },
          "metadata": {
            "tags": []
          },
          "execution_count": 33
        }
      ]
    },
    {
      "cell_type": "code",
      "metadata": {
        "id": "3x2uicYMUvVj",
        "colab_type": "code",
        "colab": {}
      },
      "source": [
        "num_examples = train_y.shape[0]"
      ],
      "execution_count": 0,
      "outputs": []
    },
    {
      "cell_type": "code",
      "metadata": {
        "id": "LXv3fqLlU2nz",
        "colab_type": "code",
        "colab": {}
      },
      "source": [
        "# Graph Clear & Make your Graph reproducible\n",
        "tf.reset_default_graph()\n",
        "tf.set_random_seed(2017)"
      ],
      "execution_count": 0,
      "outputs": []
    },
    {
      "cell_type": "code",
      "metadata": {
        "id": "AGLv47S8U4Oq",
        "colab_type": "code",
        "colab": {}
      },
      "source": [
        "# Graph Clear & Make your Graph reproducible\n",
        "tf.reset_default_graph()\n",
        "tf.set_random_seed(2017)\n",
        "\n",
        "# Hyper parameters & Option\n",
        "learning_rate = 0.01\n",
        "\n",
        "# Place Holders\n",
        "X = tf.placeholder(dtype=tf.float32, shape=[None, 784])\n",
        "Y = tf.placeholder(dtype=tf.float32, shape=[None, 10])\n",
        "\n",
        "# Weights & bias\n",
        "W = tf.Variable(tf.random_normal([784, 10]))\n",
        "b = tf.Variable(tf.random_normal([10]))\n",
        "\n",
        "\n",
        "# Hypothesis\n",
        "logits = tf.add(tf.matmul(X, W), b)\n",
        "Y_prob = tf.nn.softmax(logits)\n",
        "\n",
        "# Accuracy\n",
        "n_of_correct = tf.equal(tf.argmax(logits, 1), tf.argmax(Y, 1))\n",
        "accuracy =  tf.reduce_mean(tf.cast(n_of_correct, tf.float32))\n",
        "\n",
        "# Cost(loss) function & Optimizer\n",
        "cost = tf.reduce_mean(tf.nn.softmax_cross_entropy_with_logits_v2(logits=logits, labels=Y))\n",
        "optimizer = tf.train.AdamOptimizer(learning_rate=learning_rate).minimize(cost)"
      ],
      "execution_count": 0,
      "outputs": []
    },
    {
      "cell_type": "code",
      "metadata": {
        "id": "NivfRrH2VgAu",
        "colab_type": "code",
        "outputId": "aaf1a928-5e34-4a1b-f220-a5f0e811df94",
        "colab": {
          "base_uri": "https://localhost:8080/",
          "height": 737
        }
      },
      "source": [
        "sess = tf.Session()\n",
        "sess.run(tf.global_variables_initializer())\n",
        "\n",
        "for i in range(200):\n",
        "    # 학습 진행\n",
        "    sess.run(optimizer, feed_dict={X: train_x, Y: train_y})\n",
        "\n",
        "    if ( (i+1) % 5 == 0): \n",
        "        # 학습 상황 디스플레이\n",
        "        tr_a = sess.run(accuracy, feed_dict={X: train_x, Y: train_y})\n",
        "        print(\"{}th, training accuracy: {:.3f}%\".format(i+1, tr_a * 100))"
      ],
      "execution_count": 0,
      "outputs": [
        {
          "output_type": "stream",
          "text": [
            "5th, training accuracy: 20.092%\n",
            "10th, training accuracy: 26.587%\n",
            "15th, training accuracy: 34.898%\n",
            "20th, training accuracy: 42.947%\n",
            "25th, training accuracy: 50.555%\n",
            "30th, training accuracy: 56.605%\n",
            "35th, training accuracy: 61.785%\n",
            "40th, training accuracy: 65.890%\n",
            "45th, training accuracy: 68.943%\n",
            "50th, training accuracy: 71.312%\n",
            "55th, training accuracy: 73.083%\n",
            "60th, training accuracy: 74.620%\n",
            "65th, training accuracy: 75.895%\n",
            "70th, training accuracy: 77.005%\n",
            "75th, training accuracy: 77.933%\n",
            "80th, training accuracy: 78.738%\n",
            "85th, training accuracy: 79.408%\n",
            "90th, training accuracy: 80.017%\n",
            "95th, training accuracy: 80.607%\n",
            "100th, training accuracy: 81.138%\n",
            "105th, training accuracy: 81.568%\n",
            "110th, training accuracy: 82.033%\n",
            "115th, training accuracy: 82.427%\n",
            "120th, training accuracy: 82.803%\n",
            "125th, training accuracy: 83.158%\n",
            "130th, training accuracy: 83.495%\n",
            "135th, training accuracy: 83.807%\n",
            "140th, training accuracy: 84.105%\n",
            "145th, training accuracy: 84.393%\n",
            "150th, training accuracy: 84.643%\n",
            "155th, training accuracy: 84.893%\n",
            "160th, training accuracy: 85.120%\n",
            "165th, training accuracy: 85.335%\n",
            "170th, training accuracy: 85.542%\n",
            "175th, training accuracy: 85.762%\n",
            "180th, training accuracy: 85.953%\n",
            "185th, training accuracy: 86.143%\n",
            "190th, training accuracy: 86.302%\n",
            "195th, training accuracy: 86.438%\n",
            "200th, training accuracy: 86.580%\n"
          ],
          "name": "stdout"
        }
      ]
    },
    {
      "cell_type": "code",
      "metadata": {
        "id": "Y0a9PkJZVjH9",
        "colab_type": "code",
        "outputId": "98d66040-a391-440e-81d2-2b6e91941f05",
        "colab": {
          "base_uri": "https://localhost:8080/",
          "height": 71
        }
      },
      "source": [
        "logistic1_pred_train = sess.run(Y_prob, feed_dict={X:train_x})\n",
        "logistic1_pred_test = sess.run(Y_prob, feed_dict={X:test_x})\n",
        "\n",
        "single_pred_train = logistic1_pred_train.argmax(axis=1)\n",
        "single_pred_test = logistic1_pred_test.argmax(axis=1)\n",
        "\n",
        "\n",
        "logi_train_accuracy = accuracy_score(train_y.argmax(axis=1), single_pred_train)\n",
        "logi_test_accuracy = accuracy_score(test_y.argmax(axis=1), single_pred_test)\n",
        "\n",
        "\n",
        "print('로지스틱 리그레션')\n",
        "print('트레이닝 정확도 : {:.2f}%'.format(logi_train_accuracy*100))\n",
        "print('테스트 정확도 : {:.2f}%'.format(logi_test_accuracy*100))"
      ],
      "execution_count": 0,
      "outputs": [
        {
          "output_type": "stream",
          "text": [
            "로지스틱 리그레션\n",
            "트레이닝 정확도 : 86.58%\n",
            "테스트 정확도 : 86.80%\n"
          ],
          "name": "stdout"
        }
      ]
    },
    {
      "cell_type": "code",
      "metadata": {
        "id": "VT6TtvgfV2et",
        "colab_type": "code",
        "outputId": "737e6171-fe18-4b1b-dd8e-a36b86a7de4c",
        "colab": {
          "base_uri": "https://localhost:8080/",
          "height": 357
        }
      },
      "source": [
        "'''\n",
        "성능 확인을 위해\n",
        "Ctrl+Enter를 이용하여\n",
        "반복 실행 해보자!\n",
        "'''\n",
        "\n",
        "id = rd.randrange(0,10000)\n",
        "\n",
        "print('id = {}'.format(id))\n",
        "print('다음 그림은 숫자 {} 입니다.'.format(test_y.argmax(axis=1)[id]))\n",
        "print('모델의 예측 : {}'.format(single_pred_test[id]))\n",
        "print('모델의 카테고리별 확률 : {}'.format(np.floor(logistic1_pred_test[id]*100)))\n",
        "if test_y.argmax(axis=1)[id] == single_pred_test[id] :\n",
        "    print('정답입니다')\n",
        "else : \n",
        "    print('틀렸어요')\n",
        "plt.imshow(test_x[id].reshape([28,-1]))\n",
        "plt.show()"
      ],
      "execution_count": 0,
      "outputs": [
        {
          "output_type": "stream",
          "text": [
            "id = 2948\n",
            "다음 그림은 숫자 5 입니다.\n",
            "모델의 예측 : 5\n",
            "모델의 카테고리별 확률 : [ 0.  0.  0.  0.  0. 99.  0.  0.  0.  0.]\n",
            "정답입니다\n"
          ],
          "name": "stdout"
        },
        {
          "output_type": "display_data",
          "data": {
            "image/png": "[encoded data removed]",
            "text/plain": [
              "<Figure size 432x288 with 1 Axes>"
            ]
          },
          "metadata": {
            "tags": [],
            "image/png": {
              "width": 253,
              "height": 250
            }
          }
        }
      ]
    },
    {
      "cell_type": "code",
      "metadata": {
        "id": "0nd7553vV8WQ",
        "colab_type": "code",
        "colab": {}
      },
      "source": [
        ""
      ],
      "execution_count": 0,
      "outputs": []
    }
  ]
}
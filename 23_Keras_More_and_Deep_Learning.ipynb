{
  "nbformat": 4,
  "nbformat_minor": 0,
  "metadata": {
    "colab": {
      "name": "23_Keras_More_and_Deep_Learning.ipynb",
      "version": "0.3.2",
      "provenance": [],
      "collapsed_sections": [
        "UdrP_vI3QcNd",
        "SZUz3Txcq5NE",
        "8cQAzakHyj00",
        "fs9eQyPd9tT3",
        "XOMFgcYI_dmo",
        "b6gWTgHvR3du"
      ],
      "include_colab_link": true
    },
    "kernelspec": {
      "name": "python3",
      "display_name": "Python 3"
    },
    "accelerator": "GPU"
  },
  "cells": [
    {
      "cell_type": "markdown",
      "metadata": {
        "id": "view-in-github",
        "colab_type": "text"
      },
      "source": [
        "<a href=\"https://colab.research.google.com/github/KiyongAhn/rep01/blob/master/23_Keras_More_and_Deep_Learning.ipynb\" target=\"_parent\"><img src=\"https://colab.research.google.com/assets/colab-badge.svg\" alt=\"Open In Colab\"/></a>"
      ]
    },
    {
      "cell_type": "markdown",
      "metadata": {
        "id": "HZc219MFFibh",
        "colab_type": "text"
      },
      "source": [
        "# Keras More & Deep Learning\n",
        "\n",
        "## CIFAR-10\n",
        "\n",
        "### Your name :\n",
        "\n",
        "#### 실습목표<br>\n",
        "1. 딥러닝의 기본 아이디어를 이해한다.\n",
        "2. keras를 이용하여 Optimizer를 설정할 수 있다.\n",
        "3. keras를 이용하여 Dropout이 가능하다.\n",
        "4. keras를 이용하여 초기값을 설정할 줄 안다.\n",
        "5. keras를 이용하여 Batch Normalization이 가능하다.\n",
        "6. keras의 callback 기능을 사용할 줄 안다.\n",
        "\n",
        "--------------------------\n",
        "Rayleigh Kim @ D:plus"
      ]
    },
    {
      "cell_type": "markdown",
      "metadata": {
        "id": "UdrP_vI3QcNd",
        "colab_type": "text"
      },
      "source": [
        "## Deep Learning on CIFAR-10"
      ]
    },
    {
      "cell_type": "markdown",
      "metadata": {
        "id": "OGL1CKhBkxqr",
        "colab_type": "text"
      },
      "source": [
        "### Library Loading"
      ]
    },
    {
      "cell_type": "code",
      "metadata": {
        "id": "2At3z2IdQew-",
        "colab_type": "code",
        "outputId": "edbdd7c8-f861-4fb9-8518-3f1804745f26",
        "colab": {
          "base_uri": "https://localhost:8080/",
          "height": 35
        }
      },
      "source": [
        "'''\n",
        "matplolib inline 명령어를 통해서\n",
        "matplot으로 그리는 플롯들을 주피터 노트북 내에서 볼 수 있게 해준다.\n",
        "포맷을 retina로 바꾸면 그래프의 화질이 훨씬 좋아진다.\n",
        "'''\n",
        "%matplotlib inline\n",
        "%config InlineBackend.figure_format = 'retina'\n",
        "\n",
        "'''\n",
        "라이브러리들을 불러오자.\n",
        "'''\n",
        "import numpy as np\n",
        "import pandas as pd\n",
        "import matplotlib.pyplot as plt\n",
        "import tensorflow as tf\n",
        "import keras\n",
        "\n",
        "from keras.utils import np_utils\n",
        "from keras.layers import Dense, BatchNormalization, Activation, Dropout\n",
        "from keras import layers, models\n",
        "\n",
        "import random as rd\n",
        "\n",
        "from sklearn.metrics import accuracy_score"
      ],
      "execution_count": 0,
      "outputs": [
        {
          "output_type": "stream",
          "text": [
            "Using TensorFlow backend.\n"
          ],
          "name": "stderr"
        }
      ]
    },
    {
      "cell_type": "markdown",
      "metadata": {
        "id": "F7A8vUrQRpPd",
        "colab_type": "text"
      },
      "source": [
        "### Data Loading & Preparation"
      ]
    },
    {
      "cell_type": "code",
      "metadata": {
        "id": "gBQdcFgkRiv-",
        "colab_type": "code",
        "outputId": "624e2f3b-0e4e-495a-9b99-32071b3c6474",
        "colab": {
          "base_uri": "https://localhost:8080/",
          "height": 53
        }
      },
      "source": [
        "(train_x, train_y), (test_x, test_y) = tf.keras.datasets.cifar10.load_data()"
      ],
      "execution_count": 0,
      "outputs": [
        {
          "output_type": "stream",
          "text": [
            "Downloading data from https://www.cs.toronto.edu/~kriz/cifar-10-python.tar.gz\n",
            "170500096/170498071 [==============================] - 21s 0us/step\n"
          ],
          "name": "stdout"
        }
      ]
    },
    {
      "cell_type": "markdown",
      "metadata": {
        "id": "4mVUNzbcplqS",
        "colab_type": "text"
      },
      "source": [
        "MNIST데이터셋과 모양 차이를 보자."
      ]
    },
    {
      "cell_type": "code",
      "metadata": {
        "id": "_GKNGA5qRnf-",
        "colab_type": "code",
        "outputId": "158459dd-ae8b-456f-e07c-0e08648cee25",
        "colab": {
          "base_uri": "https://localhost:8080/",
          "height": 35
        }
      },
      "source": [
        "print(train_x.shape, train_y.shape, test_x.shape, test_y.shape)"
      ],
      "execution_count": 0,
      "outputs": [
        {
          "output_type": "stream",
          "text": [
            "(50000, 32, 32, 3) (50000, 1) (10000, 32, 32, 3) (10000, 1)\n"
          ],
          "name": "stdout"
        }
      ]
    },
    {
      "cell_type": "code",
      "metadata": {
        "id": "KPWjN33gl8sJ",
        "colab_type": "code",
        "outputId": "89656ac3-bae2-4f9d-ff38-5bea0f66404d",
        "colab": {
          "base_uri": "https://localhost:8080/",
          "height": 35
        }
      },
      "source": [
        "labels = { 0 : 'Airplane',\n",
        "          1 : 'Automobile',\n",
        "          2 : 'Bird',\n",
        "          3 : 'Cat',\n",
        "          4 : 'Deer',\n",
        "          5 : 'Dog',\n",
        "          6 : 'Frog',\n",
        "          7 : 'Horse',\n",
        "          8 : 'Ship',\n",
        "          9 : 'Truck' }\n",
        "\n",
        "print(labels)"
      ],
      "execution_count": 0,
      "outputs": [
        {
          "output_type": "stream",
          "text": [
            "{0: 'Airplane', 1: 'Automobile', 2: 'Bird', 3: 'Cat', 4: 'Deer', 5: 'Dog', 6: 'Frog', 7: 'Horse', 8: 'Ship', 9: 'Truck'}\n"
          ],
          "name": "stdout"
        }
      ]
    },
    {
      "cell_type": "code",
      "metadata": {
        "id": "qW4ZeZcNRouf",
        "colab_type": "code",
        "outputId": "eaa6e91c-e2e0-4ead-d736-572c7f3b265b",
        "colab": {
          "base_uri": "https://localhost:8080/",
          "height": 303
        }
      },
      "source": [
        "'''\n",
        "Ctrl+Enter를 이용하여\n",
        "반복 실행 해보자!\n",
        "'''\n",
        "\n",
        "id = rd.randrange(0,10000)\n",
        "\n",
        "print('id = {}'.format(id))\n",
        "print('다음 그림은 {} 입니다.'.format( labels[test_y[id][0]] ))\n",
        "plt.imshow(test_x[id])\n",
        "plt.show()"
      ],
      "execution_count": 0,
      "outputs": [
        {
          "output_type": "stream",
          "text": [
            "id = 7717\n",
            "다음 그림은 Cat 입니다.\n"
          ],
          "name": "stdout"
        },
        {
          "output_type": "display_data",
          "data": {
            "image/png": "[encoded data removed]",
            "text/plain": [
              "<Figure size 432x288 with 1 Axes>"
            ]
          },
          "metadata": {
            "tags": [],
            "image/png": {
              "width": 253,
              "height": 250
            }
          }
        }
      ]
    },
    {
      "cell_type": "markdown",
      "metadata": {
        "id": "Oy8V0yNFRuoC",
        "colab_type": "text"
      },
      "source": [
        "단순한 뉴럴넷은 32x32x3의  데이터를 인풋으로 받지 못한다.\n",
        "\n",
        "납작하게 모양을 바꾸자."
      ]
    },
    {
      "cell_type": "code",
      "metadata": {
        "id": "m3itgyE_RxbO",
        "colab_type": "code",
        "outputId": "253da64b-1c8a-49b7-888d-0b15ec07fff0",
        "colab": {
          "base_uri": "https://localhost:8080/",
          "height": 35
        }
      },
      "source": [
        "train_x = train_x.reshape([train_x.shape[0],-1])\n",
        "test_x = test_x.reshape([test_x.shape[0],-1])\n",
        "\n",
        "print(train_x.shape, test_x.shape)"
      ],
      "execution_count": 0,
      "outputs": [
        {
          "output_type": "stream",
          "text": [
            "(50000, 3072) (10000, 3072)\n"
          ],
          "name": "stdout"
        }
      ]
    },
    {
      "cell_type": "markdown",
      "metadata": {
        "id": "M9KQC1-4R0Bq",
        "colab_type": "text"
      },
      "source": [
        "이미지의 값이기 때문에 0 ~ 255 사이의 값을 갖는다.\n",
        "\n",
        "전부 0~1사이의 값을 갖도록 scale을 조정하자!\n",
        "\n",
        "**생각해볼 것 : 데이터들간의 scale이 다르면 무슨차이가 생길까?**\n",
        "\n",
        "![unscaled](https://i.stack.imgur.com/GeAcX.png) ![scaled](https://i.stack.imgur.com/30hnH.png)"
      ]
    },
    {
      "cell_type": "code",
      "metadata": {
        "id": "cWL_no_LR3U8",
        "colab_type": "code",
        "outputId": "6b0657fb-b9a2-410e-81f2-8333c507eef3",
        "colab": {
          "base_uri": "https://localhost:8080/",
          "height": 35
        }
      },
      "source": [
        "print('max :', train_x.max(),'  min :', train_x.min())"
      ],
      "execution_count": 0,
      "outputs": [
        {
          "output_type": "stream",
          "text": [
            "max : 255   min : 0\n"
          ],
          "name": "stdout"
        }
      ]
    },
    {
      "cell_type": "code",
      "metadata": {
        "id": "3An_EZn0R4wM",
        "colab_type": "code",
        "outputId": "f4a045db-0b82-4530-b2bd-52d750c0ae41",
        "colab": {
          "base_uri": "https://localhost:8080/",
          "height": 35
        }
      },
      "source": [
        "max_num = train_x.max()\n",
        "\n",
        "train_x = train_x/max_num\n",
        "test_x = test_x/max_num\n",
        "\n",
        "print('max :', train_x.max(),'  min :', train_x.min())"
      ],
      "execution_count": 0,
      "outputs": [
        {
          "output_type": "stream",
          "text": [
            "max : 1.0   min : 0.0\n"
          ],
          "name": "stdout"
        }
      ]
    },
    {
      "cell_type": "code",
      "metadata": {
        "id": "gNs8-ZziR50H",
        "colab_type": "code",
        "outputId": "a115afa2-c3e1-45f0-ddab-1b842bc45ead",
        "colab": {
          "base_uri": "https://localhost:8080/",
          "height": 35
        }
      },
      "source": [
        "# One-hot Encoding\n",
        "\n",
        "train_y = np_utils.to_categorical(train_y)\n",
        "test_y = np_utils.to_categorical(test_y)\n",
        "\n",
        "print(test_y[2])"
      ],
      "execution_count": 0,
      "outputs": [
        {
          "output_type": "stream",
          "text": [
            "[0. 0. 0. 0. 0. 0. 0. 0. 1. 0.]\n"
          ],
          "name": "stdout"
        }
      ]
    },
    {
      "cell_type": "code",
      "metadata": {
        "id": "R0wVmwf-SGDE",
        "colab_type": "code",
        "outputId": "fb78a9f1-d022-4e1d-ca3a-55dcf05ee21e",
        "colab": {
          "base_uri": "https://localhost:8080/",
          "height": 35
        }
      },
      "source": [
        "train_x.shape"
      ],
      "execution_count": 0,
      "outputs": [
        {
          "output_type": "execute_result",
          "data": {
            "text/plain": [
              "(50000, 3072)"
            ]
          },
          "metadata": {
            "tags": []
          },
          "execution_count": 14
        }
      ]
    },
    {
      "cell_type": "markdown",
      "metadata": {
        "id": "mQ_FTTj7XAtC",
        "colab_type": "text"
      },
      "source": [
        "### Sequential을 이용하여 모델링을 할거야! (추천)"
      ]
    },
    {
      "cell_type": "markdown",
      "metadata": {
        "id": "eNmVybGysAWW",
        "colab_type": "text"
      },
      "source": [
        "모델링을 하기 전에!\n",
        "* 로지스틱 리그레션의 기능을 안다!\n",
        "* 뉴런의 구조를 안다!\n",
        "* 뉴럴넷의 구조를 안다.\n",
        "* 히든레이어 안의 뉴런 하나의 역할을 이해한다."
      ]
    },
    {
      "cell_type": "code",
      "metadata": {
        "id": "rJRWUyZiR8_y",
        "colab_type": "code",
        "outputId": "a96e44fe-6bbe-4468-c3fe-80e48debc1bb",
        "colab": {
          "base_uri": "https://localhost:8080/",
          "height": 271
        }
      },
      "source": [
        "# 혹시 이미 그려둔 그래프가 있다면 날려줘!\n",
        "keras.backend.clear_session()\n",
        "\n",
        "# model에 순차적으로 레이어를 쌓아가겠다는 의도!\n",
        "model = models.Sequential()\n",
        "\n",
        "# Sequential()을 사용하면, Input Layer는 자동으로 설계한다고 생각하면 됨!\n",
        "\n",
        "# 첫번째 Hidden 레이어를 add할 때는 input의 shape를 항상 정해줘야 한다!\n",
        "### 노드 수를 마음 껏 조절해보자!\n",
        "model.add( Dense(1024, input_shape=(3072,), activation='relu', name = 'Hidden1'))\n",
        "\n",
        "### 노드 수를 마음 껏 조절해보자!\n",
        "model.add( Dense(1024, activation = 'relu', name = 'Hidden2') )\n",
        "model.add( Dense(512, activation = 'relu', name = 'Hidden3') )\n",
        "\n",
        "# output Layer\n",
        "model.add( layers.Dense(10, activation = 'softmax')     )\n",
        "\n",
        "# 컴파일 해주렴!\n",
        "model.compile(loss = 'categorical_crossentropy', optimizer = 'adam',\n",
        "              metrics =['accuracy'])"
      ],
      "execution_count": 0,
      "outputs": [
        {
          "output_type": "stream",
          "text": [
            "WARNING: Logging before flag parsing goes to stderr.\n",
            "W0711 02:18:19.591247 139734213851008 deprecation_wrapper.py:119] From /usr/local/lib/python3.6/dist-packages/keras/backend/tensorflow_backend.py:95: The name tf.reset_default_graph is deprecated. Please use tf.compat.v1.reset_default_graph instead.\n",
            "\n",
            "W0711 02:18:19.595179 139734213851008 deprecation_wrapper.py:119] From /usr/local/lib/python3.6/dist-packages/keras/backend/tensorflow_backend.py:98: The name tf.placeholder_with_default is deprecated. Please use tf.compat.v1.placeholder_with_default instead.\n",
            "\n",
            "W0711 02:18:19.641512 139734213851008 deprecation_wrapper.py:119] From /usr/local/lib/python3.6/dist-packages/keras/backend/tensorflow_backend.py:102: The name tf.get_default_graph is deprecated. Please use tf.compat.v1.get_default_graph instead.\n",
            "\n",
            "W0711 02:18:19.646116 139734213851008 deprecation_wrapper.py:119] From /usr/local/lib/python3.6/dist-packages/keras/backend/tensorflow_backend.py:517: The name tf.placeholder is deprecated. Please use tf.compat.v1.placeholder instead.\n",
            "\n",
            "W0711 02:18:19.651739 139734213851008 deprecation_wrapper.py:119] From /usr/local/lib/python3.6/dist-packages/keras/backend/tensorflow_backend.py:4138: The name tf.random_uniform is deprecated. Please use tf.random.uniform instead.\n",
            "\n",
            "W0711 02:18:19.710974 139734213851008 deprecation_wrapper.py:119] From /usr/local/lib/python3.6/dist-packages/keras/optimizers.py:790: The name tf.train.Optimizer is deprecated. Please use tf.compat.v1.train.Optimizer instead.\n",
            "\n"
          ],
          "name": "stderr"
        }
      ]
    },
    {
      "cell_type": "code",
      "metadata": {
        "id": "7-gukW_BnMj3",
        "colab_type": "code",
        "outputId": "ab2af55e-9094-4ae7-c238-edbcdfad9b89",
        "colab": {
          "base_uri": "https://localhost:8080/",
          "height": 323
        }
      },
      "source": [
        "print('히든 레이어를 여러개 갖는 딥러닝 모델')\n",
        "print('딥러닝이라 불리는 모델들 중 가장 기본 구조이다.')\n",
        "model.summary()"
      ],
      "execution_count": 0,
      "outputs": [
        {
          "output_type": "stream",
          "text": [
            "히든 레이어를 여러개 갖는 딥러닝 모델\n",
            "딥러닝이라 불리는 모델들 중 가장 기본 구조이다.\n",
            "_________________________________________________________________\n",
            "Layer (type)                 Output Shape              Param #   \n",
            "=================================================================\n",
            "Hidden1 (Dense)              (None, 1024)              3146752   \n",
            "_________________________________________________________________\n",
            "Hidden2 (Dense)              (None, 1024)              1049600   \n",
            "_________________________________________________________________\n",
            "Hidden3 (Dense)              (None, 512)               524800    \n",
            "_________________________________________________________________\n",
            "dense_1 (Dense)              (None, 10)                5130      \n",
            "=================================================================\n",
            "Total params: 4,726,282\n",
            "Trainable params: 4,726,282\n",
            "Non-trainable params: 0\n",
            "_________________________________________________________________\n"
          ],
          "name": "stdout"
        }
      ]
    },
    {
      "cell_type": "code",
      "metadata": {
        "id": "55TMUhUmTJxe",
        "colab_type": "code",
        "outputId": "f547d86e-4ef4-4dca-921c-ebdb897b650e",
        "colab": {
          "base_uri": "https://localhost:8080/",
          "height": 649
        }
      },
      "source": [
        "# 데이터를 넣어서 학습시키자!\n",
        "history = model.fit(train_x, train_y, epochs=15, batch_size = 100,\n",
        "                    validation_split = 0.2, verbose=1)\n"
      ],
      "execution_count": 0,
      "outputs": [
        {
          "output_type": "stream",
          "text": [
            "W0711 02:19:52.660966 139734213851008 deprecation.py:323] From /usr/local/lib/python3.6/dist-packages/tensorflow/python/ops/math_grad.py:1250: add_dispatch_support.<locals>.wrapper (from tensorflow.python.ops.array_ops) is deprecated and will be removed in a future version.\n",
            "Instructions for updating:\n",
            "Use tf.where in 2.0, which has the same broadcast rule as np.where\n"
          ],
          "name": "stderr"
        },
        {
          "output_type": "stream",
          "text": [
            "Train on 40000 samples, validate on 10000 samples\n",
            "Epoch 1/15\n",
            "40000/40000 [==============================] - 9s 226us/step - loss: 1.9160 - acc: 0.3069 - val_loss: 1.7229 - val_acc: 0.3852\n",
            "Epoch 2/15\n",
            "40000/40000 [==============================] - 5s 130us/step - loss: 1.6847 - acc: 0.3935 - val_loss: 1.6515 - val_acc: 0.4129\n",
            "Epoch 3/15\n",
            "40000/40000 [==============================] - 5s 129us/step - loss: 1.6018 - acc: 0.4247 - val_loss: 1.6193 - val_acc: 0.4185\n",
            "Epoch 4/15\n",
            "40000/40000 [==============================] - 5s 129us/step - loss: 1.5384 - acc: 0.4473 - val_loss: 1.5466 - val_acc: 0.4539\n",
            "Epoch 5/15\n",
            "40000/40000 [==============================] - 5s 129us/step - loss: 1.4889 - acc: 0.4689 - val_loss: 1.5461 - val_acc: 0.4536\n",
            "Epoch 6/15\n",
            "40000/40000 [==============================] - 5s 130us/step - loss: 1.4462 - acc: 0.4817 - val_loss: 1.5687 - val_acc: 0.4501\n",
            "Epoch 7/15\n",
            "40000/40000 [==============================] - 5s 129us/step - loss: 1.4058 - acc: 0.4962 - val_loss: 1.4935 - val_acc: 0.4762\n",
            "Epoch 8/15\n",
            "40000/40000 [==============================] - 5s 130us/step - loss: 1.3742 - acc: 0.5067 - val_loss: 1.4577 - val_acc: 0.4850\n",
            "Epoch 9/15\n",
            "40000/40000 [==============================] - 5s 128us/step - loss: 1.3336 - acc: 0.5218 - val_loss: 1.4572 - val_acc: 0.4832\n",
            "Epoch 10/15\n",
            "40000/40000 [==============================] - 5s 129us/step - loss: 1.2949 - acc: 0.5364 - val_loss: 1.4604 - val_acc: 0.4890\n",
            "Epoch 11/15\n",
            "40000/40000 [==============================] - 5s 129us/step - loss: 1.2686 - acc: 0.5445 - val_loss: 1.4533 - val_acc: 0.4896\n",
            "Epoch 12/15\n",
            "40000/40000 [==============================] - 5s 129us/step - loss: 1.2294 - acc: 0.5581 - val_loss: 1.5014 - val_acc: 0.4862\n",
            "Epoch 13/15\n",
            "40000/40000 [==============================] - 5s 129us/step - loss: 1.1936 - acc: 0.5706 - val_loss: 1.4532 - val_acc: 0.5002\n",
            "Epoch 14/15\n",
            "40000/40000 [==============================] - 5s 129us/step - loss: 1.1509 - acc: 0.5840 - val_loss: 1.4407 - val_acc: 0.5057\n",
            "Epoch 15/15\n",
            "40000/40000 [==============================] - 5s 129us/step - loss: 1.1000 - acc: 0.6026 - val_loss: 1.4680 - val_acc: 0.4977\n"
          ],
          "name": "stdout"
        }
      ]
    },
    {
      "cell_type": "code",
      "metadata": {
        "id": "BBa5YC3BqHUQ",
        "colab_type": "code",
        "outputId": "b603a1ae-aec0-49cc-f60a-64295a31fc77",
        "colab": {
          "base_uri": "https://localhost:8080/",
          "height": 53
        }
      },
      "source": [
        "performance_test = model.evaluate(test_x, test_y, batch_size = 100)\n",
        "\n",
        "print('Test Loss : {:.6f},  Test Accuracy : {:.3f}%'.format(performance_test[0], performance_test[1]*100))"
      ],
      "execution_count": 0,
      "outputs": [
        {
          "output_type": "stream",
          "text": [
            "10000/10000 [==============================] - 0s 46us/step\n",
            "Test Loss : 1.450405,  Test Accuracy : 49.750%\n"
          ],
          "name": "stdout"
        }
      ]
    },
    {
      "cell_type": "code",
      "metadata": {
        "id": "R83kvDh1q1wW",
        "colab_type": "code",
        "outputId": "8207adf5-20f4-4a28-de3c-6e22d89bfcf0",
        "colab": {
          "base_uri": "https://localhost:8080/",
          "height": 294
        }
      },
      "source": [
        "if not isinstance(history, dict):\n",
        "    history = history.history\n",
        "\n",
        "plt.plot(history['acc'])\n",
        "plt.plot(history['val_acc'])\n",
        "plt.title('Accuracy : Training vs Validation')\n",
        "plt.ylabel('Accuracy')\n",
        "plt.xlabel('Epoch')\n",
        "plt.legend(['Training', 'Validation'], loc=0)\n",
        "plt.show()"
      ],
      "execution_count": 0,
      "outputs": [
        {
          "output_type": "display_data",
          "data": {
            "image/png": "[encoded data removed]",
            "text/plain": [
              "<Figure size 432x288 with 1 Axes>"
            ]
          },
          "metadata": {
            "tags": [],
            "image/png": {
              "width": 393,
              "height": 277
            }
          }
        }
      ]
    },
    {
      "cell_type": "code",
      "metadata": {
        "id": "ZM9auQjurl2N",
        "colab_type": "code",
        "outputId": "ddc7d83c-1f65-4732-9191-00feab0b88ae",
        "colab": {
          "base_uri": "https://localhost:8080/",
          "height": 294
        }
      },
      "source": [
        "if not isinstance(history, dict):\n",
        "    history = history.history\n",
        "\n",
        "plt.plot(history['loss'])\n",
        "plt.plot(history['val_loss'])\n",
        "plt.title('Loss : Training vs Validation')\n",
        "plt.ylabel('Loss')\n",
        "plt.xlabel('Epoch')\n",
        "plt.legend(['Training', 'Validation'], loc=0)\n",
        "plt.show()"
      ],
      "execution_count": 0,
      "outputs": [
        {
          "output_type": "display_data",
          "data": {
            "image/png": "[encoded data removed]",
            "text/plain": [
              "<Figure size 432x288 with 1 Axes>"
            ]
          },
          "metadata": {
            "tags": [],
            "image/png": {
              "width": 387,
              "height": 277
            }
          }
        }
      ]
    },
    {
      "cell_type": "markdown",
      "metadata": {
        "id": "SZUz3Txcq5NE",
        "colab_type": "text"
      },
      "source": [
        "## One more 1 : Optimizer & Learnig rate\n",
        "\n",
        "1. optimizer를 상세히 조절할 수 있다. 자세한 내용은 [공식 문서](https://keras.io/optimizers/)를 참고하자!\n",
        "2. **Learning Rate에 대해선 이해가 필요하다**\n",
        "\n",
        "다음 그림을 참고하자\n",
        "\n",
        "![lr](https://cdn-images-1.medium.com/max/1000/1*Q-2Wh0Xcy6fsGkbPFJvMhQ.gif)\n",
        "\n",
        "![good](https://cdn-images-1.medium.com/max/1200/1*2XgPW7nhBV7ly78at7XqYQ.gif)"
      ]
    },
    {
      "cell_type": "code",
      "metadata": {
        "id": "s39ghd71yjrz",
        "colab_type": "code",
        "colab": {}
      },
      "source": [
        "# 혹시 이미 그려둔 그래프가 있다면 날려줘!\n",
        "keras.backend.clear_session()\n",
        "\n",
        "# model에 순차적으로 레이어를 쌓아가겠다는 의도!\n",
        "model = models.Sequential()\n",
        "\n",
        "# Sequential()을 사용하면, Input Layer는 자동으로 설계한다고 생각하면 됨!\n",
        "\n",
        "# 첫번째 Hidden 레이어를 add할 때는 input의 shape를 항상 정해줘야 한다!\n",
        "### 노드 수를 마음 껏 조절해보자!\n",
        "model.add( Dense(1024, input_shape=(3072,), activation='relu', name = 'Hidden1'))\n",
        "\n",
        "### 노드 수를 마음 껏 조절해보자!\n",
        "model.add( Dense(1024, activation = 'relu', name = 'Hidden2') )\n",
        "model.add( Dense(512, activation = 'relu', name = 'Hidden3') )\n",
        "\n",
        "# output Layer\n",
        "model.add( layers.Dense(10, activation = 'softmax')     )"
      ],
      "execution_count": 0,
      "outputs": []
    },
    {
      "cell_type": "code",
      "metadata": {
        "id": "p1j7GpWuzwT5",
        "colab_type": "code",
        "colab": {}
      },
      "source": [
        "from keras import optimizers\n",
        "\n",
        "# Optimizer 상세 조절!\n",
        "# lr : Learning Rate에 대해서 공부하자!\n",
        "# adam = optimizers.Adam(lr=0.001, decay=0.0)\n",
        "\n",
        "adam = optimizers.Adam(lr=0.01, decay=0.0001) # lr을 조정해보자.\n",
        "\n",
        "# 컴파일 해주렴!\n",
        "model.compile(loss = 'categorical_crossentropy', optimizer = adam,\n",
        "              metrics =['accuracy'])"
      ],
      "execution_count": 0,
      "outputs": []
    },
    {
      "cell_type": "code",
      "metadata": {
        "id": "h6UvbLRv3x_r",
        "colab_type": "code",
        "outputId": "1cd5eac6-6f93-43b8-9c67-fb3e039712f4",
        "colab": {
          "base_uri": "https://localhost:8080/",
          "height": 575
        }
      },
      "source": [
        "# 데이터를 넣어서 학습시키자!\n",
        "history = model.fit(train_x, train_y, epochs=15, batch_size = 1000,\n",
        "                    validation_split = 0.2, verbose=1)\n"
      ],
      "execution_count": 0,
      "outputs": [
        {
          "output_type": "stream",
          "text": [
            "Train on 40000 samples, validate on 10000 samples\n",
            "Epoch 1/15\n",
            "40000/40000 [==============================] - 2s 60us/step - loss: 14.2202 - acc: 0.0989 - val_loss: 14.4708 - val_acc: 0.1022\n",
            "Epoch 2/15\n",
            "40000/40000 [==============================] - 2s 47us/step - loss: 14.5152 - acc: 0.0995 - val_loss: 14.4708 - val_acc: 0.1022\n",
            "Epoch 3/15\n",
            "40000/40000 [==============================] - 2s 46us/step - loss: 14.5152 - acc: 0.0995 - val_loss: 14.4708 - val_acc: 0.1022\n",
            "Epoch 4/15\n",
            "40000/40000 [==============================] - 2s 46us/step - loss: 14.5152 - acc: 0.0995 - val_loss: 14.4708 - val_acc: 0.1022\n",
            "Epoch 5/15\n",
            "40000/40000 [==============================] - 2s 46us/step - loss: 14.5152 - acc: 0.0995 - val_loss: 14.4708 - val_acc: 0.1022\n",
            "Epoch 6/15\n",
            "40000/40000 [==============================] - 2s 46us/step - loss: 14.5152 - acc: 0.0995 - val_loss: 14.4708 - val_acc: 0.1022\n",
            "Epoch 7/15\n",
            "40000/40000 [==============================] - 2s 45us/step - loss: 14.5152 - acc: 0.0994 - val_loss: 14.4708 - val_acc: 0.1022\n",
            "Epoch 8/15\n",
            "40000/40000 [==============================] - 2s 46us/step - loss: 14.5152 - acc: 0.0995 - val_loss: 14.4708 - val_acc: 0.1022\n",
            "Epoch 9/15\n",
            "40000/40000 [==============================] - 2s 46us/step - loss: 14.5152 - acc: 0.0995 - val_loss: 14.4708 - val_acc: 0.1022\n",
            "Epoch 10/15\n",
            "40000/40000 [==============================] - 2s 46us/step - loss: 14.5152 - acc: 0.0995 - val_loss: 14.4708 - val_acc: 0.1022\n",
            "Epoch 11/15\n",
            "40000/40000 [==============================] - 2s 46us/step - loss: 14.5152 - acc: 0.0995 - val_loss: 14.4708 - val_acc: 0.1022\n",
            "Epoch 12/15\n",
            "40000/40000 [==============================] - 2s 46us/step - loss: 14.5152 - acc: 0.0995 - val_loss: 14.4708 - val_acc: 0.1022\n",
            "Epoch 13/15\n",
            "40000/40000 [==============================] - 2s 46us/step - loss: 14.5152 - acc: 0.0995 - val_loss: 14.4708 - val_acc: 0.1022\n",
            "Epoch 14/15\n",
            "40000/40000 [==============================] - 2s 46us/step - loss: 14.5152 - acc: 0.0995 - val_loss: 14.4708 - val_acc: 0.1022\n",
            "Epoch 15/15\n",
            "40000/40000 [==============================] - 2s 46us/step - loss: 14.5152 - acc: 0.0995 - val_loss: 14.4708 - val_acc: 0.1022\n"
          ],
          "name": "stdout"
        }
      ]
    },
    {
      "cell_type": "code",
      "metadata": {
        "id": "v24KHUa2yjxf",
        "colab_type": "code",
        "outputId": "f54c020b-c56a-4c66-c868-410b5e72dc1b",
        "colab": {
          "base_uri": "https://localhost:8080/",
          "height": 294
        }
      },
      "source": [
        "if not isinstance(history, dict):\n",
        "    history = history.history\n",
        "\n",
        "plt.plot(history['acc'])\n",
        "plt.plot(history['val_acc'])\n",
        "plt.title('Accuracy : Training vs Validation')\n",
        "plt.ylabel('Accuracy')\n",
        "plt.xlabel('Epoch')\n",
        "plt.legend(['Training', 'Validation'], loc=0)\n",
        "plt.show()"
      ],
      "execution_count": 0,
      "outputs": [
        {
          "output_type": "display_data",
          "data": {
            "image/png": "[encoded data removed]",
            "text/plain": [
              "<Figure size 432x288 with 1 Axes>"
            ]
          },
          "metadata": {
            "tags": [],
            "image/png": {
              "width": 406,
              "height": 277
            }
          }
        }
      ]
    },
    {
      "cell_type": "markdown",
      "metadata": {
        "id": "8cQAzakHyj00",
        "colab_type": "text"
      },
      "source": [
        "## One more 2 : Drop out\n",
        "\n",
        "![일단 보자](https://s3-ap-south-1.amazonaws.com/av-blog-media/wp-content/uploads/2018/04/1IrdJ5PghD9YoOyVAQ73MJw.gif)\n",
        "\n",
        "걱정 거리 중 하나.\n",
        "\n",
        "**만일, 너무 특정노드에만 판단을 의존하면 어쩌지?**\n",
        "\n",
        "Dropout() 을 이용해서, 랜덤하게 노드들을 inactive하자!\n",
        "\n",
        "Dropout(0.6) : 학습 단계마다, 랜덤하게 60%의 노드들을 inactive시킨다!"
      ]
    },
    {
      "cell_type": "code",
      "metadata": {
        "id": "6sFK-Zyd5TQ6",
        "colab_type": "code",
        "outputId": "07f2c9d0-6097-48b6-8895-1a3f07f2eb07",
        "colab": {
          "base_uri": "https://localhost:8080/",
          "height": 91
        }
      },
      "source": [
        "# 혹시 이미 그려둔 그래프가 있다면 날려줘!\n",
        "keras.backend.clear_session()\n",
        "\n",
        "# model에 순차적으로 레이어를 쌓아가겠다는 의도!\n",
        "model = models.Sequential()\n",
        "\n",
        "# Sequential()을 사용하면, Input Layer는 자동으로 설계한다고 생각하면 됨!\n",
        "\n",
        "# 첫번째 Hidden 레이어를 add할 때는 input의 shape를 항상 정해줘야 한다!\n",
        "### 노드 수를 마음 껏 조절해보자!\n",
        "model.add( Dense(1024, input_shape=(3072,), activation='relu', name = 'Hidden1'))\n",
        "model.add( Dropout(0.2) )\n",
        "\n",
        "### 노드 수를 마음 껏 조절해보자!\n",
        "model.add( Dense(1024, activation = 'relu', name = 'Hidden2') )\n",
        "model.add( Dropout(0.2) )\n",
        "\n",
        "model.add( Dense(512, activation = 'relu', name = 'Hidden3') )\n",
        "model.add( Dropout(0.2) )\n",
        "# output Layer\n",
        "model.add( layers.Dense(10, activation = 'softmax')     )"
      ],
      "execution_count": 0,
      "outputs": [
        {
          "output_type": "stream",
          "text": [
            "W0711 02:38:55.600660 139734213851008 deprecation.py:506] From /usr/local/lib/python3.6/dist-packages/keras/backend/tensorflow_backend.py:3445: calling dropout (from tensorflow.python.ops.nn_ops) with keep_prob is deprecated and will be removed in a future version.\n",
            "Instructions for updating:\n",
            "Please use `rate` instead of `keep_prob`. Rate should be set to `rate = 1 - keep_prob`.\n"
          ],
          "name": "stderr"
        }
      ]
    },
    {
      "cell_type": "code",
      "metadata": {
        "id": "ul1dF16x5TTq",
        "colab_type": "code",
        "colab": {}
      },
      "source": [
        "adam = optimizers.Adam(lr=0.0005) # lr을 조정해보자.\n",
        "\n",
        "# 컴파일 해주렴!\n",
        "model.compile(loss = 'categorical_crossentropy', optimizer = adam,\n",
        "              metrics =['accuracy'])"
      ],
      "execution_count": 0,
      "outputs": []
    },
    {
      "cell_type": "code",
      "metadata": {
        "id": "u46yoJmZ86mE",
        "colab_type": "code",
        "outputId": "76b4bdcb-cadd-4a94-fcd3-95f61e46d1c0",
        "colab": {
          "base_uri": "https://localhost:8080/",
          "height": 575
        }
      },
      "source": [
        "# 데이터를 넣어서 학습시키자!\n",
        "history = model.fit(train_x, train_y, epochs=15, batch_size = 100,\n",
        "                    validation_split = 0.2, verbose=1)"
      ],
      "execution_count": 0,
      "outputs": [
        {
          "output_type": "stream",
          "text": [
            "Train on 40000 samples, validate on 10000 samples\n",
            "Epoch 1/15\n",
            "40000/40000 [==============================] - 6s 155us/step - loss: 1.9516 - acc: 0.2878 - val_loss: 1.7936 - val_acc: 0.3589\n",
            "Epoch 2/15\n",
            "40000/40000 [==============================] - 6s 142us/step - loss: 1.7907 - acc: 0.3563 - val_loss: 1.7199 - val_acc: 0.3819\n",
            "Epoch 3/15\n",
            "40000/40000 [==============================] - 6s 143us/step - loss: 1.7269 - acc: 0.3814 - val_loss: 1.6482 - val_acc: 0.4136\n",
            "Epoch 4/15\n",
            "40000/40000 [==============================] - 6s 143us/step - loss: 1.6840 - acc: 0.3923 - val_loss: 1.6404 - val_acc: 0.4194\n",
            "Epoch 5/15\n",
            "40000/40000 [==============================] - 6s 144us/step - loss: 1.6458 - acc: 0.4091 - val_loss: 1.6221 - val_acc: 0.4138\n",
            "Epoch 6/15\n",
            "40000/40000 [==============================] - 6s 143us/step - loss: 1.6177 - acc: 0.4174 - val_loss: 1.5766 - val_acc: 0.4435\n",
            "Epoch 7/15\n",
            "40000/40000 [==============================] - 6s 142us/step - loss: 1.5842 - acc: 0.4276 - val_loss: 1.5452 - val_acc: 0.4447\n",
            "Epoch 8/15\n",
            "40000/40000 [==============================] - 6s 142us/step - loss: 1.5598 - acc: 0.4363 - val_loss: 1.5265 - val_acc: 0.4503\n",
            "Epoch 9/15\n",
            "40000/40000 [==============================] - 6s 142us/step - loss: 1.5430 - acc: 0.4427 - val_loss: 1.5431 - val_acc: 0.4401\n",
            "Epoch 10/15\n",
            "40000/40000 [==============================] - 6s 142us/step - loss: 1.5260 - acc: 0.4499 - val_loss: 1.4992 - val_acc: 0.4650\n",
            "Epoch 11/15\n",
            "40000/40000 [==============================] - 6s 142us/step - loss: 1.5116 - acc: 0.4572 - val_loss: 1.5072 - val_acc: 0.4645\n",
            "Epoch 12/15\n",
            "40000/40000 [==============================] - 6s 142us/step - loss: 1.4886 - acc: 0.4649 - val_loss: 1.4746 - val_acc: 0.4744\n",
            "Epoch 13/15\n",
            "40000/40000 [==============================] - 6s 143us/step - loss: 1.4806 - acc: 0.4655 - val_loss: 1.4761 - val_acc: 0.4774\n",
            "Epoch 14/15\n",
            "40000/40000 [==============================] - 6s 142us/step - loss: 1.4606 - acc: 0.4721 - val_loss: 1.4719 - val_acc: 0.4754\n",
            "Epoch 15/15\n",
            "40000/40000 [==============================] - 6s 141us/step - loss: 1.4484 - acc: 0.4763 - val_loss: 1.4739 - val_acc: 0.4782\n"
          ],
          "name": "stdout"
        }
      ]
    },
    {
      "cell_type": "code",
      "metadata": {
        "id": "QLT1eNYH8-2A",
        "colab_type": "code",
        "colab": {}
      },
      "source": [
        "if not isinstance(history, dict):\n",
        "    history = history.history\n",
        "\n",
        "plt.plot(history['acc'])\n",
        "plt.plot(history['val_acc'])\n",
        "plt.title('Accuracy : Training vs Validation')\n",
        "plt.ylabel('Accuracy')\n",
        "plt.xlabel('Epoch')\n",
        "plt.legend(['Training', 'Validation'], loc=0)\n",
        "plt.show()"
      ],
      "execution_count": 0,
      "outputs": []
    },
    {
      "cell_type": "markdown",
      "metadata": {
        "id": "fs9eQyPd9tT3",
        "colab_type": "text"
      },
      "source": [
        "## One more 3 : Initialization\n",
        "\n",
        "Weights, bias들의 '시작점'이 중요하다.\n",
        "왜 중요한지는 눈으로 보면 안다!\n",
        "\n",
        "![1](https://www.offconvex.org/assets/optimization-beyond-landscape-trajectories.png)\n",
        "\n",
        "\n",
        "* kernel_initializer : 가중치에 대한 초기화 방법 결정\n",
        "* bias_initializer : 편차에 대한 초기화 방법 결정\n",
        "\n",
        "'glorot_uniform', 'glorot_normal' 을 추천한다"
      ]
    },
    {
      "cell_type": "code",
      "metadata": {
        "id": "mpXZhYZ55TVq",
        "colab_type": "code",
        "colab": {}
      },
      "source": [
        "# 혹시 이미 그려둔 그래프가 있다면 날려줘!\n",
        "keras.backend.clear_session()\n",
        "\n",
        "# model에 순차적으로 레이어를 쌓아가겠다는 의도!\n",
        "model = models.Sequential()\n",
        "\n",
        "# Sequential()을 사용하면, Input Layer는 자동으로 설계한다고 생각하면 됨!\n",
        "\n",
        "# 첫번째 Hidden 레이어를 add할 때는 input의 shape를 항상 정해줘야 한다!\n",
        "### 노드 수를 마음 껏 조절해보자!\n",
        "model.add( Dense(1024, input_shape=(3072,), activation='relu', name = 'Hidden1',\n",
        "                kernel_initializer = 'uniform',\n",
        "                bias_initializer = 'uniform'))\n",
        "model.add( Dropout(0.1) )\n",
        "\n",
        "### 노드 수를 마음 껏 조절해보자!\n",
        "model.add( Dense(1024, activation = 'relu', name = 'Hidden2',\n",
        "                kernel_initializer = 'uniform',\n",
        "                bias_initializer = 'uniform') )\n",
        "model.add( Dropout(0.1) )\n",
        "\n",
        "model.add( Dense(512, activation = 'relu', name = 'Hidden3',\n",
        "                kernel_initializer = 'uniform',\n",
        "                bias_initializer = 'uniform') )\n",
        "model.add( Dropout(0.1) )\n",
        "\n",
        "# output Layer\n",
        "model.add( layers.Dense(10, activation = 'softmax')   )\n",
        "\n",
        "\n",
        "# # 혹시 이미 그려둔 그래프가 있다면 날려줘!\n",
        "# keras.backend.clear_session()\n",
        "\n",
        "# # model에 순차적으로 레이어를 쌓아가겠다는 의도!\n",
        "# model = models.Sequential()\n",
        "\n",
        "# # Sequential()을 사용하면, Input Layer는 자동으로 설계한다고 생각하면 됨!\n",
        "\n",
        "# # 첫번째 Hidden 레이어를 add할 때는 input의 shape를 항상 정해줘야 한다!\n",
        "# ### 노드 수를 마음 껏 조절해보자!\n",
        "# model.add( Dense(1024, input_shape=(3072,), activation='relu', name = 'Hidden1',\n",
        "#                 kernel_initializer = 'glorot_uniform',\n",
        "#                 bias_initializer = 'glorot_uniform'))\n",
        "# model.add( Dropout(0.1) )\n",
        "\n",
        "# ### 노드 수를 마음 껏 조절해보자!\n",
        "# model.add( Dense(1024, activation = 'relu', name = 'Hidden2',\n",
        "#                 kernel_initializer = 'glorot_uniform',\n",
        "#                 bias_initializer = 'glorot_uniform') )\n",
        "# model.add( Dropout(0.1) )\n",
        "\n",
        "# model.add( Dense(512, activation = 'relu', name = 'Hidden3',\n",
        "#                 kernel_initializer = 'glorot_uniform',\n",
        "#                 bias_initializer = 'glorot_uniform') )\n",
        "# model.add( Dropout(0.1) )\n",
        "\n",
        "# # output Layer\n",
        "# model.add( layers.Dense(10, activation = 'softmax')   )"
      ],
      "execution_count": 0,
      "outputs": []
    },
    {
      "cell_type": "code",
      "metadata": {
        "id": "UJ0vCXHDTD9u",
        "colab_type": "code",
        "colab": {}
      },
      "source": [
        "# 혹시 이미 그려둔 그래프가 있다면 날려줘!\n",
        "keras.backend.clear_session()\n",
        "\n",
        "# model에 순차적으로 레이어를 쌓아가겠다는 의도!\n",
        "model = models.Sequential()\n",
        "\n",
        "# Sequential()을 사용하면, Input Layer는 자동으로 설계한다고 생각하면 됨!\n",
        "\n",
        "# 첫번째 Hidden 레이어를 add할 때는 input의 shape를 항상 정해줘야 한다!\n",
        "### 노드 수를 마음 껏 조절해보자!\n",
        "model.add( Dense(1024, input_shape=(3072,), activation='relu', name = 'Hidden1',\n",
        "                kernel_initializer = 'glorot_uniform',\n",
        "                bias_initializer = 'glorot_uniform'))\n",
        "model.add( Dropout(0.1) )\n",
        "\n",
        "### 노드 수를 마음 껏 조절해보자!\n",
        "model.add( Dense(1024, activation = 'relu', name = 'Hidden2',\n",
        "                kernel_initializer = 'glorot_uniform',\n",
        "                bias_initializer = 'glorot_uniform') )\n",
        "model.add( Dropout(0.1) )\n",
        "\n",
        "model.add( Dense(512, activation = 'relu', name = 'Hidden3',\n",
        "                kernel_initializer = 'glorot_uniform',\n",
        "                bias_initializer = 'glorot_uniform') )\n",
        "model.add( Dropout(0.1) )\n",
        "\n",
        "# output Layer\n",
        "model.add( layers.Dense(10, activation = 'softmax')   )"
      ],
      "execution_count": 0,
      "outputs": []
    },
    {
      "cell_type": "code",
      "metadata": {
        "id": "aZM-ynkj_ddl",
        "colab_type": "code",
        "colab": {}
      },
      "source": [
        "adam = optimizers.Adam(lr=0.0005) # lr을 조정해보자.\n",
        "\n",
        "# 컴파일 해주렴!\n",
        "model.compile(loss = 'categorical_crossentropy', optimizer = adam,\n",
        "              metrics =['accuracy'])"
      ],
      "execution_count": 0,
      "outputs": []
    },
    {
      "cell_type": "code",
      "metadata": {
        "id": "I3E445kq_dh6",
        "colab_type": "code",
        "outputId": "1e5147ed-50ef-4a6d-87ff-3cb27a784836",
        "colab": {
          "base_uri": "https://localhost:8080/",
          "height": 575
        }
      },
      "source": [
        "# 데이터를 넣어서 학습시키자!\n",
        "history = model.fit(train_x, train_y, epochs=15, batch_size = 100,\n",
        "                    validation_split = 0.2, verbose=1)"
      ],
      "execution_count": 0,
      "outputs": [
        {
          "output_type": "stream",
          "text": [
            "Train on 40000 samples, validate on 10000 samples\n",
            "Epoch 1/15\n",
            "40000/40000 [==============================] - 6s 152us/step - loss: 1.8941 - acc: 0.3107 - val_loss: 1.7363 - val_acc: 0.3765\n",
            "Epoch 2/15\n",
            "40000/40000 [==============================] - 5s 137us/step - loss: 1.7024 - acc: 0.3867 - val_loss: 1.6665 - val_acc: 0.3968\n",
            "Epoch 3/15\n",
            "40000/40000 [==============================] - 5s 137us/step - loss: 1.6216 - acc: 0.4190 - val_loss: 1.6554 - val_acc: 0.4058\n",
            "Epoch 4/15\n",
            "40000/40000 [==============================] - 6s 138us/step - loss: 1.5685 - acc: 0.4369 - val_loss: 1.5787 - val_acc: 0.4366\n",
            "Epoch 5/15\n",
            "40000/40000 [==============================] - 5s 136us/step - loss: 1.5241 - acc: 0.4537 - val_loss: 1.4997 - val_acc: 0.4664\n",
            "Epoch 6/15\n",
            "40000/40000 [==============================] - 6s 138us/step - loss: 1.4878 - acc: 0.4653 - val_loss: 1.5023 - val_acc: 0.4686\n",
            "Epoch 7/15\n",
            "40000/40000 [==============================] - 5s 136us/step - loss: 1.4658 - acc: 0.4726 - val_loss: 1.4579 - val_acc: 0.4777\n",
            "Epoch 8/15\n",
            "40000/40000 [==============================] - 5s 137us/step - loss: 1.4324 - acc: 0.4883 - val_loss: 1.4332 - val_acc: 0.4900\n",
            "Epoch 9/15\n",
            "40000/40000 [==============================] - 5s 137us/step - loss: 1.4062 - acc: 0.4959 - val_loss: 1.4471 - val_acc: 0.4802\n",
            "Epoch 10/15\n",
            "40000/40000 [==============================] - 5s 137us/step - loss: 1.3796 - acc: 0.5012 - val_loss: 1.4206 - val_acc: 0.4930\n",
            "Epoch 11/15\n",
            "40000/40000 [==============================] - 5s 137us/step - loss: 1.3568 - acc: 0.5116 - val_loss: 1.4438 - val_acc: 0.4878\n",
            "Epoch 12/15\n",
            "40000/40000 [==============================] - 5s 137us/step - loss: 1.3362 - acc: 0.5223 - val_loss: 1.4185 - val_acc: 0.4907\n",
            "Epoch 13/15\n",
            "40000/40000 [==============================] - 5s 137us/step - loss: 1.3127 - acc: 0.5289 - val_loss: 1.4070 - val_acc: 0.4984\n",
            "Epoch 14/15\n",
            "40000/40000 [==============================] - 5s 137us/step - loss: 1.2925 - acc: 0.5349 - val_loss: 1.3948 - val_acc: 0.5045\n",
            "Epoch 15/15\n",
            "40000/40000 [==============================] - 5s 137us/step - loss: 1.2691 - acc: 0.5414 - val_loss: 1.4132 - val_acc: 0.4953\n"
          ],
          "name": "stdout"
        }
      ]
    },
    {
      "cell_type": "code",
      "metadata": {
        "id": "89dBF1IRJBT3",
        "colab_type": "code",
        "outputId": "58f0d70d-57fb-4d35-ac4f-c306da92d9d6",
        "colab": {
          "base_uri": "https://localhost:8080/",
          "height": 294
        }
      },
      "source": [
        "if not isinstance(history, dict):\n",
        "    history = history.history\n",
        "\n",
        "plt.plot(history['acc'])\n",
        "plt.plot(history['val_acc'])\n",
        "plt.title('Accuracy : Training vs Validation')\n",
        "plt.ylabel('Accuracy')\n",
        "plt.xlabel('Epoch')\n",
        "plt.legend(['Training', 'Validation'], loc=0)\n",
        "plt.show()"
      ],
      "execution_count": 0,
      "outputs": [
        {
          "output_type": "display_data",
          "data": {
            "image/png": "[encoded data removed]",
            "text/plain": [
              "<Figure size 432x288 with 1 Axes>"
            ]
          },
          "metadata": {
            "tags": [],
            "image/png": {
              "width": 393,
              "height": 277
            }
          }
        }
      ]
    },
    {
      "cell_type": "markdown",
      "metadata": {
        "id": "XOMFgcYI_dmo",
        "colab_type": "text"
      },
      "source": [
        "## One more 4 : Batch normalization\n",
        "\n",
        "![bn](https://camo.githubusercontent.com/944f05a2565de729ae03d76bb2cb6f9c48e2e552/68747470733a2f2f6d6f7276616e7a686f752e6769746875622e696f2f7374617469632f726573756c74732f746f7263682f352d342d322e676966)\n",
        "\n",
        "위에서 Scaling을 왜 하는지에 대해서 다뤘다.\n",
        "\n",
        "Scaling은, Input Layer에 데이터를 넣기 전에 하는 것인데.\n",
        "\n",
        "1. Hidden Layer를 위한 normalization은 없는가?\n",
        "2. 그걸 어느정도로 해야 할지 자동화 할 수는 없는가?"
      ]
    },
    {
      "cell_type": "code",
      "metadata": {
        "id": "eDoW_MKyFCSt",
        "colab_type": "code",
        "colab": {}
      },
      "source": [
        "# 혹시 이미 그려둔 그래프가 있다면 날려줘!\n",
        "keras.backend.clear_session()\n",
        "\n",
        "# model에 순차적으로 레이어를 쌓아가겠다는 의도!\n",
        "model = models.Sequential()\n",
        "\n",
        "# Sequential()을 사용하면, Input Layer는 자동으로 설계한다고 생각하면 됨!\n",
        "\n",
        "# 첫번째 Hidden 레이어를 add할 때는 input의 shape를 항상 정해줘야 한다!\n",
        "### 노드 수를 마음 껏 조절해보자!\n",
        "model.add( Dense(1024, input_shape=(3072,), name = 'Hidden1', # activation = 'relu',\n",
        "                kernel_initializer = 'glorot_uniform',\n",
        "                bias_initializer = 'glorot_uniform'))\n",
        "\n",
        "model.add(BatchNormalization())\n",
        "model.add(Activation('elu'))\n",
        "model.add( Dropout(0.1) )\n",
        "\n",
        "### 노드 수를 마음 껏 조절해보자!\n",
        "model.add( Dense(1024, name = 'Hidden2', # activation = 'relu',\n",
        "                kernel_initializer = 'glorot_uniform',\n",
        "                bias_initializer = 'glorot_uniform') )\n",
        "\n",
        "model.add(BatchNormalization())\n",
        "model.add(Activation('elu'))\n",
        "model.add( Dropout(0.1) )\n",
        "\n",
        "model.add( Dense(512, name = 'Hidden3', # activation = 'relu',\n",
        "                kernel_initializer = 'glorot_uniform',\n",
        "                bias_initializer = 'glorot_uniform') )\n",
        "model.add(BatchNormalization())\n",
        "model.add(Activation('elu'))\n",
        "model.add( Dropout(0.1) )\n",
        "\n",
        "# output Layer\n",
        "model.add( layers.Dense(10, name = 'OutputLayer', #activation = 'softmax'\n",
        "                       kernel_initializer = 'glorot_uniform',\n",
        "                       bias_initializer = 'glorot_uniform') )\n",
        "model.add(BatchNormalization())\n",
        "model.add(Activation('softmax'))"
      ],
      "execution_count": 0,
      "outputs": []
    },
    {
      "cell_type": "code",
      "metadata": {
        "id": "nzrNbwqx5TYJ",
        "colab_type": "code",
        "colab": {}
      },
      "source": [
        "adam = optimizers.Adam(lr=0.0005) # lr을 조정해보자.\n",
        "\n",
        "# 컴파일 해주렴!\n",
        "model.compile(loss = 'categorical_crossentropy', optimizer = adam,\n",
        "              metrics =['accuracy'])"
      ],
      "execution_count": 0,
      "outputs": []
    },
    {
      "cell_type": "code",
      "metadata": {
        "id": "oYlOIGDw5TaW",
        "colab_type": "code",
        "outputId": "10d91639-0e41-41dd-b4bf-6e4af53dd7a9",
        "colab": {
          "base_uri": "https://localhost:8080/",
          "height": 450
        }
      },
      "source": [
        "# 데이터를 넣어서 학습시키자!\n",
        "history = model.fit(train_x, train_y, epochs=15, batch_size = 500,\n",
        "                    validation_split = 0.2, verbose=1)"
      ],
      "execution_count": 0,
      "outputs": [
        {
          "output_type": "stream",
          "text": [
            "Train on 40000 samples, validate on 10000 samples\n",
            "Epoch 1/15\n",
            "40000/40000 [==============================] - 4s 110us/step - loss: 1.7291 - acc: 0.3988 - val_loss: 1.8827 - val_acc: 0.3278\n",
            "Epoch 2/15\n",
            " 7500/40000 [====>.........................] - ETA: 2s - loss: 1.5714 - acc: 0.4672"
          ],
          "name": "stdout"
        },
        {
          "output_type": "error",
          "ename": "KeyboardInterrupt",
          "evalue": "ignored",
          "traceback": [
            "\u001b[0;31m---------------------------------------------------------------------------\u001b[0m",
            "\u001b[0;31mKeyboardInterrupt\u001b[0m                         Traceback (most recent call last)",
            "\u001b[0;32m<ipython-input-52-77e0c054fea1>\u001b[0m in \u001b[0;36m<module>\u001b[0;34m()\u001b[0m\n\u001b[1;32m      1\u001b[0m history = model.fit(train_x, train_y, epochs=15, batch_size = 500,\n\u001b[0;32m----> 2\u001b[0;31m                     validation_split = 0.2, verbose=1)\n\u001b[0m",
            "\u001b[0;32m/usr/local/lib/python3.6/dist-packages/keras/engine/training.py\u001b[0m in \u001b[0;36mfit\u001b[0;34m(self, x, y, batch_size, epochs, verbose, callbacks, validation_split, validation_data, shuffle, class_weight, sample_weight, initial_epoch, steps_per_epoch, validation_steps, **kwargs)\u001b[0m\n\u001b[1;32m   1037\u001b[0m                                         \u001b[0minitial_epoch\u001b[0m\u001b[0;34m=\u001b[0m\u001b[0minitial_epoch\u001b[0m\u001b[0;34m,\u001b[0m\u001b[0;34m\u001b[0m\u001b[0;34m\u001b[0m\u001b[0m\n\u001b[1;32m   1038\u001b[0m                                         \u001b[0msteps_per_epoch\u001b[0m\u001b[0;34m=\u001b[0m\u001b[0msteps_per_epoch\u001b[0m\u001b[0;34m,\u001b[0m\u001b[0;34m\u001b[0m\u001b[0;34m\u001b[0m\u001b[0m\n\u001b[0;32m-> 1039\u001b[0;31m                                         validation_steps=validation_steps)\n\u001b[0m\u001b[1;32m   1040\u001b[0m \u001b[0;34m\u001b[0m\u001b[0m\n\u001b[1;32m   1041\u001b[0m     def evaluate(self, x=None, y=None,\n",
            "\u001b[0;32m/usr/local/lib/python3.6/dist-packages/keras/engine/training_arrays.py\u001b[0m in \u001b[0;36mfit_loop\u001b[0;34m(model, f, ins, out_labels, batch_size, epochs, verbose, callbacks, val_f, val_ins, shuffle, callback_metrics, initial_epoch, steps_per_epoch, validation_steps)\u001b[0m\n\u001b[1;32m    197\u001b[0m                     \u001b[0mins_batch\u001b[0m\u001b[0;34m[\u001b[0m\u001b[0mi\u001b[0m\u001b[0;34m]\u001b[0m \u001b[0;34m=\u001b[0m \u001b[0mins_batch\u001b[0m\u001b[0;34m[\u001b[0m\u001b[0mi\u001b[0m\u001b[0;34m]\u001b[0m\u001b[0;34m.\u001b[0m\u001b[0mtoarray\u001b[0m\u001b[0;34m(\u001b[0m\u001b[0;34m)\u001b[0m\u001b[0;34m\u001b[0m\u001b[0;34m\u001b[0m\u001b[0m\n\u001b[1;32m    198\u001b[0m \u001b[0;34m\u001b[0m\u001b[0m\n\u001b[0;32m--> 199\u001b[0;31m                 \u001b[0mouts\u001b[0m \u001b[0;34m=\u001b[0m \u001b[0mf\u001b[0m\u001b[0;34m(\u001b[0m\u001b[0mins_batch\u001b[0m\u001b[0;34m)\u001b[0m\u001b[0;34m\u001b[0m\u001b[0;34m\u001b[0m\u001b[0m\n\u001b[0m\u001b[1;32m    200\u001b[0m                 \u001b[0mouts\u001b[0m \u001b[0;34m=\u001b[0m \u001b[0mto_list\u001b[0m\u001b[0;34m(\u001b[0m\u001b[0mouts\u001b[0m\u001b[0;34m)\u001b[0m\u001b[0;34m\u001b[0m\u001b[0;34m\u001b[0m\u001b[0m\n\u001b[1;32m    201\u001b[0m                 \u001b[0;32mfor\u001b[0m \u001b[0ml\u001b[0m\u001b[0;34m,\u001b[0m \u001b[0mo\u001b[0m \u001b[0;32min\u001b[0m \u001b[0mzip\u001b[0m\u001b[0;34m(\u001b[0m\u001b[0mout_labels\u001b[0m\u001b[0;34m,\u001b[0m \u001b[0mouts\u001b[0m\u001b[0;34m)\u001b[0m\u001b[0;34m:\u001b[0m\u001b[0;34m\u001b[0m\u001b[0;34m\u001b[0m\u001b[0m\n",
            "\u001b[0;32m/usr/local/lib/python3.6/dist-packages/keras/backend/tensorflow_backend.py\u001b[0m in \u001b[0;36m__call__\u001b[0;34m(self, inputs)\u001b[0m\n\u001b[1;32m   2713\u001b[0m                 \u001b[0;32mreturn\u001b[0m \u001b[0mself\u001b[0m\u001b[0;34m.\u001b[0m\u001b[0m_legacy_call\u001b[0m\u001b[0;34m(\u001b[0m\u001b[0minputs\u001b[0m\u001b[0;34m)\u001b[0m\u001b[0;34m\u001b[0m\u001b[0;34m\u001b[0m\u001b[0m\n\u001b[1;32m   2714\u001b[0m \u001b[0;34m\u001b[0m\u001b[0m\n\u001b[0;32m-> 2715\u001b[0;31m             \u001b[0;32mreturn\u001b[0m \u001b[0mself\u001b[0m\u001b[0;34m.\u001b[0m\u001b[0m_call\u001b[0m\u001b[0;34m(\u001b[0m\u001b[0minputs\u001b[0m\u001b[0;34m)\u001b[0m\u001b[0;34m\u001b[0m\u001b[0;34m\u001b[0m\u001b[0m\n\u001b[0m\u001b[1;32m   2716\u001b[0m         \u001b[0;32melse\u001b[0m\u001b[0;34m:\u001b[0m\u001b[0;34m\u001b[0m\u001b[0;34m\u001b[0m\u001b[0m\n\u001b[1;32m   2717\u001b[0m             \u001b[0;32mif\u001b[0m \u001b[0mpy_any\u001b[0m\u001b[0;34m(\u001b[0m\u001b[0mis_tensor\u001b[0m\u001b[0;34m(\u001b[0m\u001b[0mx\u001b[0m\u001b[0;34m)\u001b[0m \u001b[0;32mfor\u001b[0m \u001b[0mx\u001b[0m \u001b[0;32min\u001b[0m \u001b[0minputs\u001b[0m\u001b[0;34m)\u001b[0m\u001b[0;34m:\u001b[0m\u001b[0;34m\u001b[0m\u001b[0;34m\u001b[0m\u001b[0m\n",
            "\u001b[0;32m/usr/local/lib/python3.6/dist-packages/keras/backend/tensorflow_backend.py\u001b[0m in \u001b[0;36m_call\u001b[0;34m(self, inputs)\u001b[0m\n\u001b[1;32m   2673\u001b[0m             \u001b[0mfetched\u001b[0m \u001b[0;34m=\u001b[0m \u001b[0mself\u001b[0m\u001b[0;34m.\u001b[0m\u001b[0m_callable_fn\u001b[0m\u001b[0;34m(\u001b[0m\u001b[0;34m*\u001b[0m\u001b[0marray_vals\u001b[0m\u001b[0;34m,\u001b[0m \u001b[0mrun_metadata\u001b[0m\u001b[0;34m=\u001b[0m\u001b[0mself\u001b[0m\u001b[0;34m.\u001b[0m\u001b[0mrun_metadata\u001b[0m\u001b[0;34m)\u001b[0m\u001b[0;34m\u001b[0m\u001b[0;34m\u001b[0m\u001b[0m\n\u001b[1;32m   2674\u001b[0m         \u001b[0;32melse\u001b[0m\u001b[0;34m:\u001b[0m\u001b[0;34m\u001b[0m\u001b[0;34m\u001b[0m\u001b[0m\n\u001b[0;32m-> 2675\u001b[0;31m             \u001b[0mfetched\u001b[0m \u001b[0;34m=\u001b[0m \u001b[0mself\u001b[0m\u001b[0;34m.\u001b[0m\u001b[0m_callable_fn\u001b[0m\u001b[0;34m(\u001b[0m\u001b[0;34m*\u001b[0m\u001b[0marray_vals\u001b[0m\u001b[0;34m)\u001b[0m\u001b[0;34m\u001b[0m\u001b[0;34m\u001b[0m\u001b[0m\n\u001b[0m\u001b[1;32m   2676\u001b[0m         \u001b[0;32mreturn\u001b[0m \u001b[0mfetched\u001b[0m\u001b[0;34m[\u001b[0m\u001b[0;34m:\u001b[0m\u001b[0mlen\u001b[0m\u001b[0;34m(\u001b[0m\u001b[0mself\u001b[0m\u001b[0;34m.\u001b[0m\u001b[0moutputs\u001b[0m\u001b[0;34m)\u001b[0m\u001b[0;34m]\u001b[0m\u001b[0;34m\u001b[0m\u001b[0;34m\u001b[0m\u001b[0m\n\u001b[1;32m   2677\u001b[0m \u001b[0;34m\u001b[0m\u001b[0m\n",
            "\u001b[0;32m/usr/local/lib/python3.6/dist-packages/tensorflow/python/client/session.py\u001b[0m in \u001b[0;36m__call__\u001b[0;34m(self, *args, **kwargs)\u001b[0m\n\u001b[1;32m   1456\u001b[0m         ret = tf_session.TF_SessionRunCallable(self._session._session,\n\u001b[1;32m   1457\u001b[0m                                                \u001b[0mself\u001b[0m\u001b[0;34m.\u001b[0m\u001b[0m_handle\u001b[0m\u001b[0;34m,\u001b[0m \u001b[0margs\u001b[0m\u001b[0;34m,\u001b[0m\u001b[0;34m\u001b[0m\u001b[0;34m\u001b[0m\u001b[0m\n\u001b[0;32m-> 1458\u001b[0;31m                                                run_metadata_ptr)\n\u001b[0m\u001b[1;32m   1459\u001b[0m         \u001b[0;32mif\u001b[0m \u001b[0mrun_metadata\u001b[0m\u001b[0;34m:\u001b[0m\u001b[0;34m\u001b[0m\u001b[0;34m\u001b[0m\u001b[0m\n\u001b[1;32m   1460\u001b[0m           \u001b[0mproto_data\u001b[0m \u001b[0;34m=\u001b[0m \u001b[0mtf_session\u001b[0m\u001b[0;34m.\u001b[0m\u001b[0mTF_GetBuffer\u001b[0m\u001b[0;34m(\u001b[0m\u001b[0mrun_metadata_ptr\u001b[0m\u001b[0;34m)\u001b[0m\u001b[0;34m\u001b[0m\u001b[0;34m\u001b[0m\u001b[0m\n",
            "\u001b[0;31mKeyboardInterrupt\u001b[0m: "
          ]
        }
      ]
    },
    {
      "cell_type": "code",
      "metadata": {
        "id": "1xBCRZ1CHNC3",
        "colab_type": "code",
        "outputId": "2717168c-9216-4ebf-de79-5ce51b805f3b",
        "colab": {
          "base_uri": "https://localhost:8080/",
          "height": 294
        }
      },
      "source": [
        "if not isinstance(history, dict):\n",
        "    history = history.history\n",
        "\n",
        "plt.plot(history['acc'])\n",
        "plt.plot(history['val_acc'])\n",
        "plt.title('Accuracy : Training vs Validation')\n",
        "plt.ylabel('Accuracy')\n",
        "plt.xlabel('Epoch')\n",
        "plt.legend(['Training', 'Validation'], loc=0)\n",
        "plt.show()"
      ],
      "execution_count": 0,
      "outputs": [
        {
          "output_type": "display_data",
          "data": {
            "image/png": "[encoded data removed]",
            "text/plain": [
              "<Figure size 432x288 with 1 Axes>"
            ]
          },
          "metadata": {
            "tags": [],
            "image/png": {
              "width": 393,
              "height": 277
            }
          }
        }
      ]
    },
    {
      "cell_type": "code",
      "metadata": {
        "id": "nVC-uuobHNFn",
        "colab_type": "code",
        "outputId": "76dd10d5-a597-4e5b-eb87-432b7d0ac39e",
        "colab": {
          "base_uri": "https://localhost:8080/",
          "height": 53
        }
      },
      "source": [
        "performance_test = model.evaluate(test_x, test_y, batch_size = 100)\n",
        "\n",
        "print('Test Loss : {:.6f},  Test Accuracy : {:.3f}%'.format(performance_test[0], performance_test[1]*100))"
      ],
      "execution_count": 0,
      "outputs": [
        {
          "output_type": "stream",
          "text": [
            "10000/10000 [==============================] - 1s 53us/step\n",
            "Test Loss : 1.847301,  Test Accuracy : 39.620%\n"
          ],
          "name": "stdout"
        }
      ]
    },
    {
      "cell_type": "code",
      "metadata": {
        "id": "E3ruuTWaJGMC",
        "colab_type": "code",
        "colab": {}
      },
      "source": [
        ""
      ],
      "execution_count": 0,
      "outputs": []
    },
    {
      "cell_type": "markdown",
      "metadata": {
        "id": "ooguiec1JGNx",
        "colab_type": "text"
      },
      "source": [
        "## One More Last ! : EarlyStopping, and Callbacks\n",
        "\n",
        "끝까지 가본다!"
      ]
    },
    {
      "cell_type": "code",
      "metadata": {
        "id": "CBr9O24_JGPT",
        "colab_type": "code",
        "colab": {}
      },
      "source": [
        "# 혹시 이미 그려둔 그래프가 있다면 날려줘!\n",
        "keras.backend.clear_session()\n",
        "\n",
        "# model에 순차적으로 레이어를 쌓아가겠다는 의도!\n",
        "model = models.Sequential()\n",
        "\n",
        "# Sequential()을 사용하면, Input Layer는 자동으로 설계한다고 생각하면 됨!\n",
        "\n",
        "# 첫번째 Hidden 레이어를 add할 때는 input의 shape를 항상 정해줘야 한다!\n",
        "### 노드 수를 마음 껏 조절해보자!\n",
        "model.add( Dense(1024, input_shape=(3072,), name = 'Hidden1', # activation = 'relu',\n",
        "                kernel_initializer = 'glorot_uniform',\n",
        "                bias_initializer = 'glorot_uniform'))\n",
        "\n",
        "model.add(BatchNormalization())\n",
        "model.add(Activation('elu'))\n",
        "\n",
        "model.add( Dropout(0.1) )\n",
        "\n",
        "### 노드 수를 마음 껏 조절해보자!\n",
        "model.add( Dense(1024, name = 'Hidden2', # activation = 'relu',\n",
        "                kernel_initializer = 'glorot_uniform',\n",
        "                bias_initializer = 'glorot_uniform') )\n",
        "\n",
        "model.add(BatchNormalization())\n",
        "model.add(Activation('elu'))\n",
        "model.add( Dropout(0.1) )\n",
        "\n",
        "model.add( Dense(512, name = 'Hidden3', # activation = 'relu',\n",
        "                kernel_initializer = 'glorot_uniform',\n",
        "                bias_initializer = 'glorot_uniform') )\n",
        "model.add(BatchNormalization())\n",
        "model.add(Activation('elu'))\n",
        "model.add( Dropout(0.1) )\n",
        "\n",
        "# output Layer\n",
        "model.add( layers.Dense(10, name = 'OutputLayer', #activation = 'softmax'\n",
        "                       kernel_initializer = 'glorot_uniform',\n",
        "                       bias_initializer = 'glorot_uniform') )\n",
        "model.add(BatchNormalization())\n",
        "model.add(Activation('softmax'))"
      ],
      "execution_count": 0,
      "outputs": []
    },
    {
      "cell_type": "code",
      "metadata": {
        "id": "IOZ5qkYrYJxe",
        "colab_type": "code",
        "colab": {}
      },
      "source": [
        "################################################################################\n",
        "# 복사해서 수정!!!\n",
        "################################################################################\n",
        "\n",
        "# 혹시 이미 그려둔 그래프가 있다면 날려줘!\n",
        "keras.backend.clear_session()\n",
        "\n",
        "# model에 순차적으로 레이어를 쌓아가겠다는 의도!\n",
        "model = models.Sequential()\n",
        "\n",
        "# Sequential()을 사용하면, Input Layer는 자동으로 설계한다고 생각하면 됨!\n",
        "\n",
        "# 첫번째 Hidden 레이어를 add할 때는 input의 shape를 항상 정해줘야 한다!\n",
        "### 노드 수를 마음 껏 조절해보자!\n",
        "model.add( Dense(2048, input_shape=(3072,), name = 'Hidden1', # activation = 'relu',\n",
        "                kernel_initializer = 'glorot_uniform',\n",
        "                bias_initializer = 'glorot_uniform'))\n",
        "\n",
        "model.add(BatchNormalization())\n",
        "model.add(Activation('elu'))\n",
        "\n",
        "model.add( Dropout(0.1) )\n",
        "\n",
        "### 노드 수를 마음 껏 조절해보자!\n",
        "model.add( Dense(2048, name = 'Hidden2', # activation = 'relu',\n",
        "                kernel_initializer = 'glorot_uniform',\n",
        "                bias_initializer = 'glorot_uniform') )\n",
        "\n",
        "model.add(BatchNormalization())\n",
        "model.add(Activation('elu'))\n",
        "model.add( Dropout(0.1) )\n",
        "\n",
        "model.add( Dense(512, name = 'Hidden3', # activation = 'relu',\n",
        "                kernel_initializer = 'glorot_uniform',\n",
        "                bias_initializer = 'glorot_uniform') )\n",
        "model.add(BatchNormalization())\n",
        "model.add(Activation('elu'))\n",
        "model.add( Dropout(0.1) )\n",
        "\n",
        "# output Layer\n",
        "model.add( layers.Dense(10, name = 'OutputLayer', #activation = 'softmax'\n",
        "                       kernel_initializer = 'glorot_uniform',\n",
        "                       bias_initializer = 'glorot_uniform') )\n",
        "model.add(BatchNormalization())\n",
        "model.add(Activation('softmax'))"
      ],
      "execution_count": 0,
      "outputs": []
    },
    {
      "cell_type": "code",
      "metadata": {
        "id": "VowlLP6dJGRw",
        "colab_type": "code",
        "colab": {}
      },
      "source": [
        "adam = optimizers.Adam(lr=0.0001) # lr을 조정해보자.\n",
        "\n",
        "# 컴파일 해주렴!\n",
        "model.compile(loss = 'categorical_crossentropy', optimizer = adam,\n",
        "              metrics =['accuracy'])"
      ],
      "execution_count": 0,
      "outputs": []
    },
    {
      "cell_type": "code",
      "metadata": {
        "id": "1flqKe_aih2-",
        "colab_type": "code",
        "outputId": "502ea873-417c-4823-d538-29a956abb4be",
        "colab": {
          "base_uri": "https://localhost:8080/",
          "height": 683
        }
      },
      "source": [
        "model.summary()"
      ],
      "execution_count": 0,
      "outputs": [
        {
          "output_type": "stream",
          "text": [
            "_________________________________________________________________\n",
            "Layer (type)                 Output Shape              Param #   \n",
            "=================================================================\n",
            "Hidden1 (Dense)              (None, 2048)              6293504   \n",
            "_________________________________________________________________\n",
            "batch_normalization_1 (Batch (None, 2048)              8192      \n",
            "_________________________________________________________________\n",
            "activation_1 (Activation)    (None, 2048)              0         \n",
            "_________________________________________________________________\n",
            "dropout_1 (Dropout)          (None, 2048)              0         \n",
            "_________________________________________________________________\n",
            "Hidden2 (Dense)              (None, 2048)              4196352   \n",
            "_________________________________________________________________\n",
            "batch_normalization_2 (Batch (None, 2048)              8192      \n",
            "_________________________________________________________________\n",
            "activation_2 (Activation)    (None, 2048)              0         \n",
            "_________________________________________________________________\n",
            "dropout_2 (Dropout)          (None, 2048)              0         \n",
            "_________________________________________________________________\n",
            "Hidden3 (Dense)              (None, 512)               1049088   \n",
            "_________________________________________________________________\n",
            "batch_normalization_3 (Batch (None, 512)               2048      \n",
            "_________________________________________________________________\n",
            "activation_3 (Activation)    (None, 512)               0         \n",
            "_________________________________________________________________\n",
            "dropout_3 (Dropout)          (None, 512)               0         \n",
            "_________________________________________________________________\n",
            "OutputLayer (Dense)          (None, 10)                5130      \n",
            "_________________________________________________________________\n",
            "batch_normalization_4 (Batch (None, 10)                40        \n",
            "_________________________________________________________________\n",
            "activation_4 (Activation)    (None, 10)                0         \n",
            "=================================================================\n",
            "Total params: 11,562,546\n",
            "Trainable params: 11,553,310\n",
            "Non-trainable params: 9,236\n",
            "_________________________________________________________________\n"
          ],
          "name": "stdout"
        }
      ]
    },
    {
      "cell_type": "markdown",
      "metadata": {
        "id": "4nGAm7SXbVsM",
        "colab_type": "text"
      },
      "source": [
        "* monitor : 관찰하고자 하는 항목입니다. ‘val_loss’나 ‘val_acc’가 주로 사용됩니다.\n",
        "* min_delta : 개선되고 있다고 판단하기 위한 최소 변화량을 나타냅니다. 만약 변화량이 min_delta보다 적은 경우에는 개선이 없다고 판단합니다.\n",
        "* patience : 개선이 없다고 바로 종료하지 않고 개선이 없는 에포크를 얼마나 기다려 줄 것인 가를 지정합니다. 만약 10이라고 지정하면 개선이 없는 에포크가 10번째 지속될 경우 학습일 종료합니다.\n",
        "* verbose : 얼마나 자세하게 정보를 표시할 것인가를 지정합니다. (0, 1, 2)\n",
        "* mode : 관찰 항목에 대해 개선이 없다고 판단하기 위한 기준을 지정합니다. 예를 들어 관찰 항목이 ‘val_loss’인 경우에는 감소되는 것이 멈출 때 종료되어야 하므로, ‘min’으로 설정됩니다. \n",
        " *  auto : 관찰하는 이름에 따라 자동으로 지정합니다.\n",
        " *  min : 관찰하고 있는 항목이 감소되는 것을 멈출 때 종료합니다.\n",
        " *  max : 관찰하고 있는 항목이 증가되는 것을 멈출 때 종료합니다.\n",
        "<br>\n",
        "<br>\n",
        "<br>\n",
        "\n",
        "EarlyStopping 참고자료:<br>\n",
        "https://tykimos.github.io/2017/07/09/Early_Stopping/"
      ]
    },
    {
      "cell_type": "code",
      "metadata": {
        "id": "JfLvdpqBJrs9",
        "colab_type": "code",
        "outputId": "faf2acd6-e1fa-4fc3-a424-298f867dc372",
        "colab": {
          "base_uri": "https://localhost:8080/",
          "height": 540
        }
      },
      "source": [
        "from keras.callbacks import EarlyStopping\n",
        "\n",
        "es = EarlyStopping(monitor = 'val_loss',\n",
        "                  min_delta = 0, # 개선되고 있다고 판단하기 위한 최소 변화량\n",
        "                  patience = 10, # 개선 없는 epoch 얼마나 기달려 줄거야?\n",
        "                  verbose = 1\n",
        "                  )\n",
        "\n",
        "\n",
        "# 데이터를 넣어서 학습시키자!\n",
        "history = model.fit(train_x, train_y, epochs=20000, batch_size = 512,\n",
        "                    validation_split = 0.2, verbose=1,\n",
        "                    callbacks = [es])"
      ],
      "execution_count": 0,
      "outputs": [
        {
          "output_type": "stream",
          "text": [
            "Train on 40000 samples, validate on 10000 samples\n",
            "Epoch 1/20000\n",
            "40000/40000 [==============================] - 3s 71us/step - loss: 1.5365 - acc: 0.4764 - val_loss: 1.7483 - val_acc: 0.3849\n",
            "Epoch 2/20000\n",
            "40000/40000 [==============================] - 3s 69us/step - loss: 1.4699 - acc: 0.5008 - val_loss: 1.8102 - val_acc: 0.3555\n",
            "Epoch 3/20000\n",
            "40000/40000 [==============================] - 3s 68us/step - loss: 1.4225 - acc: 0.5176 - val_loss: 1.7364 - val_acc: 0.4113\n",
            "Epoch 4/20000\n",
            "34304/40000 [========================>.....] - ETA: 0s - loss: 1.3773 - acc: 0.5352"
          ],
          "name": "stdout"
        },
        {
          "output_type": "error",
          "ename": "KeyboardInterrupt",
          "evalue": "ignored",
          "traceback": [
            "\u001b[0;31m---------------------------------------------------------------------------\u001b[0m",
            "\u001b[0;31mKeyboardInterrupt\u001b[0m                         Traceback (most recent call last)",
            "\u001b[0;32m<ipython-input-53-147bb611aa56>\u001b[0m in \u001b[0;36m<module>\u001b[0;34m()\u001b[0m\n\u001b[1;32m     11\u001b[0m history = model.fit(train_x, train_y, epochs=20000, batch_size = 512,\n\u001b[1;32m     12\u001b[0m                     \u001b[0mvalidation_split\u001b[0m \u001b[0;34m=\u001b[0m \u001b[0;36m0.2\u001b[0m\u001b[0;34m,\u001b[0m \u001b[0mverbose\u001b[0m\u001b[0;34m=\u001b[0m\u001b[0;36m1\u001b[0m\u001b[0;34m,\u001b[0m\u001b[0;34m\u001b[0m\u001b[0;34m\u001b[0m\u001b[0m\n\u001b[0;32m---> 13\u001b[0;31m                     callbacks = [es])\n\u001b[0m",
            "\u001b[0;32m/usr/local/lib/python3.6/dist-packages/keras/engine/training.py\u001b[0m in \u001b[0;36mfit\u001b[0;34m(self, x, y, batch_size, epochs, verbose, callbacks, validation_split, validation_data, shuffle, class_weight, sample_weight, initial_epoch, steps_per_epoch, validation_steps, **kwargs)\u001b[0m\n\u001b[1;32m   1037\u001b[0m                                         \u001b[0minitial_epoch\u001b[0m\u001b[0;34m=\u001b[0m\u001b[0minitial_epoch\u001b[0m\u001b[0;34m,\u001b[0m\u001b[0;34m\u001b[0m\u001b[0;34m\u001b[0m\u001b[0m\n\u001b[1;32m   1038\u001b[0m                                         \u001b[0msteps_per_epoch\u001b[0m\u001b[0;34m=\u001b[0m\u001b[0msteps_per_epoch\u001b[0m\u001b[0;34m,\u001b[0m\u001b[0;34m\u001b[0m\u001b[0;34m\u001b[0m\u001b[0m\n\u001b[0;32m-> 1039\u001b[0;31m                                         validation_steps=validation_steps)\n\u001b[0m\u001b[1;32m   1040\u001b[0m \u001b[0;34m\u001b[0m\u001b[0m\n\u001b[1;32m   1041\u001b[0m     def evaluate(self, x=None, y=None,\n",
            "\u001b[0;32m/usr/local/lib/python3.6/dist-packages/keras/engine/training_arrays.py\u001b[0m in \u001b[0;36mfit_loop\u001b[0;34m(model, f, ins, out_labels, batch_size, epochs, verbose, callbacks, val_f, val_ins, shuffle, callback_metrics, initial_epoch, steps_per_epoch, validation_steps)\u001b[0m\n\u001b[1;32m    197\u001b[0m                     \u001b[0mins_batch\u001b[0m\u001b[0;34m[\u001b[0m\u001b[0mi\u001b[0m\u001b[0;34m]\u001b[0m \u001b[0;34m=\u001b[0m \u001b[0mins_batch\u001b[0m\u001b[0;34m[\u001b[0m\u001b[0mi\u001b[0m\u001b[0;34m]\u001b[0m\u001b[0;34m.\u001b[0m\u001b[0mtoarray\u001b[0m\u001b[0;34m(\u001b[0m\u001b[0;34m)\u001b[0m\u001b[0;34m\u001b[0m\u001b[0;34m\u001b[0m\u001b[0m\n\u001b[1;32m    198\u001b[0m \u001b[0;34m\u001b[0m\u001b[0m\n\u001b[0;32m--> 199\u001b[0;31m                 \u001b[0mouts\u001b[0m \u001b[0;34m=\u001b[0m \u001b[0mf\u001b[0m\u001b[0;34m(\u001b[0m\u001b[0mins_batch\u001b[0m\u001b[0;34m)\u001b[0m\u001b[0;34m\u001b[0m\u001b[0;34m\u001b[0m\u001b[0m\n\u001b[0m\u001b[1;32m    200\u001b[0m                 \u001b[0mouts\u001b[0m \u001b[0;34m=\u001b[0m \u001b[0mto_list\u001b[0m\u001b[0;34m(\u001b[0m\u001b[0mouts\u001b[0m\u001b[0;34m)\u001b[0m\u001b[0;34m\u001b[0m\u001b[0;34m\u001b[0m\u001b[0m\n\u001b[1;32m    201\u001b[0m                 \u001b[0;32mfor\u001b[0m \u001b[0ml\u001b[0m\u001b[0;34m,\u001b[0m \u001b[0mo\u001b[0m \u001b[0;32min\u001b[0m \u001b[0mzip\u001b[0m\u001b[0;34m(\u001b[0m\u001b[0mout_labels\u001b[0m\u001b[0;34m,\u001b[0m \u001b[0mouts\u001b[0m\u001b[0;34m)\u001b[0m\u001b[0;34m:\u001b[0m\u001b[0;34m\u001b[0m\u001b[0;34m\u001b[0m\u001b[0m\n",
            "\u001b[0;32m/usr/local/lib/python3.6/dist-packages/keras/backend/tensorflow_backend.py\u001b[0m in \u001b[0;36m__call__\u001b[0;34m(self, inputs)\u001b[0m\n\u001b[1;32m   2713\u001b[0m                 \u001b[0;32mreturn\u001b[0m \u001b[0mself\u001b[0m\u001b[0;34m.\u001b[0m\u001b[0m_legacy_call\u001b[0m\u001b[0;34m(\u001b[0m\u001b[0minputs\u001b[0m\u001b[0;34m)\u001b[0m\u001b[0;34m\u001b[0m\u001b[0;34m\u001b[0m\u001b[0m\n\u001b[1;32m   2714\u001b[0m \u001b[0;34m\u001b[0m\u001b[0m\n\u001b[0;32m-> 2715\u001b[0;31m             \u001b[0;32mreturn\u001b[0m \u001b[0mself\u001b[0m\u001b[0;34m.\u001b[0m\u001b[0m_call\u001b[0m\u001b[0;34m(\u001b[0m\u001b[0minputs\u001b[0m\u001b[0;34m)\u001b[0m\u001b[0;34m\u001b[0m\u001b[0;34m\u001b[0m\u001b[0m\n\u001b[0m\u001b[1;32m   2716\u001b[0m         \u001b[0;32melse\u001b[0m\u001b[0;34m:\u001b[0m\u001b[0;34m\u001b[0m\u001b[0;34m\u001b[0m\u001b[0m\n\u001b[1;32m   2717\u001b[0m             \u001b[0;32mif\u001b[0m \u001b[0mpy_any\u001b[0m\u001b[0;34m(\u001b[0m\u001b[0mis_tensor\u001b[0m\u001b[0;34m(\u001b[0m\u001b[0mx\u001b[0m\u001b[0;34m)\u001b[0m \u001b[0;32mfor\u001b[0m \u001b[0mx\u001b[0m \u001b[0;32min\u001b[0m \u001b[0minputs\u001b[0m\u001b[0;34m)\u001b[0m\u001b[0;34m:\u001b[0m\u001b[0;34m\u001b[0m\u001b[0;34m\u001b[0m\u001b[0m\n",
            "\u001b[0;32m/usr/local/lib/python3.6/dist-packages/keras/backend/tensorflow_backend.py\u001b[0m in \u001b[0;36m_call\u001b[0;34m(self, inputs)\u001b[0m\n\u001b[1;32m   2673\u001b[0m             \u001b[0mfetched\u001b[0m \u001b[0;34m=\u001b[0m \u001b[0mself\u001b[0m\u001b[0;34m.\u001b[0m\u001b[0m_callable_fn\u001b[0m\u001b[0;34m(\u001b[0m\u001b[0;34m*\u001b[0m\u001b[0marray_vals\u001b[0m\u001b[0;34m,\u001b[0m \u001b[0mrun_metadata\u001b[0m\u001b[0;34m=\u001b[0m\u001b[0mself\u001b[0m\u001b[0;34m.\u001b[0m\u001b[0mrun_metadata\u001b[0m\u001b[0;34m)\u001b[0m\u001b[0;34m\u001b[0m\u001b[0;34m\u001b[0m\u001b[0m\n\u001b[1;32m   2674\u001b[0m         \u001b[0;32melse\u001b[0m\u001b[0;34m:\u001b[0m\u001b[0;34m\u001b[0m\u001b[0;34m\u001b[0m\u001b[0m\n\u001b[0;32m-> 2675\u001b[0;31m             \u001b[0mfetched\u001b[0m \u001b[0;34m=\u001b[0m \u001b[0mself\u001b[0m\u001b[0;34m.\u001b[0m\u001b[0m_callable_fn\u001b[0m\u001b[0;34m(\u001b[0m\u001b[0;34m*\u001b[0m\u001b[0marray_vals\u001b[0m\u001b[0;34m)\u001b[0m\u001b[0;34m\u001b[0m\u001b[0;34m\u001b[0m\u001b[0m\n\u001b[0m\u001b[1;32m   2676\u001b[0m         \u001b[0;32mreturn\u001b[0m \u001b[0mfetched\u001b[0m\u001b[0;34m[\u001b[0m\u001b[0;34m:\u001b[0m\u001b[0mlen\u001b[0m\u001b[0;34m(\u001b[0m\u001b[0mself\u001b[0m\u001b[0;34m.\u001b[0m\u001b[0moutputs\u001b[0m\u001b[0;34m)\u001b[0m\u001b[0;34m]\u001b[0m\u001b[0;34m\u001b[0m\u001b[0;34m\u001b[0m\u001b[0m\n\u001b[1;32m   2677\u001b[0m \u001b[0;34m\u001b[0m\u001b[0m\n",
            "\u001b[0;32m/usr/local/lib/python3.6/dist-packages/tensorflow/python/client/session.py\u001b[0m in \u001b[0;36m__call__\u001b[0;34m(self, *args, **kwargs)\u001b[0m\n\u001b[1;32m   1456\u001b[0m         ret = tf_session.TF_SessionRunCallable(self._session._session,\n\u001b[1;32m   1457\u001b[0m                                                \u001b[0mself\u001b[0m\u001b[0;34m.\u001b[0m\u001b[0m_handle\u001b[0m\u001b[0;34m,\u001b[0m \u001b[0margs\u001b[0m\u001b[0;34m,\u001b[0m\u001b[0;34m\u001b[0m\u001b[0;34m\u001b[0m\u001b[0m\n\u001b[0;32m-> 1458\u001b[0;31m                                                run_metadata_ptr)\n\u001b[0m\u001b[1;32m   1459\u001b[0m         \u001b[0;32mif\u001b[0m \u001b[0mrun_metadata\u001b[0m\u001b[0;34m:\u001b[0m\u001b[0;34m\u001b[0m\u001b[0;34m\u001b[0m\u001b[0m\n\u001b[1;32m   1460\u001b[0m           \u001b[0mproto_data\u001b[0m \u001b[0;34m=\u001b[0m \u001b[0mtf_session\u001b[0m\u001b[0;34m.\u001b[0m\u001b[0mTF_GetBuffer\u001b[0m\u001b[0;34m(\u001b[0m\u001b[0mrun_metadata_ptr\u001b[0m\u001b[0;34m)\u001b[0m\u001b[0;34m\u001b[0m\u001b[0;34m\u001b[0m\u001b[0m\n",
            "\u001b[0;31mKeyboardInterrupt\u001b[0m: "
          ]
        }
      ]
    },
    {
      "cell_type": "code",
      "metadata": {
        "id": "a1dwUpf4YVlj",
        "colab_type": "code",
        "outputId": "66c1de09-84a9-4eef-b9a7-1925b2c46115",
        "colab": {
          "base_uri": "https://localhost:8080/",
          "height": 829
        }
      },
      "source": [
        "################################################################################\n",
        "# 복사해서 수정!!!\n",
        "################################################################################\n",
        "\n",
        "from keras.callbacks import EarlyStopping\n",
        "\n",
        "es = EarlyStopping(monitor = 'val_loss',\n",
        "                  min_delta = 0, # 개선되고 있다고 판단하기 위한 최소 변화량\n",
        "                  patience = 10, # 개선 없는 epoch 얼마나 기달려 줄거야?\n",
        "                  verbose = 1\n",
        "                  )\n",
        "\n",
        "\n",
        "# 데이터를 넣어서 학습시키자!\n",
        "history = model.fit(train_x, train_y, epochs=20000, batch_size = 2000,\n",
        "                    validation_split = 0.2, verbose=1,\n",
        "                   callbacks = [es])"
      ],
      "execution_count": 0,
      "outputs": [
        {
          "output_type": "stream",
          "text": [
            "Train on 40000 samples, validate on 10000 samples\n",
            "Epoch 1/20000\n",
            "40000/40000 [==============================] - 2s 50us/step - loss: 0.6850 - acc: 0.8613 - val_loss: 1.3920 - val_acc: 0.5436\n",
            "Epoch 2/20000\n",
            "40000/40000 [==============================] - 2s 50us/step - loss: 0.6815 - acc: 0.8625 - val_loss: 1.3982 - val_acc: 0.5356\n",
            "Epoch 3/20000\n",
            "40000/40000 [==============================] - 2s 49us/step - loss: 0.6810 - acc: 0.8626 - val_loss: 1.3735 - val_acc: 0.5468\n",
            "Epoch 4/20000\n",
            "40000/40000 [==============================] - 2s 50us/step - loss: 0.6772 - acc: 0.8641 - val_loss: 1.3771 - val_acc: 0.5441\n",
            "Epoch 5/20000\n",
            "40000/40000 [==============================] - 2s 49us/step - loss: 0.6707 - acc: 0.8646 - val_loss: 1.3825 - val_acc: 0.5411\n",
            "Epoch 6/20000\n",
            "40000/40000 [==============================] - 2s 49us/step - loss: 0.6672 - acc: 0.8669 - val_loss: 1.3880 - val_acc: 0.5414\n",
            "Epoch 7/20000\n",
            "40000/40000 [==============================] - 2s 49us/step - loss: 0.6637 - acc: 0.8684 - val_loss: 1.3769 - val_acc: 0.5533\n",
            "Epoch 8/20000\n",
            "40000/40000 [==============================] - 2s 50us/step - loss: 0.6586 - acc: 0.8702 - val_loss: 1.3762 - val_acc: 0.5382\n",
            "Epoch 9/20000\n",
            "40000/40000 [==============================] - 2s 50us/step - loss: 0.6549 - acc: 0.8733 - val_loss: 1.3787 - val_acc: 0.5504\n",
            "Epoch 10/20000\n",
            "40000/40000 [==============================] - 2s 49us/step - loss: 0.6552 - acc: 0.8725 - val_loss: 1.4056 - val_acc: 0.5375\n",
            "Epoch 11/20000\n",
            "40000/40000 [==============================] - 2s 50us/step - loss: 0.6483 - acc: 0.8760 - val_loss: 1.3633 - val_acc: 0.5547\n",
            "Epoch 12/20000\n",
            "40000/40000 [==============================] - 2s 49us/step - loss: 0.6436 - acc: 0.8767 - val_loss: 1.4152 - val_acc: 0.5381\n",
            "Epoch 13/20000\n",
            "40000/40000 [==============================] - 2s 49us/step - loss: 0.6410 - acc: 0.8784 - val_loss: 1.4779 - val_acc: 0.4961\n",
            "Epoch 14/20000\n",
            "40000/40000 [==============================] - 2s 49us/step - loss: 0.6422 - acc: 0.8753 - val_loss: 1.3928 - val_acc: 0.5406\n",
            "Epoch 15/20000\n",
            "40000/40000 [==============================] - 2s 50us/step - loss: 0.6339 - acc: 0.8782 - val_loss: 1.4248 - val_acc: 0.5302\n",
            "Epoch 16/20000\n",
            "40000/40000 [==============================] - 2s 49us/step - loss: 0.6285 - acc: 0.8818 - val_loss: 1.3929 - val_acc: 0.5420\n",
            "Epoch 17/20000\n",
            "40000/40000 [==============================] - 2s 50us/step - loss: 0.6249 - acc: 0.8835 - val_loss: 1.3814 - val_acc: 0.5401\n",
            "Epoch 18/20000\n",
            "40000/40000 [==============================] - 2s 50us/step - loss: 0.6232 - acc: 0.8835 - val_loss: 1.4192 - val_acc: 0.5369\n",
            "Epoch 19/20000\n",
            "40000/40000 [==============================] - 2s 50us/step - loss: 0.6203 - acc: 0.8845 - val_loss: 1.3858 - val_acc: 0.5447\n",
            "Epoch 20/20000\n",
            "40000/40000 [==============================] - 2s 49us/step - loss: 0.6182 - acc: 0.8862 - val_loss: 1.4770 - val_acc: 0.5165\n",
            "Epoch 21/20000\n",
            "40000/40000 [==============================] - 2s 49us/step - loss: 0.6148 - acc: 0.8844 - val_loss: 1.4546 - val_acc: 0.5210\n",
            "Epoch 00021: early stopping\n"
          ],
          "name": "stdout"
        }
      ]
    },
    {
      "cell_type": "code",
      "metadata": {
        "id": "HEFalxVhJrvu",
        "colab_type": "code",
        "colab": {}
      },
      "source": [
        "performance_test = model.evaluate(test_x, test_y, batch_size = 100)\n",
        "\n",
        "print('Test Loss : {:.6f},  Test Accuracy : {:.3f}%'.format(performance_test[0], performance_test[1]*100))"
      ],
      "execution_count": 0,
      "outputs": []
    },
    {
      "cell_type": "code",
      "metadata": {
        "id": "E3pexEleJryC",
        "colab_type": "code",
        "colab": {}
      },
      "source": [
        "if not isinstance(history, dict):\n",
        "    history = history.history\n",
        "\n",
        "plt.plot(history['acc'])\n",
        "plt.plot(history['val_acc'])\n",
        "plt.title('Accuracy : Training vs Validation')\n",
        "plt.ylabel('Accuracy')\n",
        "plt.xlabel('Epoch')\n",
        "plt.legend(['Training', 'Validation'], loc=0)\n",
        "plt.show()"
      ],
      "execution_count": 0,
      "outputs": []
    },
    {
      "cell_type": "code",
      "metadata": {
        "id": "btFU0ZYtNkvf",
        "colab_type": "code",
        "colab": {}
      },
      "source": [
        "if not isinstance(history, dict):\n",
        "    history = history.history\n",
        "\n",
        "plt.plot(history['loss'])\n",
        "plt.plot(history['val_loss'])\n",
        "plt.title('Loss : Training vs Validation')\n",
        "plt.ylabel('Loss')\n",
        "plt.xlabel('Epoch')\n",
        "plt.legend(['Training', 'Validation'], loc=0)\n",
        "plt.show()"
      ],
      "execution_count": 0,
      "outputs": []
    },
    {
      "cell_type": "code",
      "metadata": {
        "id": "cqiymLX7Jr0a",
        "colab_type": "code",
        "colab": {}
      },
      "source": [
        ""
      ],
      "execution_count": 0,
      "outputs": []
    },
    {
      "cell_type": "code",
      "metadata": {
        "id": "qc3Ap5q_bNgN",
        "colab_type": "code",
        "colab": {}
      },
      "source": [
        "pred_train = model.predict(train_x)\n",
        "pred_test = model.predict(test_x)\n",
        "\n",
        "single_pred_train = pred_train.argmax(axis=1)\n",
        "single_pred_test = pred_test.argmax(axis=1)\n",
        "\n",
        "\n",
        "dnn_train_accuracy = accuracy_score(train_y.argmax(axis=1), single_pred_train)\n",
        "dnn_test_accuracy = accuracy_score(test_y.argmax(axis=1), single_pred_test)\n",
        "\n",
        "\n",
        "print('DNN Classifier')\n",
        "print('트레이닝 정확도 : {:.2f}%'.format(dnn_train_accuracy*100))\n",
        "print('테스트 정확도 : {:.2f}%'.format(dnn_test_accuracy*100))"
      ],
      "execution_count": 0,
      "outputs": []
    },
    {
      "cell_type": "code",
      "metadata": {
        "id": "4D5LN9iNR3aW",
        "colab_type": "code",
        "colab": {}
      },
      "source": [
        "'''\n",
        "성능 확인을 위해\n",
        "Ctrl+Enter를 이용하여\n",
        "반복 실행 해보자!\n",
        "'''\n",
        "\n",
        "id = rd.randrange(0,10000)\n",
        "\n",
        "print('id = {}'.format(id))\n",
        "print('다음 그림은 {} 입니다.'.format(labels[test_y.argmax(axis=1)[id]]))\n",
        "print('모델의 예측 : {}'.format(labels[single_pred_test[id]]))\n",
        "\n",
        "prob = np.floor(pred_test[id]*100).tolist()\n",
        "prob_dict = {}\n",
        "\n",
        "for idx, prob in enumerate(prob) :\n",
        "    prob_dict[ labels[idx] ] = prob\n",
        "\n",
        "print('모델의 카테고리별 확률 : ')\n",
        "print(prob_dict)\n",
        "\n",
        "if test_y.argmax(axis=1)[id] == single_pred_test[id] :\n",
        "    print('정답입니다')\n",
        "else : \n",
        "    print('틀렸어요')\n",
        "plt.imshow(test_x[id].reshape([32,32,-1]))\n",
        "plt.show()"
      ],
      "execution_count": 0,
      "outputs": []
    },
    {
      "cell_type": "code",
      "metadata": {
        "id": "XDm-YCj7VzIB",
        "colab_type": "code",
        "colab": {}
      },
      "source": [
        "'''\n",
        "틀린 것만 관찰해보자!\n",
        "\n",
        "Ctrl+Enter를 이용하여\n",
        "반복 실행 해보자!\n",
        "'''\n",
        "\n",
        "true_false = (test_y.argmax(axis=1) == single_pred_test)\n",
        "f_id = np.where(true_false == False)[0]\n",
        "f_n = len(f_id)\n",
        "\n",
        "id = f_id[rd.randrange(0,f_n)]\n",
        "\n",
        "\n",
        "print('id = {}'.format(id))\n",
        "print('다음 그림은 {} 입니다.'.format(labels[test_y.argmax(axis=1)[id]]))\n",
        "print('모델의 예측 : {}'.format(labels[single_pred_test[id]]))\n",
        "\n",
        "prob = np.floor(pred_test[id]*100).tolist()\n",
        "prob_dict = {}\n",
        "\n",
        "for idx, prob in enumerate(prob) :\n",
        "    prob_dict[ labels[idx] ] = prob\n",
        "\n",
        "print('모델의 카테고리별 확률 : ')\n",
        "print(prob_dict)\n",
        "\n",
        "if test_y.argmax(axis=1)[id] == single_pred_test[id] :\n",
        "    print('정답입니다')\n",
        "else : \n",
        "    print('틀렸어요')\n",
        "plt.imshow(test_x[id].reshape([32,32,-1]))\n",
        "plt.show()"
      ],
      "execution_count": 0,
      "outputs": []
    },
    {
      "cell_type": "code",
      "metadata": {
        "id": "moXMYdwatMvp",
        "colab_type": "code",
        "colab": {}
      },
      "source": [
        ""
      ],
      "execution_count": 0,
      "outputs": []
    },
    {
      "cell_type": "markdown",
      "metadata": {
        "id": "b6gWTgHvR3du",
        "colab_type": "text"
      },
      "source": [
        "## Now your turn!\n",
        "\n",
        "Fashion MNIST!\n",
        "\n",
        "배운 지식 총 동원하여 Fashion MNIST 데이터를 분류해보자."
      ]
    },
    {
      "cell_type": "code",
      "metadata": {
        "id": "qipvBzVOQqk7",
        "colab_type": "code",
        "colab": {}
      },
      "source": [
        "'''\n",
        "matplolib inline 명령어를 통해서\n",
        "matplot으로 그리는 플롯들을 주피터 노트북 내에서 볼 수 있게 해준다.\n",
        "포맷을 retina로 바꾸면 그래프의 화질이 훨씬 좋아진다.\n",
        "'''\n",
        "%matplotlib inline\n",
        "%config InlineBackend.figure_format = 'retina'\n",
        "\n",
        "'''\n",
        "라이브러리들을 불러오자.\n",
        "'''\n",
        "import numpy as np\n",
        "import pandas as pd\n",
        "import matplotlib.pyplot as plt\n",
        "import tensorflow as tf\n",
        "import keras\n",
        "\n",
        "from keras.utils import np_utils\n",
        "from keras.layers import Dense, BatchNormalization, Activation, Dropout\n",
        "from keras import layers, models\n",
        "\n",
        "import random as rd\n",
        "\n",
        "from sklearn.metrics import accuracy_score"
      ],
      "execution_count": 0,
      "outputs": []
    },
    {
      "cell_type": "code",
      "metadata": {
        "id": "ZvipkDuLU2Ek",
        "colab_type": "code",
        "colab": {}
      },
      "source": [
        "(train_x, train_y), (test_x, test_y) = tf.keras.datasets.fashion_mnist.load_data()"
      ],
      "execution_count": 0,
      "outputs": []
    },
    {
      "cell_type": "code",
      "metadata": {
        "id": "1pkLkY99VAA0",
        "colab_type": "code",
        "colab": {}
      },
      "source": [
        "print(train_x.shape, train_y.shape, test_x.shape, test_y.shape)"
      ],
      "execution_count": 0,
      "outputs": []
    },
    {
      "cell_type": "code",
      "metadata": {
        "id": "WnCq9U5sVQwA",
        "colab_type": "code",
        "colab": {}
      },
      "source": [
        "labels = { 0 : 'T-shirt/top',\n",
        "          1 : 'Trouser',\n",
        "          2 : 'Pullover',\n",
        "          3 : 'Dress',\n",
        "          4 : 'Coat',\n",
        "          5 : 'Sandal',\n",
        "          6 : 'Shirt',\n",
        "          7 : 'Sneaker',\n",
        "          8 : 'Bag',\n",
        "          9 : 'Ankle boot' }\n",
        "\n",
        "print(labels)"
      ],
      "execution_count": 0,
      "outputs": []
    },
    {
      "cell_type": "code",
      "metadata": {
        "id": "XO7t2hV2VQ3c",
        "colab_type": "code",
        "colab": {}
      },
      "source": [
        "'''\n",
        "Ctrl+Enter를 이용하여\n",
        "반복 실행 해보자!\n",
        "'''\n",
        "\n",
        "id = rd.randrange(0,10000)\n",
        "\n",
        "print('id = {}'.format(id))\n",
        "print('다음 그림은 {} 입니다.'.format( labels[test_y[id]] ))\n",
        "plt.imshow(test_x[id])\n",
        "plt.show()"
      ],
      "execution_count": 0,
      "outputs": []
    },
    {
      "cell_type": "code",
      "metadata": {
        "id": "_JazjasTVly_",
        "colab_type": "code",
        "colab": {}
      },
      "source": [
        "train_x = train_x.reshape([train_x.shape[0],-1])\n",
        "test_x = test_x.reshape([test_x.shape[0],-1])\n",
        "\n",
        "print(train_x.shape, test_x.shape)"
      ],
      "execution_count": 0,
      "outputs": []
    },
    {
      "cell_type": "code",
      "metadata": {
        "id": "sOhbGJftVl5U",
        "colab_type": "code",
        "colab": {}
      },
      "source": [
        "# 혹시 이미 그려둔 그래프가 있다면 날려줘!\n",
        "keras.backend.clear_session()\n",
        "\n",
        "# model에 순차적으로 레이어를 쌓아가겠다는 의도!\n",
        "model = models.Sequential()\n",
        "\n",
        "# Sequential()을 사용하면, Input Layer는 자동으로 설계한다고 생각하면 됨!\n",
        "\n",
        "# 첫번째 Hidden 레이어를 add할 때는 input의 shape를 항상 정해줘야 한다!\n",
        "### 노드 수를 마음 껏 조절해보자!\n",
        "model.add( Dense(2048, input_shape=(3072,), name = 'Hidden1', # activation = 'relu',\n",
        "                kernel_initializer = 'glorot_uniform',\n",
        "                bias_initializer = 'glorot_uniform'))\n",
        "\n",
        "model.add(BatchNormalization())\n",
        "model.add(Activation('elu'))\n",
        "\n",
        "model.add( Dropout(0.1) )\n",
        "\n",
        "### 노드 수를 마음 껏 조절해보자!\n",
        "model.add( Dense(2048, name = 'Hidden2', # activation = 'relu',\n",
        "                kernel_initializer = 'glorot_uniform',\n",
        "                bias_initializer = 'glorot_uniform') )\n",
        "\n",
        "model.add(BatchNormalization())\n",
        "model.add(Activation('elu'))\n",
        "model.add( Dropout(0.1) )\n",
        "\n",
        "model.add( Dense(512, name = 'Hidden3', # activation = 'relu',\n",
        "                kernel_initializer = 'glorot_uniform',\n",
        "                bias_initializer = 'glorot_uniform') )\n",
        "model.add(BatchNormalization())\n",
        "model.add(Activation('elu'))\n",
        "model.add( Dropout(0.1) )\n",
        "\n",
        "# output Layer\n",
        "model.add( layers.Dense(10, name = 'OutputLayer', #activation = 'softmax'\n",
        "                       kernel_initializer = 'glorot_uniform',\n",
        "                       bias_initializer = 'glorot_uniform') )\n",
        "model.add(BatchNormalization())\n",
        "model.add(Activation('softmax'))"
      ],
      "execution_count": 0,
      "outputs": []
    },
    {
      "cell_type": "code",
      "metadata": {
        "id": "sXeYxR-dkXEo",
        "colab_type": "code",
        "colab": {}
      },
      "source": [
        "from keras import optimizers\n",
        "\n",
        "adam = optimizers.Adam(lr=0.0001) # lr을 조정해보자.\n",
        "\n",
        "# 컴파일 해주렴!\n",
        "model.compile(loss = 'categorical_crossentropy', optimizer = adam,\n",
        "              metrics =['accuracy'])"
      ],
      "execution_count": 0,
      "outputs": []
    },
    {
      "cell_type": "code",
      "metadata": {
        "id": "A7j5DJWkVl8A",
        "colab_type": "code",
        "outputId": "3e71e6e6-dcde-49fa-fd0e-6274993c1e65",
        "colab": {
          "base_uri": "https://localhost:8080/",
          "height": 683
        }
      },
      "source": [
        "model.summary()"
      ],
      "execution_count": 0,
      "outputs": [
        {
          "output_type": "stream",
          "text": [
            "_________________________________________________________________\n",
            "Layer (type)                 Output Shape              Param #   \n",
            "=================================================================\n",
            "Hidden1 (Dense)              (None, 2048)              6293504   \n",
            "_________________________________________________________________\n",
            "batch_normalization_1 (Batch (None, 2048)              8192      \n",
            "_________________________________________________________________\n",
            "activation_1 (Activation)    (None, 2048)              0         \n",
            "_________________________________________________________________\n",
            "dropout_1 (Dropout)          (None, 2048)              0         \n",
            "_________________________________________________________________\n",
            "Hidden2 (Dense)              (None, 2048)              4196352   \n",
            "_________________________________________________________________\n",
            "batch_normalization_2 (Batch (None, 2048)              8192      \n",
            "_________________________________________________________________\n",
            "activation_2 (Activation)    (None, 2048)              0         \n",
            "_________________________________________________________________\n",
            "dropout_2 (Dropout)          (None, 2048)              0         \n",
            "_________________________________________________________________\n",
            "Hidden3 (Dense)              (None, 512)               1049088   \n",
            "_________________________________________________________________\n",
            "batch_normalization_3 (Batch (None, 512)               2048      \n",
            "_________________________________________________________________\n",
            "activation_3 (Activation)    (None, 512)               0         \n",
            "_________________________________________________________________\n",
            "dropout_3 (Dropout)          (None, 512)               0         \n",
            "_________________________________________________________________\n",
            "OutputLayer (Dense)          (None, 10)                5130      \n",
            "_________________________________________________________________\n",
            "batch_normalization_4 (Batch (None, 10)                40        \n",
            "_________________________________________________________________\n",
            "activation_4 (Activation)    (None, 10)                0         \n",
            "=================================================================\n",
            "Total params: 11,562,546\n",
            "Trainable params: 11,553,310\n",
            "Non-trainable params: 9,236\n",
            "_________________________________________________________________\n"
          ],
          "name": "stdout"
        }
      ]
    },
    {
      "cell_type": "code",
      "metadata": {
        "id": "OHkUvUikVmAT",
        "colab_type": "code",
        "outputId": "7dc165bd-c69e-430c-99aa-250eca032c30",
        "colab": {
          "base_uri": "https://localhost:8080/",
          "height": 1000
        }
      },
      "source": [
        "from keras.callbacks import EarlyStopping\n",
        "\n",
        "es = EarlyStopping(monitor = 'val_loss',\n",
        "                  min_delta = 0, # 개선되고 있다고 판단하기 위한 최소 변화량\n",
        "                  patience = 10, # 개선 없는 epoch 얼마나 기달려 줄거야?\n",
        "                  verbose = 1\n",
        "                  )\n",
        "\n",
        "\n",
        "# 데이터를 넣어서 학습시키자!\n",
        "history = model.fit(train_x, train_y, epochs=20000, batch_size = 512,\n",
        "                    validation_split = 0.2, verbose=1,\n",
        "                    callbacks = [es])"
      ],
      "execution_count": 0,
      "outputs": [
        {
          "output_type": "stream",
          "text": [
            "Train on 40000 samples, validate on 10000 samples\n",
            "Epoch 1/20000\n",
            "40000/40000 [==============================] - 4s 101us/step - loss: 1.6485 - acc: 0.4354 - val_loss: 1.6866 - val_acc: 0.4232\n",
            "Epoch 2/20000\n",
            "40000/40000 [==============================] - 4s 95us/step - loss: 1.5334 - acc: 0.4849 - val_loss: 1.6719 - val_acc: 0.4193\n",
            "Epoch 3/20000\n",
            "40000/40000 [==============================] - 4s 96us/step - loss: 1.4705 - acc: 0.5150 - val_loss: 1.7364 - val_acc: 0.3895\n",
            "Epoch 4/20000\n",
            "40000/40000 [==============================] - 4s 96us/step - loss: 1.4168 - acc: 0.5398 - val_loss: 1.6534 - val_acc: 0.4373\n",
            "Epoch 5/20000\n",
            "40000/40000 [==============================] - 4s 93us/step - loss: 1.3780 - acc: 0.5593 - val_loss: 1.6529 - val_acc: 0.4482\n",
            "Epoch 6/20000\n",
            "40000/40000 [==============================] - 4s 95us/step - loss: 1.3451 - acc: 0.5729 - val_loss: 1.6621 - val_acc: 0.4157\n",
            "Epoch 7/20000\n",
            "40000/40000 [==============================] - 4s 94us/step - loss: 1.3020 - acc: 0.5908 - val_loss: 1.6270 - val_acc: 0.4391\n",
            "Epoch 8/20000\n",
            "40000/40000 [==============================] - 4s 93us/step - loss: 1.2774 - acc: 0.6044 - val_loss: 1.6748 - val_acc: 0.4176\n",
            "Epoch 9/20000\n",
            "40000/40000 [==============================] - 4s 95us/step - loss: 1.2475 - acc: 0.6169 - val_loss: 1.6292 - val_acc: 0.4369\n",
            "Epoch 10/20000\n",
            "40000/40000 [==============================] - 4s 94us/step - loss: 1.2280 - acc: 0.6257 - val_loss: 1.6573 - val_acc: 0.4256\n",
            "Epoch 11/20000\n",
            "40000/40000 [==============================] - 4s 94us/step - loss: 1.1875 - acc: 0.6462 - val_loss: 1.6114 - val_acc: 0.4385\n",
            "Epoch 12/20000\n",
            "40000/40000 [==============================] - 4s 96us/step - loss: 1.1669 - acc: 0.6552 - val_loss: 1.5308 - val_acc: 0.5064\n",
            "Epoch 13/20000\n",
            "40000/40000 [==============================] - 4s 97us/step - loss: 1.1439 - acc: 0.6654 - val_loss: 1.5173 - val_acc: 0.5115\n",
            "Epoch 14/20000\n",
            "40000/40000 [==============================] - 4s 95us/step - loss: 1.1154 - acc: 0.6802 - val_loss: 1.5442 - val_acc: 0.4646\n",
            "Epoch 15/20000\n",
            "40000/40000 [==============================] - 4s 96us/step - loss: 1.0899 - acc: 0.6898 - val_loss: 1.6837 - val_acc: 0.4455\n",
            "Epoch 16/20000\n",
            "40000/40000 [==============================] - 4s 96us/step - loss: 1.0697 - acc: 0.7015 - val_loss: 1.6267 - val_acc: 0.4666\n",
            "Epoch 17/20000\n",
            "40000/40000 [==============================] - 4s 98us/step - loss: 1.0502 - acc: 0.7099 - val_loss: 1.5099 - val_acc: 0.5032\n",
            "Epoch 18/20000\n",
            "40000/40000 [==============================] - 4s 96us/step - loss: 1.0186 - acc: 0.7230 - val_loss: 1.6073 - val_acc: 0.4644\n",
            "Epoch 19/20000\n",
            "40000/40000 [==============================] - 4s 94us/step - loss: 0.9982 - acc: 0.7348 - val_loss: 1.5669 - val_acc: 0.4858\n",
            "Epoch 20/20000\n",
            "40000/40000 [==============================] - 4s 96us/step - loss: 0.9798 - acc: 0.7445 - val_loss: 1.7097 - val_acc: 0.4380\n",
            "Epoch 21/20000\n",
            "40000/40000 [==============================] - 4s 96us/step - loss: 0.9629 - acc: 0.7492 - val_loss: 1.5057 - val_acc: 0.5028\n",
            "Epoch 22/20000\n",
            "40000/40000 [==============================] - 4s 101us/step - loss: 0.9360 - acc: 0.7615 - val_loss: 1.7018 - val_acc: 0.4255\n",
            "Epoch 23/20000\n",
            "40000/40000 [==============================] - 4s 95us/step - loss: 0.9184 - acc: 0.7696 - val_loss: 1.6475 - val_acc: 0.4355\n",
            "Epoch 24/20000\n",
            "40000/40000 [==============================] - 4s 94us/step - loss: 0.8987 - acc: 0.7800 - val_loss: 1.4848 - val_acc: 0.5167\n",
            "Epoch 25/20000\n",
            "40000/40000 [==============================] - 4s 95us/step - loss: 0.8831 - acc: 0.7839 - val_loss: 1.5572 - val_acc: 0.4914\n",
            "Epoch 26/20000\n",
            "40000/40000 [==============================] - 4s 94us/step - loss: 0.8640 - acc: 0.7907 - val_loss: 1.7998 - val_acc: 0.4019\n",
            "Epoch 27/20000\n",
            "40000/40000 [==============================] - 4s 95us/step - loss: 0.8417 - acc: 0.8038 - val_loss: 1.7113 - val_acc: 0.4116\n",
            "Epoch 28/20000\n",
            "40000/40000 [==============================] - 4s 95us/step - loss: 0.8240 - acc: 0.8081 - val_loss: 1.5405 - val_acc: 0.4848\n",
            "Epoch 29/20000\n",
            "40000/40000 [==============================] - 4s 95us/step - loss: 0.8018 - acc: 0.8197 - val_loss: 1.7755 - val_acc: 0.4548\n",
            "Epoch 30/20000\n",
            "40000/40000 [==============================] - 4s 103us/step - loss: 0.7921 - acc: 0.8207 - val_loss: 1.6562 - val_acc: 0.4688\n",
            "Epoch 31/20000\n",
            "40000/40000 [==============================] - 4s 96us/step - loss: 0.7751 - acc: 0.8280 - val_loss: 1.5167 - val_acc: 0.5107\n",
            "Epoch 32/20000\n",
            "40000/40000 [==============================] - 4s 97us/step - loss: 0.7514 - acc: 0.8402 - val_loss: 1.4778 - val_acc: 0.5051\n",
            "Epoch 33/20000\n",
            "40000/40000 [==============================] - 4s 96us/step - loss: 0.7335 - acc: 0.8459 - val_loss: 2.1057 - val_acc: 0.3558\n",
            "Epoch 34/20000\n",
            "40000/40000 [==============================] - 4s 96us/step - loss: 0.7300 - acc: 0.8460 - val_loss: 1.6336 - val_acc: 0.4564\n",
            "Epoch 35/20000\n",
            "40000/40000 [==============================] - 4s 96us/step - loss: 0.7048 - acc: 0.8587 - val_loss: 1.5552 - val_acc: 0.4837\n",
            "Epoch 36/20000\n",
            "40000/40000 [==============================] - 4s 96us/step - loss: 0.6866 - acc: 0.8652 - val_loss: 1.4409 - val_acc: 0.5350\n",
            "Epoch 37/20000\n",
            "40000/40000 [==============================] - 4s 95us/step - loss: 0.6781 - acc: 0.8666 - val_loss: 1.5574 - val_acc: 0.4805\n",
            "Epoch 38/20000\n",
            "40000/40000 [==============================] - 4s 95us/step - loss: 0.6638 - acc: 0.8717 - val_loss: 1.5391 - val_acc: 0.4762\n",
            "Epoch 39/20000\n",
            "40000/40000 [==============================] - 4s 96us/step - loss: 0.6478 - acc: 0.8778 - val_loss: 1.7563 - val_acc: 0.4432\n",
            "Epoch 40/20000\n",
            "40000/40000 [==============================] - 4s 96us/step - loss: 0.6436 - acc: 0.8774 - val_loss: 1.6569 - val_acc: 0.4570\n",
            "Epoch 41/20000\n",
            "40000/40000 [==============================] - 4s 95us/step - loss: 0.6223 - acc: 0.8876 - val_loss: 1.5050 - val_acc: 0.5080\n",
            "Epoch 42/20000\n",
            "40000/40000 [==============================] - 4s 95us/step - loss: 0.6089 - acc: 0.8912 - val_loss: 1.6560 - val_acc: 0.4570\n",
            "Epoch 43/20000\n",
            "40000/40000 [==============================] - 4s 95us/step - loss: 0.5982 - acc: 0.8964 - val_loss: 1.7362 - val_acc: 0.4327\n",
            "Epoch 44/20000\n",
            "40000/40000 [==============================] - 4s 96us/step - loss: 0.5819 - acc: 0.9003 - val_loss: 1.5552 - val_acc: 0.4852\n",
            "Epoch 45/20000\n",
            "40000/40000 [==============================] - 4s 96us/step - loss: 0.5721 - acc: 0.9046 - val_loss: 1.6579 - val_acc: 0.4514\n",
            "Epoch 46/20000\n",
            "40000/40000 [==============================] - 4s 96us/step - loss: 0.5536 - acc: 0.9114 - val_loss: 1.5831 - val_acc: 0.4829\n",
            "Epoch 00046: early stopping\n"
          ],
          "name": "stdout"
        }
      ]
    },
    {
      "cell_type": "code",
      "metadata": {
        "id": "s9RfJIGHkbOF",
        "colab_type": "code",
        "colab": {}
      },
      "source": [
        ""
      ],
      "execution_count": 0,
      "outputs": []
    }
  ]
}
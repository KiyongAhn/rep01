{
  "nbformat": 4,
  "nbformat_minor": 0,
  "metadata": {
    "colab": {
      "name": "33_AutoEncoder101.ipynb",
      "version": "0.3.2",
      "provenance": [],
      "collapsed_sections": [
        "h4gAXjW_eUVD",
        "4CTKaoDGopYM"
      ],
      "include_colab_link": true
    },
    "kernelspec": {
      "name": "python3",
      "display_name": "Python 3"
    },
    "accelerator": "GPU"
  },
  "cells": [
    {
      "cell_type": "markdown",
      "metadata": {
        "id": "view-in-github",
        "colab_type": "text"
      },
      "source": [
        "<a href=\"https://colab.research.google.com/github/KiyongAhn/rep01/blob/master/33_AutoEncoder101.ipynb\" target=\"_parent\"><img src=\"https://colab.research.google.com/assets/colab-badge.svg\" alt=\"Open In Colab\"/></a>"
      ]
    },
    {
      "cell_type": "markdown",
      "metadata": {
        "id": "HZc219MFFibh",
        "colab_type": "text"
      },
      "source": [
        "# AutoEncoder 101\n",
        "\n",
        "### Your name :\n",
        "\n",
        "#### 딥러닝의 세상에 한 발자국 더!\n",
        "\n",
        "![AE](https://www.curiousily.com/media/data-imputation-2/mushroom_encoder.png)\n",
        "--------------------------\n",
        "Rayleigh Kim @ D:plus"
      ]
    },
    {
      "cell_type": "markdown",
      "metadata": {
        "id": "znKrJphvSBVF",
        "colab_type": "text"
      },
      "source": [
        "### 빌려온 전처리용 파일들"
      ]
    },
    {
      "cell_type": "markdown",
      "metadata": {
        "id": "h4I9DhjgKcsK",
        "colab_type": "text"
      },
      "source": [
        "[LFW](http://vis-www.cs.umass.edu/lfw/)라는 데이터 셋으로 연습을 할 예정!\n",
        "\n",
        "Coursera의 [Introduction to Deep Learning](https://www.coursera.org/learn/intro-to-deep-learning) 강의에서 사용한 전처리 도구들을 빌려 사용할 예정!\n",
        "\n",
        "**직접 전처리 하다가는 하루도 모자람.**"
      ]
    },
    {
      "cell_type": "code",
      "metadata": {
        "id": "5z1N-NnvPGUu",
        "colab_type": "code",
        "colab": {}
      },
      "source": [
        "!git clone https://github.com/hse-aml/intro-to-dl.git"
      ],
      "execution_count": 0,
      "outputs": []
    },
    {
      "cell_type": "code",
      "metadata": {
        "id": "pLIh_TQOQnTo",
        "colab_type": "code",
        "colab": {}
      },
      "source": [
        "cd intro-to-dl"
      ],
      "execution_count": 0,
      "outputs": []
    },
    {
      "cell_type": "code",
      "metadata": {
        "id": "YGMQRqT0QpFm",
        "colab_type": "code",
        "colab": {}
      },
      "source": [
        "!pip install tqdm\n",
        "!pip install ipywidgets\n",
        "\n",
        "import tqdm\n",
        "import ipywidgets\n",
        "from IPython.display import clear_output\n",
        "clear_output()"
      ],
      "execution_count": 0,
      "outputs": []
    },
    {
      "cell_type": "code",
      "metadata": {
        "id": "GERGJUagQria",
        "colab_type": "code",
        "colab": {}
      },
      "source": [
        "from download_utils import sequential_downloader as sd\n",
        "\n",
        "sd(    \"v0.4\",\n",
        "    [\n",
        "        \"lfw-deepfunneled.tgz\",\n",
        "        \"lfw.tgz\",\n",
        "        \"lfw_attributes.txt\"\n",
        "    ],\n",
        "    \"./week4\")"
      ],
      "execution_count": 0,
      "outputs": []
    },
    {
      "cell_type": "code",
      "metadata": {
        "id": "wpXdLqWpR16s",
        "colab_type": "code",
        "colab": {}
      },
      "source": [
        "cd week4"
      ],
      "execution_count": 0,
      "outputs": []
    },
    {
      "cell_type": "markdown",
      "metadata": {
        "id": "LpVns20lSKm8",
        "colab_type": "text"
      },
      "source": [
        "## 라이브러리 로딩"
      ]
    },
    {
      "cell_type": "code",
      "metadata": {
        "id": "SSLSF0YCSWzo",
        "colab_type": "code",
        "colab": {}
      },
      "source": [
        "import sys\n",
        "sys.path.append(\"..\")"
      ],
      "execution_count": 0,
      "outputs": []
    },
    {
      "cell_type": "code",
      "metadata": {
        "id": "EQnQofruSKj0",
        "colab_type": "code",
        "colab": {}
      },
      "source": [
        "import tensorflow as tf\n",
        "\n",
        "import keras, keras.layers as L, keras.backend as K\n",
        "\n",
        "import numpy as np\n",
        "from sklearn.model_selection import train_test_split\n",
        "from lfw_dataset import load_lfw_dataset\n",
        "%matplotlib inline\n",
        "import matplotlib.pyplot as plt\n",
        "import download_utils\n",
        "import keras_utils\n",
        "import numpy as np\n",
        "\n",
        "import random"
      ],
      "execution_count": 0,
      "outputs": []
    },
    {
      "cell_type": "markdown",
      "metadata": {
        "id": "Z7mhqx1eSKgl",
        "colab_type": "text"
      },
      "source": [
        "## Data Loading"
      ]
    },
    {
      "cell_type": "code",
      "metadata": {
        "id": "5fLjZRXSSgKi",
        "colab_type": "code",
        "colab": {}
      },
      "source": [
        "X, attr = load_lfw_dataset(use_raw=True, dimx=32, dimy=32)\n",
        "IMG_SHAPE = X.shape[1:]\n",
        "\n",
        "# Scaling\n",
        "X = X.astype('float32') / 255\n",
        "\n",
        "# Split\n",
        "train_x, test_x = train_test_split(X, test_size = 0.1, random_state=2018)\n",
        "\n",
        "# try to free memory\n",
        "del X\n",
        "import gc\n",
        "gc.collect()"
      ],
      "execution_count": 0,
      "outputs": []
    },
    {
      "cell_type": "code",
      "metadata": {
        "id": "RiE31bvPToQJ",
        "colab_type": "code",
        "colab": {}
      },
      "source": [
        "## 반복 실행해보면, 어떤 얼굴들이 있는지 구경할 수 있다!\n",
        "\n",
        "random_ids = random.sample(range(0,11828), 6)\n",
        "\n",
        "for i in range(6):\n",
        "    plt.subplot(2,3,i+1)\n",
        "    plt.imshow(train_x[  random_ids[i] ])\n",
        "    \n",
        "print('train_x shape : ',train_x.shape )\n",
        "print('attr shape : ',attr.shape)"
      ],
      "execution_count": 0,
      "outputs": []
    },
    {
      "cell_type": "code",
      "metadata": {
        "id": "SHZtx5Z0TheW",
        "colab_type": "code",
        "colab": {}
      },
      "source": [
        "attr.head()"
      ],
      "execution_count": 0,
      "outputs": []
    },
    {
      "cell_type": "markdown",
      "metadata": {
        "id": "zbrjmd-TXL7P",
        "colab_type": "text"
      },
      "source": [
        "## First, Simple Auto Encoder"
      ]
    },
    {
      "cell_type": "code",
      "metadata": {
        "id": "xIcc5zkdYQyx",
        "colab_type": "code",
        "colab": {}
      },
      "source": [
        "print(IMG_SHAPE)"
      ],
      "execution_count": 0,
      "outputs": []
    },
    {
      "cell_type": "code",
      "metadata": {
        "id": "qHGX0NtzX7Th",
        "colab_type": "code",
        "colab": {}
      },
      "source": [
        "# 혹시 이미 그려둔 그래프가 있다면 날려줘!\n",
        "keras.backend.clear_session()\n",
        "\n",
        "\n",
        "# Encoder!\n",
        "\n",
        "encoder = keras.models.Sequential()\n",
        "encoder.add(L.InputLayer(IMG_SHAPE))\n",
        "encoder.add(L.Flatten())   ## 40*40*3개\n",
        "encoder.add(L.Dense( 64 )) ## 64개의 숫자로 데이터를 축소! 인코딩!\n",
        "\n",
        "# Decoder!\n",
        "\n",
        "decoder = keras.models.Sequential()\n",
        "decoder.add(L.InputLayer((64,  )  ))  ## 64개의 숫자로 인코딩된 벡터로 부터.\n",
        "decoder.add(L.Dense( np.prod(IMG_SHAPE)     ))  ## Decoder!, 48*48*4개 노드 복원\n",
        "decoder.add(L.Reshape(IMG_SHAPE)) ## Flatten 해제. 다시 이미지로.\n",
        "\n",
        "\n",
        "# 인코더와 디코더 결합\n",
        "inp = L.Input(IMG_SHAPE)\n",
        "code = encoder(inp)\n",
        "reconstruction = decoder(code)\n",
        "\n",
        "autoencoder = keras.models.Model(inputs = inp, outputs=reconstruction)\n",
        "autoencoder.compile(optimizer='adamax', loss='mse')\n",
        "\n",
        "# 요약\n",
        "autoencoder.summary()"
      ],
      "execution_count": 0,
      "outputs": []
    },
    {
      "cell_type": "code",
      "metadata": {
        "id": "VakEoNF_ZymO",
        "colab_type": "code",
        "colab": {}
      },
      "source": [
        "# 학습!\n",
        "\n",
        "autoencoder.fit(x = train_x, y = train_x, epochs = 20,\n",
        "               validation_split = 0.1, verbose = 1)"
      ],
      "execution_count": 0,
      "outputs": []
    },
    {
      "cell_type": "code",
      "metadata": {
        "id": "QjLGpEwxXL-o",
        "colab_type": "code",
        "colab": {}
      },
      "source": [
        "def show_image(x):\n",
        "    plt.imshow(np.clip(x, 0, 1))\n",
        "\n",
        "def visualize(img,encoder,decoder):\n",
        "    \"\"\"Draws original, encoded and decoded images\"\"\"\n",
        "    code = encoder.predict(img[None])[0]  # img[None] is the same as img[np.newaxis, :]\n",
        "    reco = decoder.predict(code[None])[0]\n",
        "\n",
        "    plt.subplot(1,3,1)\n",
        "    plt.title(\"Original\")\n",
        "    show_image(img)\n",
        "\n",
        "    plt.subplot(1,3,2)\n",
        "    plt.title(\"Code\")\n",
        "    plt.imshow(code.reshape([code.shape[-1]//2,-1]))\n",
        "\n",
        "    plt.subplot(1,3,3)\n",
        "    plt.title(\"Reconstructed\")\n",
        "    show_image(reco)\n",
        "    plt.show()\n"
      ],
      "execution_count": 0,
      "outputs": []
    },
    {
      "cell_type": "code",
      "metadata": {
        "id": "rSWHnrFVa_sm",
        "colab_type": "code",
        "colab": {}
      },
      "source": [
        "score = autoencoder.evaluate(test_x, test_x, verbose = 1)\n",
        "print('MSE : ', score)\n"
      ],
      "execution_count": 0,
      "outputs": []
    },
    {
      "cell_type": "code",
      "metadata": {
        "id": "gN4YTooAbN6m",
        "colab_type": "code",
        "colab": {}
      },
      "source": [
        "random_ids = random.sample(range(1315), 5)\n",
        "for i in range(5) :\n",
        "    img = test_x[random_ids[i]]\n",
        "    visualize(img,encoder, decoder)"
      ],
      "execution_count": 0,
      "outputs": []
    },
    {
      "cell_type": "markdown",
      "metadata": {
        "id": "m9iTLTZv7Y_t",
        "colab_type": "text"
      },
      "source": [
        "## Second, Convolutional AutoEncoder"
      ]
    },
    {
      "cell_type": "code",
      "metadata": {
        "id": "r_oCATj7cW33",
        "colab_type": "code",
        "colab": {}
      },
      "source": [
        "# 혹시 이미 그려둔 그래프가 있다면 날려줘!\n",
        "keras.backend.clear_session()\n",
        "\n",
        "\n",
        "H,W,C = IMG_SHAPE\n",
        "\n",
        "# Encoder!\n",
        "\n",
        "encoder = keras.models.Sequential()\n",
        "encoder.add(L.InputLayer(IMG_SHAPE))\n",
        "\n",
        "encoder.add(L.Conv2D(filters=32, kernel_size=(5, 5), padding='same', activation='elu'))\n",
        "encoder.add(L.MaxPooling2D(pool_size=(2, 2)))\n",
        "\n",
        "encoder.add(L.Conv2D(filters=64, kernel_size=(3, 3), padding='same', activation='elu'))\n",
        "encoder.add(L.MaxPooling2D(pool_size=(2, 2)))\n",
        "\n",
        "encoder.add(L.Conv2D(filters=128, kernel_size=(3, 3), padding='same', activation='elu'))\n",
        "encoder.add(L.MaxPooling2D(pool_size=(2, 2)))\n",
        "\n",
        "encoder.add(L.Conv2D(filters=256, kernel_size=(3, 3), padding='same', activation='elu'))\n",
        "encoder.add(L.MaxPooling2D(pool_size=(2, 2)))\n",
        "\n",
        "\n",
        "encoder.add(L.Flatten())\n",
        "encoder.add(L.Dense( 64 , activation = 'elu')) ## 64개의 숫자로 데이터를 축소! 인코딩!\n",
        "\n",
        "# Decoder!\n",
        "\n",
        "decoder = keras.models.Sequential()\n",
        "decoder.add(L.InputLayer((64,  )  ))  ## 64개의 숫자로 인코딩된 벡터로 부터.\n",
        "\n",
        "\n",
        "## 풀링 4번, -> 가로 세로 각각 2^4 만큼 축소\n",
        "\n",
        "# 128개의 벡터로 부터 -> L.Flatten() 레이어로 복원\n",
        "decoder.add(L.Dense(256 * H // (2 ** 4) * W // (2 ** 4))) \n",
        "\n",
        "# Flatten 해제\n",
        "decoder.add(L.Reshape((H // (2 ** 4), W // (2 ** 4), 256)))\n",
        "\n",
        "# Convolution 해제\n",
        "decoder.add(L.Conv2DTranspose(filters=128, kernel_size=(3, 3), strides=2, activation='elu', padding='same'))\n",
        "decoder.add(L.Conv2DTranspose(filters=64,  kernel_size=(3, 3), strides=2, activation='elu', padding='same'))\n",
        "decoder.add(L.Conv2DTranspose(filters=32,  kernel_size=(3, 3), strides=2, activation='elu', padding='same'))\n",
        "decoder.add(L.Conv2DTranspose(filters=3,   kernel_size=(5, 5), strides=2, activation=None,  padding='same'))\n",
        "    \n",
        "\n",
        "\n",
        "\n",
        "\n",
        "# 인코더와 디코더 결합\n",
        "inp = L.Input(IMG_SHAPE)\n",
        "code = encoder(inp)\n",
        "reconstruction = decoder(code)\n",
        "\n",
        "autoencoder = keras.models.Model(inputs = inp, outputs=reconstruction)\n",
        "autoencoder.compile(optimizer='adamax' , loss='mse')\n",
        "\n",
        "# 요약\n",
        "autoencoder.summary()\n",
        "encoder.summary()\n",
        "decoder.summary()"
      ],
      "execution_count": 0,
      "outputs": []
    },
    {
      "cell_type": "code",
      "metadata": {
        "id": "JWRn5i3MeUQX",
        "colab_type": "code",
        "colab": {}
      },
      "source": [
        "# 학습!\n",
        "\n",
        "autoencoder.fit(x = train_x, y = train_x, epochs = 40, batch_size= 2048,\n",
        "               validation_split = 0.1, verbose = 1)"
      ],
      "execution_count": 0,
      "outputs": []
    },
    {
      "cell_type": "code",
      "metadata": {
        "id": "lnf1XVs-e_9G",
        "colab_type": "code",
        "colab": {}
      },
      "source": [
        "score = autoencoder.evaluate(test_x, test_x, verbose = 1)\n",
        "print('MSE : ', score)"
      ],
      "execution_count": 0,
      "outputs": []
    },
    {
      "cell_type": "code",
      "metadata": {
        "id": "zZcj0fC7eUSu",
        "colab_type": "code",
        "colab": {}
      },
      "source": [
        "random_ids = random.sample(range(1315), 5)\n",
        "for i in range(5) :\n",
        "    img = test_x[random_ids[i]]\n",
        "    visualize(img,encoder, decoder)"
      ],
      "execution_count": 0,
      "outputs": []
    },
    {
      "cell_type": "markdown",
      "metadata": {
        "id": "h4gAXjW_eUVD",
        "colab_type": "text"
      },
      "source": [
        "## Denoising Autoencoder ( Your Turn! )"
      ]
    },
    {
      "cell_type": "code",
      "metadata": {
        "id": "-UT4IEEdeUXe",
        "colab_type": "code",
        "colab": {}
      },
      "source": [
        "def apply_gaussian_noise(X,sigma=0.1):\n",
        "    noise = np.random.normal(loc=0.0, scale = sigma, size = X.shape)\n",
        "    return X + noise"
      ],
      "execution_count": 0,
      "outputs": []
    },
    {
      "cell_type": "code",
      "metadata": {
        "id": "JCn0tBdagsav",
        "colab_type": "code",
        "colab": {}
      },
      "source": [
        "# test different noise scales\n",
        "plt.subplot(1,4,1)\n",
        "show_image(train_x[0])\n",
        "plt.subplot(1,4,2)\n",
        "show_image(apply_gaussian_noise(train_x[:1],sigma=0.01)[0])\n",
        "plt.subplot(1,4,3)\n",
        "show_image(apply_gaussian_noise(train_x[:1],sigma=0.1)[0])\n",
        "plt.subplot(1,4,4)\n",
        "show_image(apply_gaussian_noise(train_x[:1],sigma=0.5)[0])"
      ],
      "execution_count": 0,
      "outputs": []
    },
    {
      "cell_type": "code",
      "metadata": {
        "id": "phYwdpgteUZy",
        "colab_type": "code",
        "colab": {}
      },
      "source": [
        "train_x_noise = apply_gaussian_noise(train_x)\n",
        "test_x_noise = apply_gaussian_noise(test_x)"
      ],
      "execution_count": 0,
      "outputs": []
    },
    {
      "cell_type": "code",
      "metadata": {
        "id": "QF-PC3-FnjN-",
        "colab_type": "code",
        "colab": {}
      },
      "source": [
        "# 혹시 이미 그려둔 그래프가 있다면 날려줘!\n",
        "keras.backend.clear_session()\n",
        "\n",
        "\n",
        "H,W,C = IMG_SHAPE\n",
        "\n",
        "# Encoder!\n",
        "\n",
        "encoder = keras.models.Sequential()\n",
        "encoder.add(L.InputLayer(IMG_SHAPE))\n",
        "\n",
        "\n",
        "\n",
        "\n",
        "\n",
        "\n",
        "\n",
        "encoder.add(L.Flatten())\n",
        "encoder.add(L.Dense( 512 , activation = 'elu')) ## 512개의 숫자로 데이터를 축소! 인코딩!\n",
        "\n",
        "# Decoder!\n",
        "\n",
        "decoder = keras.models.Sequential()\n",
        "decoder.add(L.InputLayer((512,  )  ))  ## 512개의 숫자로 인코딩된 벡터로 부터.\n",
        "\n",
        "\n",
        "## 풀링 4번, -> 가로 세로 각각 2^4 만큼 축소\n",
        "\n",
        "# 128개의 벡터로 부터 -> L.Flatten() 레이어로 복원\n",
        "\n",
        "n =  # 풀링 횟수\n",
        "decoder.add(L.Dense(256 * H // (2 ** n) * W // (2 ** n))) \n",
        "\n",
        "# Flatten 해제\n",
        "decoder.add(L.Reshape((H // (2 ** n), W // (2 ** n), 256)))\n",
        "\n",
        "# Convolution 해제\n",
        "\n",
        "\n",
        "\n",
        "# 인코더와 디코더 결합\n",
        "inp = L.Input(IMG_SHAPE)\n",
        "code = encoder(inp)\n",
        "reconstruction = decoder(code)\n",
        "\n",
        "autoencoder = keras.models.Model(inputs = inp, outputs=reconstruction)\n",
        "autoencoder.compile(optimizer='adamax' , loss='mse')\n",
        "\n",
        "# 요약\n",
        "autoencoder.summary()\n",
        "encoder.summary()\n",
        "decoder.summary()"
      ],
      "execution_count": 0,
      "outputs": []
    },
    {
      "cell_type": "code",
      "metadata": {
        "id": "6VCnQMtMoB8_",
        "colab_type": "code",
        "colab": {}
      },
      "source": [
        "# 학습!\n",
        "\n",
        "autoencoder.fit(x = train_x_noise, y = train_x, epochs = 40, batch_size= 2048,\n",
        "               validation_split = 0.1, verbose = 1)"
      ],
      "execution_count": 0,
      "outputs": []
    },
    {
      "cell_type": "code",
      "metadata": {
        "id": "LtQGR2xtoCCo",
        "colab_type": "code",
        "colab": {}
      },
      "source": [
        "score = autoencoder.evaluate(test_x_noise, test_x, verbose = 1)\n",
        "print('MSE : ', score)"
      ],
      "execution_count": 0,
      "outputs": []
    },
    {
      "cell_type": "code",
      "metadata": {
        "id": "1q1pIbkZoCQC",
        "colab_type": "code",
        "colab": {}
      },
      "source": [
        "random_ids = random.sample(range(1315), 5)\n",
        "for i in range(5) :\n",
        "    img = test_x[random_ids[i]]\n",
        "    visualize(img,encoder, decoder)"
      ],
      "execution_count": 0,
      "outputs": []
    },
    {
      "cell_type": "markdown",
      "metadata": {
        "id": "4CTKaoDGopYM",
        "colab_type": "text"
      },
      "source": [
        "## Image retrieval with autoencoders"
      ]
    },
    {
      "cell_type": "code",
      "metadata": {
        "id": "eU33DI2povIN",
        "colab_type": "code",
        "colab": {}
      },
      "source": [
        "# 혹시 이미 그려둔 그래프가 있다면 날려줘!\n",
        "keras.backend.clear_session()\n",
        "\n",
        "\n",
        "# Encoder!\n",
        "\n",
        "encoder = keras.models.Sequential()\n",
        "encoder.add(L.InputLayer(IMG_SHAPE))\n",
        "encoder.add(L.Flatten())   ## 40*40*3개\n",
        "encoder.add(L.Dense( 64 )) ## 64개의 숫자로 데이터를 축소! 인코딩!\n",
        "\n",
        "# Decoder!\n",
        "\n",
        "decoder = keras.models.Sequential()\n",
        "decoder.add(L.InputLayer((64,  )  ))  ## 64개의 숫자로 인코딩된 벡터로 부터.\n",
        "decoder.add(L.Dense( np.prod(IMG_SHAPE)     ))  ## Decoder!, 48*48*4개 노드 복원\n",
        "decoder.add(L.Reshape(IMG_SHAPE)) ## Flatten 해제. 다시 이미지로.\n",
        "\n",
        "\n",
        "# 인코더와 디코더 결합\n",
        "inp = L.Input(IMG_SHAPE)\n",
        "code = encoder(inp)\n",
        "reconstruction = decoder(code)\n",
        "\n",
        "autoencoder = keras.models.Model(inputs = inp, outputs=reconstruction)\n",
        "autoencoder.compile(optimizer='adamax', loss='mse')\n",
        "\n",
        "# 요약\n",
        "autoencoder.summary()"
      ],
      "execution_count": 0,
      "outputs": []
    },
    {
      "cell_type": "code",
      "metadata": {
        "id": "0YMBX5mfpEsY",
        "colab_type": "code",
        "colab": {}
      },
      "source": [
        "# 학습!\n",
        "\n",
        "autoencoder.fit(x = train_x, y = train_x, epochs = 20,\n",
        "               validation_split = 0.1, verbose = 1)"
      ],
      "execution_count": 0,
      "outputs": []
    },
    {
      "cell_type": "code",
      "metadata": {
        "id": "oPVKjULzovOP",
        "colab_type": "code",
        "colab": {}
      },
      "source": [
        "#### 인코딩된 벡터!\n",
        "images = train_x\n",
        "codes = encoder.predict(train_x)\n"
      ],
      "execution_count": 0,
      "outputs": []
    },
    {
      "cell_type": "code",
      "metadata": {
        "id": "lnMqMuF6pV4s",
        "colab_type": "code",
        "colab": {}
      },
      "source": [
        "from sklearn.neighbors.unsupervised import NearestNeighbors\n",
        "nei_clf = NearestNeighbors(metric=\"euclidean\")\n",
        "nei_clf.fit(codes)"
      ],
      "execution_count": 0,
      "outputs": []
    },
    {
      "cell_type": "code",
      "metadata": {
        "id": "erlxIiZppYii",
        "colab_type": "code",
        "colab": {}
      },
      "source": [
        "def get_similar(image, n_neighbors=5):\n",
        "    assert image.ndim==3,\"image must be [batch,height,width,3]\"\n",
        "\n",
        "    code = encoder.predict(image[None])\n",
        "    \n",
        "    (distances,),(idx,) = nei_clf.kneighbors(code,n_neighbors=n_neighbors)\n",
        "    \n",
        "    return distances,images[idx]"
      ],
      "execution_count": 0,
      "outputs": []
    },
    {
      "cell_type": "code",
      "metadata": {
        "id": "UgG2Jkh0pald",
        "colab_type": "code",
        "colab": {}
      },
      "source": [
        "def show_similar(image):\n",
        "    \n",
        "    distances,neighbors = get_similar(image,n_neighbors=3)\n",
        "    \n",
        "    plt.figure(figsize=[8,7])\n",
        "    plt.subplot(1,4,1)\n",
        "    show_image(image)\n",
        "    plt.title(\"Original image\")\n",
        "    \n",
        "    for i in range(3):\n",
        "        plt.subplot(1,4,i+2)\n",
        "        show_image(neighbors[i])\n",
        "        plt.title(\"Dist=%.3f\"%distances[i])\n",
        "    plt.show()"
      ],
      "execution_count": 0,
      "outputs": []
    },
    {
      "cell_type": "markdown",
      "metadata": {
        "id": "6mhVq2vHrH0A",
        "colab_type": "text"
      },
      "source": [
        "Exercise 1.\n",
        "\n",
        "아래 셀을 반복 실행 해가며,  \n",
        "\n",
        "정말 비슷한 이미지들이 나올 경우 picture ID를 기록하고,  새로운 셀에 시각화 하여 공유하자.\n",
        "\n",
        "* 5개의 ID를 찾아 공유 할 것.\n",
        "* 비슷하다고 느껴지는 이유를 말해볼 것."
      ]
    },
    {
      "cell_type": "code",
      "metadata": {
        "id": "jVpMMfYVpbyx",
        "colab_type": "code",
        "colab": {}
      },
      "source": [
        "#######################\n",
        "\n",
        "random_id = random.randrange(0,test_x.shape[0])\n",
        "\n",
        "print('Picture ID : ',random_id)\n",
        "show_similar(test_x[random_id])"
      ],
      "execution_count": 0,
      "outputs": []
    },
    {
      "cell_type": "code",
      "metadata": {
        "id": "1a-VbGihopkg",
        "colab_type": "code",
        "colab": {}
      },
      "source": [
        "###### 예시.\n",
        "# 얼굴 각도가 다 똑같음\n",
        "\n",
        "print('Picture ID : ',1154)\n",
        "show_similar(test_x[1154])"
      ],
      "execution_count": 0,
      "outputs": []
    },
    {
      "cell_type": "code",
      "metadata": {
        "id": "Uq0djv-Zrj0Y",
        "colab_type": "code",
        "colab": {}
      },
      "source": [
        ""
      ],
      "execution_count": 0,
      "outputs": []
    }
  ]
}